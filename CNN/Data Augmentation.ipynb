{
 "cells": [
  {
   "cell_type": "code",
   "execution_count": 1,
   "metadata": {
    "collapsed": true
   },
   "outputs": [],
   "source": [
    "import glob\n",
    "import os\n",
    "import librosa\n",
    "import matplotlib.pyplot as plt\n",
    "import tensorflow as tf\n",
    "import numpy as np\n",
    "from matplotlib.pyplot import specgram\n",
    "import time\n",
    "%matplotlib inline\n",
    "plt.style.use('ggplot')\n",
    "\n",
    "plt.rcParams['font.family'] = 'serif'\n",
    "plt.rcParams['font.serif'] = 'Ubuntu'\n",
    "plt.rcParams['font.monospace'] = 'Ubuntu Mono'\n",
    "plt.rcParams['font.size'] = 12\n",
    "plt.rcParams['axes.labelsize'] = 11\n",
    "plt.rcParams['axes.labelweight'] = 'bold'\n",
    "plt.rcParams['axes.titlesize'] = 12\n",
    "plt.rcParams['xtick.labelsize'] = 9\n",
    "plt.rcParams['ytick.labelsize'] = 9\n",
    "plt.rcParams['legend.fontsize'] = 11\n",
    "plt.rcParams['figure.titlesize'] = 13"
   ]
  },
  {
   "cell_type": "markdown",
   "metadata": {},
   "source": [
    "## Load Data"
   ]
  },
  {
   "cell_type": "code",
   "execution_count": 11,
   "metadata": {
    "collapsed": false
   },
   "outputs": [
    {
     "name": "stdout",
     "output_type": "stream",
     "text": [
      "---Extracting features.... ---\n",
      "---Loading time: 142.936600924 seconds ---\n"
     ]
    }
   ],
   "source": [
    "# parent_dir = '../../data/UrbanSound8K/audio/'\n",
    "# # sub_dirs= ['fold1','fold2', 'fold3', 'fold4', 'fold5', 'fold6', 'fold7', 'fold8','fold9', 'fold10']\n",
    "# sub_dirs= ['fold1']\n",
    "# print \"---Extracting features.... ---\"\n",
    "# start_time = time.time()\n",
    "# sounds, labels, file_names = load_sounds(parent_dir,sub_dirs)\n",
    "# print \"---Loading time: {0} seconds ---\".format(time.time() - start_time)"
   ]
  },
  {
   "cell_type": "code",
   "execution_count": 3,
   "metadata": {
    "collapsed": true
   },
   "outputs": [],
   "source": [
    "# All Folds\n",
    "train_x = np.load(\"cnn_train_features_full.npy\", allow_pickle=True)\n",
    "train_y = np.load(\"cnn_train_labels_full.npy\", allow_pickle=True)\n",
    "train_files = np.load(\"cnn_train_file_names_full.npy\", allow_pickle=True)"
   ]
  },
  {
   "cell_type": "markdown",
   "metadata": {},
   "source": [
    "## Time Stretching"
   ]
  },
  {
   "cell_type": "code",
   "execution_count": 5,
   "metadata": {
    "collapsed": true
   },
   "outputs": [],
   "source": [
    "N_FOLDS = 10"
   ]
  },
  {
   "cell_type": "code",
   "execution_count": 4,
   "metadata": {
    "collapsed": true
   },
   "outputs": [],
   "source": [
    "stretching_factors = [0.81, 0.93, 1.07, 1.23]\n",
    "sr = 22050"
   ]
  },
  {
   "cell_type": "code",
   "execution_count": 40,
   "metadata": {
    "collapsed": false
   },
   "outputs": [],
   "source": [
    "\n",
    "def time_stretching(data, names, factors):\n",
    "    data_length = np.shape(data)[0]\n",
    "    n_patches = np.int32(np.floor(data_length/(N_FOLDS-1)))\n",
    "    for i in range(len(factors)):\n",
    "        for fold in np.arange(N_FOLDS):\n",
    "            fold_start = fold*n_patches\n",
    "            for idx in np.arange(fold_start, fold_start+n_patches):\n",
    "                if(idx >= data_length):\n",
    "                    break\n",
    "                aug = librosa.effects.time_stretch(data[idx], factors[i])            \n",
    "                name =names[idx].split('/')[-1].split('.')[0] + \"-ts-\" +str(i)        \n",
    "                name = os.path.join('../../data/UrbanSound8K/audio/time_stretching_audio' + '/fold' + str(fold+1),name + '.wav')\n",
    "                librosa.output.write_wav(name, aug, sr)"
   ]
  },
  {
   "cell_type": "code",
   "execution_count": 41,
   "metadata": {
    "collapsed": false
   },
   "outputs": [],
   "source": [
    "time_stretching(train_x, train_files, stretching_factors)"
   ]
  },
  {
   "cell_type": "markdown",
   "metadata": {
    "collapsed": false
   },
   "source": [
    "## Pitch shifting"
   ]
  },
  {
   "cell_type": "code",
   "execution_count": 42,
   "metadata": {
    "collapsed": true
   },
   "outputs": [],
   "source": [
    "pitch_shifting_steps = [-3.5, -2.5, -2, -1, 1, 2, 2.5, 3.5]"
   ]
  },
  {
   "cell_type": "code",
   "execution_count": 43,
   "metadata": {
    "collapsed": true
   },
   "outputs": [],
   "source": [
    "def pitch_shifting(data, names, steps):\n",
    "    data_length = np.shape(data)[0]\n",
    "    n_patches = np.int32(np.floor(data_length/(N_FOLDS-1)))\n",
    "    for i in range(len(steps)):\n",
    "        for fold in np.arange(N_FOLDS):\n",
    "            fold_start = fold*n_patches\n",
    "            for idx in np.arange(fold_start, fold_start+n_patches):\n",
    "                if(idx >= data_length):\n",
    "                    break;\n",
    "                aug = librosa.effects.pitch_shift(data[idx], sr, steps[i])            \n",
    "                name = names[idx].split('/')[-1].split('.')[0] + \"-ps-\" +str(i)        \n",
    "                name = os.path.join('../../data/UrbanSound8K/audio/pitch_shifting_audio' + '/fold' + str(fold+1),name + '.wav')\n",
    "                librosa.output.write_wav(name, aug, sr)"
   ]
  },
  {
   "cell_type": "code",
   "execution_count": 44,
   "metadata": {
    "collapsed": false
   },
   "outputs": [],
   "source": [
    "pitch_shifting(train_x, train_files, pitch_shifting_steps)"
   ]
  },
  {
   "cell_type": "markdown",
   "metadata": {},
   "source": [
    "## Dynamic Range Compression"
   ]
  },
  {
   "cell_type": "code",
   "execution_count": 3,
   "metadata": {
    "collapsed": true
   },
   "outputs": [],
   "source": [
    "sound_clip,sr = librosa.load('../../data/UrbanSound8K/audio/fold1/7061-6-0-0.wav')"
   ]
  },
  {
   "cell_type": "code",
   "execution_count": 4,
   "metadata": {
    "collapsed": false
   },
   "outputs": [
    {
     "data": {
      "text/plain": [
       "(49613,)"
      ]
     },
     "execution_count": 4,
     "metadata": {},
     "output_type": "execute_result"
    }
   ],
   "source": [
    "np.shape(sound_clip)"
   ]
  },
  {
   "cell_type": "code",
   "execution_count": 5,
   "metadata": {
    "collapsed": true
   },
   "outputs": [],
   "source": [
    "melspec = librosa.feature.melspectrogram(sound_clip, sr=sr, n_fft=512, hop_length=512)"
   ]
  },
  {
   "cell_type": "code",
   "execution_count": 6,
   "metadata": {
    "collapsed": false
   },
   "outputs": [
    {
     "data": {
      "text/plain": [
       "(128, 97)"
      ]
     },
     "execution_count": 6,
     "metadata": {},
     "output_type": "execute_result"
    }
   ],
   "source": [
    "np.shape(melspec)"
   ]
  },
  {
   "cell_type": "code",
   "execution_count": 7,
   "metadata": {
    "collapsed": false
   },
   "outputs": [
    {
     "data": {
      "text/plain": [
       "(88200,)"
      ]
     },
     "execution_count": 7,
     "metadata": {},
     "output_type": "execute_result"
    }
   ],
   "source": [
    "sound_clip,sr = librosa.load('../../data/UrbanSound8K/audio/fold1/17913-4-0-1.wav')\n",
    "np.shape(sound_clip)"
   ]
  },
  {
   "cell_type": "code",
   "execution_count": 8,
   "metadata": {
    "collapsed": false
   },
   "outputs": [
    {
     "data": {
      "text/plain": [
       "(128, 173)"
      ]
     },
     "execution_count": 8,
     "metadata": {},
     "output_type": "execute_result"
    }
   ],
   "source": [
    "melspec = librosa.feature.melspectrogram(sound_clip, sr=sr, n_fft=512, hop_length=512)\n",
    "np.shape(melspec)"
   ]
  },
  {
   "cell_type": "code",
   "execution_count": null,
   "metadata": {
    "collapsed": true
   },
   "outputs": [],
   "source": []
  }
 ],
 "metadata": {
  "anaconda-cloud": {},
  "kernelspec": {
   "display_name": "Python [default]",
   "language": "python",
   "name": "python2"
  },
  "language_info": {
   "codemirror_mode": {
    "name": "ipython",
    "version": 2
   },
   "file_extension": ".py",
   "mimetype": "text/x-python",
   "name": "python",
   "nbconvert_exporter": "python",
   "pygments_lexer": "ipython2",
   "version": "2.7.12"
  }
 },
 "nbformat": 4,
 "nbformat_minor": 1
}
