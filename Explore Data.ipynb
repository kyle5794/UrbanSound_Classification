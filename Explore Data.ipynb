{
 "cells": [
  {
   "cell_type": "code",
   "execution_count": 1,
   "metadata": {
    "collapsed": true
   },
   "outputs": [],
   "source": [
    "import glob\n",
    "import os\n",
    "import librosa\n",
    "import numpy as np\n",
    "import matplotlib.pyplot as plt\n",
    "from matplotlib.pyplot import specgram\n",
    "import time\n",
    "import pandas as pd\n",
    "import seaborn as sns\n",
    "%matplotlib inline\n",
    "plt.style.use('ggplot')\n",
    "\n",
    "plt.rcParams['font.family'] = 'serif'\n",
    "plt.rcParams['font.serif'] = 'Ubuntu'\n",
    "plt.rcParams['font.monospace'] = 'Ubuntu Mono'\n",
    "plt.rcParams['font.size'] = 12\n",
    "plt.rcParams['axes.labelsize'] = 11\n",
    "plt.rcParams['axes.labelweight'] = 'bold'\n",
    "plt.rcParams['axes.titlesize'] = 14\n",
    "plt.rcParams['xtick.labelsize'] = 10\n",
    "plt.rcParams['ytick.labelsize'] = 10\n",
    "plt.rcParams['legend.fontsize'] = 11\n",
    "plt.rcParams['figure.titlesize'] = 13"
   ]
  },
  {
   "cell_type": "code",
   "execution_count": 2,
   "metadata": {
    "collapsed": false
   },
   "outputs": [],
   "source": [
    "def extract_feature(file_name):\n",
    "    X, sample_rate = librosa.load(file_name)\n",
    "    stft = np.abs(librosa.stft(X))\n",
    "    mfccs = np.mean(librosa.feature.mfcc(y=X, sr=sample_rate, n_mfcc=40).T,axis=0)\n",
    "    #chroma = np.mean(librosa.feature.chroma_stft(S=stft, sr=sample_rate).T,axis=0)\n",
    "    logmel = np.mean(np.log(librosa.feature.melspectrogram(X, sr=sample_rate).T),axis=0)\n",
    "    #contrast = np.mean(librosa.feature.spectral_contrast(S=stft, sr=sample_rate).T,axis=0)\n",
    "    #tonnetz = np.mean(librosa.feature.tonnetz(y=librosa.effects.harmonic(X), sr=sample_rate).T,axis=0)\n",
    "    return mfccs,logmel\n",
    "\n",
    "def parse_audio_files(parent_dir,sub_dirs,file_ext='*.wav'):\n",
    "    features, labels, namePath = np.empty((0,168)), np.empty(0), np.empty(0)\n",
    "    for label, sub_dir in enumerate(sub_dirs):\n",
    "        for fn in glob.glob(os.path.join(parent_dir, sub_dir, file_ext)):\n",
    "            mfccs, logmel = extract_feature(fn)\n",
    "            ext_features = np.hstack([mfccs,logmel])\n",
    "            features = np.vstack([features,ext_features])\n",
    "            labels = np.append(labels, fn.split('/')[2].split('-')[1])\n",
    "            namePath = np.append(namePath, fn)\n",
    "    return np.array(features), np.array(labels, dtype = np.int), np.array(namePath, dtype=np.string_)\n",
    "\n",
    "def one_hot_encode(labels):\n",
    "    n_labels = len(labels)\n",
    "    n_unique_labels = len(np.unique(labels))\n",
    "    one_hot_encode = np.zeros((n_labels,n_unique_labels))\n",
    "    one_hot_encode[np.arange(n_labels), labels] = 1\n",
    "    return one_hot_encode\n",
    "\n",
    "def one_hot_decode(labels):\n",
    "    n_labels, n_unique_labels = np.shape(labels)\n",
    "    print n_unique_labels\n",
    "    one_hot_decode = np.zeros((n_labels))\n",
    "    for idx in range(n_labels):\n",
    "        for l in range(n_unique_labels):\n",
    "            if(labels[idx, l] == 1):\n",
    "                one_hot_decode[idx] = l\n",
    "                break;\n",
    "    return one_hot_decode"
   ]
  },
  {
   "cell_type": "code",
   "execution_count": null,
   "metadata": {
    "collapsed": false
   },
   "outputs": [],
   "source": [
    "x = extract_feature(\"audio/fold1/7061-6-0-0.wav\")\n",
    "nfMfccs = np.shape(x[0])[0]\n",
    "nfChr = np.shape(x[1])[0]\n",
    "nfMel = np.shape(x[2])[0]\n",
    "nfCon = np.shape(x[3])[0]\n",
    "nfTon = np.shape(x[4])[0]"
   ]
  },
  {
   "cell_type": "code",
   "execution_count": null,
   "metadata": {
    "collapsed": true
   },
   "outputs": [],
   "source": [
    "features = np.load(\"nn_features_fold_12345.npy\", allow_pickle=True)\n",
    "labels = np.load(\"nn_labels_fold_12345.npy\", allow_pickle=True)\n",
    "file_names = np.load(\"nn_file_names_fold_12345.npy\", allow_pickle=True)"
   ]
  },
  {
   "cell_type": "code",
   "execution_count": null,
   "metadata": {
    "collapsed": false
   },
   "outputs": [],
   "source": [
    "mfccs_col = [\"mfcc_\" + str(i) for i in range(nfMfccs)]\n",
    "chroma_stft_col = [\"chroma_\" + str(i) for i in range(nfChr)]\n",
    "melspec_col = [\"melspec_\" + str(i) for i in range(nfMel)]\n",
    "contrast_col = [\"contrast_\" + str(i) for i in range(nfCon)]\n",
    "tonnetz_col = [\"tonnetz_\" + str(i) for i in range(nfTon)]"
   ]
  },
  {
   "cell_type": "code",
   "execution_count": null,
   "metadata": {
    "collapsed": true
   },
   "outputs": [],
   "source": [
    "features_df = pd.read_pickle(\"nn_features_df_fold_12345.pkl\")\n",
    "norm_data_df = pd.read_pickle(\"nn_data_df_fold_12345.pkl\")\n",
    "labels_df = pd.read_pickle(\"nn_labels_df_fold_12345.pkl\")"
   ]
  },
  {
   "cell_type": "code",
   "execution_count": null,
   "metadata": {
    "collapsed": false
   },
   "outputs": [],
   "source": [
    "norm_data_df.head()"
   ]
  },
  {
   "cell_type": "markdown",
   "metadata": {},
   "source": [
    "## Univariate distributions"
   ]
  },
  {
   "cell_type": "markdown",
   "metadata": {},
   "source": [
    "#### MFCC"
   ]
  },
  {
   "cell_type": "code",
   "execution_count": null,
   "metadata": {
    "collapsed": false
   },
   "outputs": [],
   "source": [
    "fig = plt.figure(figsize=(50, 50))\n",
    "for g in range(1,nfMfccs+1):\n",
    "    ax = fig.add_subplot(8,5,g)\n",
    "    sns.distplot(norm_data_df[\"mfcc_\" + str(g-1)], ax=ax)"
   ]
  },
  {
   "cell_type": "markdown",
   "metadata": {},
   "source": [
    "#### Chroma"
   ]
  },
  {
   "cell_type": "code",
   "execution_count": null,
   "metadata": {
    "collapsed": false
   },
   "outputs": [],
   "source": [
    "fig = plt.figure(figsize=(35, 30))\n",
    "for g in range(1,nfChr+1):\n",
    "    ax = fig.add_subplot(3,4,g)\n",
    "    sns.distplot(norm_data_df[\"chroma_\" + str(g-1)], ax=ax)\n",
    "fig.tight_layout()"
   ]
  },
  {
   "cell_type": "markdown",
   "metadata": {},
   "source": [
    "#### Log MelSpec"
   ]
  },
  {
   "cell_type": "code",
   "execution_count": null,
   "metadata": {
    "collapsed": false
   },
   "outputs": [],
   "source": [
    "for f in range(8):\n",
    "    fig = plt.figure(figsize=(35, 30))\n",
    "    for sp in range(16):\n",
    "        f_num = f*16+sp\n",
    "        ax = fig.add_subplot(4,4,sp+1)\n",
    "        sns.distplot(np.log(features_df[\"melspec_\" + str(f_num)]), ax=ax)\n",
    "    fig.tight_layout()"
   ]
  },
  {
   "cell_type": "markdown",
   "metadata": {},
   "source": [
    "#### Spectral contrast"
   ]
  },
  {
   "cell_type": "code",
   "execution_count": null,
   "metadata": {
    "collapsed": false
   },
   "outputs": [],
   "source": [
    "fig = plt.figure(figsize=(10, 10))\n",
    "for g in range(1,nfCon+1):\n",
    "    ax = fig.add_subplot(4,2,g)\n",
    "    sns.distplot(norm_data_df[\"contrast_\" + str(g-1)], ax=ax)\n",
    "fig.tight_layout()"
   ]
  },
  {
   "cell_type": "markdown",
   "metadata": {},
   "source": [
    "#### Tonnetz"
   ]
  },
  {
   "cell_type": "code",
   "execution_count": null,
   "metadata": {
    "collapsed": false
   },
   "outputs": [],
   "source": [
    "fig = plt.figure(figsize=(10, 8))\n",
    "for g in range(1,nfTon+1):\n",
    "    ax = fig.add_subplot(3,2,g)\n",
    "    sns.distplot(norm_data_df[\"tonnetz_\" + str(g-1)], ax=ax)\n",
    "fig.tight_layout()"
   ]
  },
  {
   "cell_type": "markdown",
   "metadata": {},
   "source": [
    "## Bivariate distribution"
   ]
  },
  {
   "cell_type": "markdown",
   "metadata": {},
   "source": [
    "#### MFCC"
   ]
  },
  {
   "cell_type": "code",
   "execution_count": null,
   "metadata": {
    "collapsed": true
   },
   "outputs": [],
   "source": [
    "import random"
   ]
  },
  {
   "cell_type": "code",
   "execution_count": null,
   "metadata": {
    "collapsed": false
   },
   "outputs": [],
   "source": [
    "f1 = \"mfcc_\" + str(random.randrange(nfMfccs))\n",
    "f2 = \"mfcc_\" + str(random.randrange(nfMfccs))"
   ]
  },
  {
   "cell_type": "code",
   "execution_count": null,
   "metadata": {
    "collapsed": false
   },
   "outputs": [],
   "source": [
    "\n",
    "g = sns.FacetGrid(norm_data_df, hue=\"Label\", size=8)\n",
    "colors = sns.color_palette(\"Set2\", 10)\n",
    "g.map(plt.scatter, f1, f2, s=5, cmap=colors)\n",
    "g.add_legend()"
   ]
  },
  {
   "cell_type": "code",
   "execution_count": null,
   "metadata": {
    "collapsed": false
   },
   "outputs": [],
   "source": [
    "f1 = \"mfcc_\" + str(random.randrange(nfMfccs))\n",
    "sns.boxplot(x=\"Label\", y=f1, data=norm_data_df)"
   ]
  },
  {
   "cell_type": "code",
   "execution_count": null,
   "metadata": {
    "collapsed": false
   },
   "outputs": [],
   "source": [
    "f1 = \"mfcc_\" + str(random.randrange(nfMfccs))\n",
    "f1 = \"mfcc_6\"\n",
    "sns.swarmplot(x=\"Label\", y=f1, data=norm_data_df);"
   ]
  },
  {
   "cell_type": "code",
   "execution_count": null,
   "metadata": {
    "collapsed": false
   },
   "outputs": [],
   "source": [
    "mfcc_mel_features = np.delete(features, obj=range(180,193),axis=1)\n",
    "mfcc_mel_features = np.delete(mfcc_mel_features, obj=range(40,52),axis=1)\n",
    "mfcc_logmel_features = np.copy(mfcc_mel_features)\n",
    "mfcc_logmel_features[:,40:168] = np.log(mfcc_logmel_features[:,40:168] )\n",
    "mfcc_logmel_features_and_filenames = np.concatenate((mfcc_logmel_features, file_names[:,np.newaxis]), axis=1)\n",
    "train_x1, test_x1, train_y, test_y = train_test_split(mfcc_logmel_features_and_filenames, labels, test_size=0.3, random_state=5, stratify=xlabels)\n",
    "train_x = train_x1[:,0:-1]\n",
    "test_x = test_x1[:,0:-1]"
   ]
  },
  {
   "cell_type": "code",
   "execution_count": null,
   "metadata": {
    "collapsed": true
   },
   "outputs": [],
   "source": []
  }
 ],
 "metadata": {
  "kernelspec": {
   "display_name": "Python [conda root]",
   "language": "python",
   "name": "conda-root-py"
  },
  "language_info": {
   "codemirror_mode": {
    "name": "ipython",
    "version": 2
   },
   "file_extension": ".py",
   "mimetype": "text/x-python",
   "name": "python",
   "nbconvert_exporter": "python",
   "pygments_lexer": "ipython2",
   "version": "2.7.12"
  }
 },
 "nbformat": 4,
 "nbformat_minor": 1
}
