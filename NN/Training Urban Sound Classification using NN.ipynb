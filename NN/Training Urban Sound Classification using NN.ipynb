{
 "cells": [
  {
   "cell_type": "code",
   "execution_count": 2,
   "metadata": {
    "collapsed": false
   },
   "outputs": [],
   "source": [
    "import glob\n",
    "import os\n",
    "import librosa\n",
    "import numpy as np\n",
    "import matplotlib.pyplot as plt\n",
    "from matplotlib.pyplot import specgram\n",
    "import time\n",
    "%matplotlib inline\n",
    "plt.style.use('ggplot')\n",
    "\n",
    "plt.rcParams['font.family'] = 'serif'\n",
    "plt.rcParams['font.serif'] = 'Ubuntu'\n",
    "plt.rcParams['font.monospace'] = 'Ubuntu Mono'\n",
    "plt.rcParams['font.size'] = 12\n",
    "plt.rcParams['axes.labelsize'] = 11\n",
    "plt.rcParams['axes.labelweight'] = 'bold'\n",
    "plt.rcParams['axes.titlesize'] = 14\n",
    "plt.rcParams['xtick.labelsize'] = 10\n",
    "plt.rcParams['ytick.labelsize'] = 10\n",
    "plt.rcParams['legend.fontsize'] = 11\n",
    "plt.rcParams['figure.titlesize'] = 13"
   ]
  },
  {
   "cell_type": "code",
   "execution_count": 9,
   "metadata": {
    "collapsed": false
   },
   "outputs": [],
   "source": [
    "EPSILON = 10e-10\n",
    "def extract_feature(file_name):\n",
    "    X, sample_rate = librosa.load(file_name)\n",
    "    stft = np.abs(librosa.stft(X))\n",
    "    mfccs = np.mean(librosa.feature.mfcc(y=X, sr=sample_rate, n_mfcc=40).T,axis=0)\n",
    "    #chroma = np.mean(librosa.feature.chroma_stft(S=stft, sr=sample_rate).T,axis=0)\n",
    "    raw_mel = librosa.feature.melspectrogram(X, sr=sample_rate).T\n",
    "    mel = np.mean(raw_mel, axis=0)\n",
    "    processed_mel = raw_mel + EPSILON\n",
    "    logMel = np.mean(np.log(processed_mel),axis=0)\n",
    "    #contrast = np.mean(librosa.feature.spectral_contrast(S=stft, sr=sample_rate).T,axis=0)\n",
    "    #tonnetz = np.mean(librosa.feature.tonnetz(y=librosa.effects.harmonic(X), sr=sample_rate).T,axis=0)\n",
    "    return mfccs,logMel, mel\n",
    "\n",
    "def parse_audio_files(parent_dir,sub_dirs,file_ext='*.wav'):\n",
    "    features, labels, namePath = np.empty((0,296)), np.empty(0), np.empty(0)\n",
    "    for label, sub_dir in enumerate(sub_dirs):\n",
    "        for fn in glob.glob(os.path.join(parent_dir, sub_dir, file_ext)):\n",
    "            mfccs, logmel, mel = extract_feature(fn)\n",
    "            ext_features = np.hstack([mfccs,logmel, mel])\n",
    "            features = np.vstack([features,ext_features])\n",
    "            labels = np.append(labels, fn.split('/')[-1].split('-')[1])\n",
    "            namePath = np.append(namePath, fn)\n",
    "    return np.array(features), np.array(labels, dtype = np.int), np.array(namePath, dtype=np.string_)\n",
    "\n",
    "def one_hot_encode(labels):\n",
    "    n_labels = len(labels)\n",
    "    n_unique_labels = len(np.unique(labels))\n",
    "    one_hot_encode = np.zeros((n_labels,n_unique_labels))\n",
    "    one_hot_encode[np.arange(n_labels), labels] = 1\n",
    "    return one_hot_encode\n",
    "\n",
    "def one_hot_decode(labels):\n",
    "    n_labels, n_unique_labels = np.shape(labels)\n",
    "    one_hot_decode = np.zeros((n_labels))\n",
    "    for idx in range(n_labels):\n",
    "        for l in range(n_unique_labels):\n",
    "            if(labels[idx, l] == 1):\n",
    "                one_hot_decode[idx] = l\n",
    "                break;\n",
    "    return one_hot_decode"
   ]
  },
  {
   "cell_type": "code",
   "execution_count": 6,
   "metadata": {
    "collapsed": false
   },
   "outputs": [],
   "source": [
    "x = extract_feature(\"../../data/UrbanSound8K/audio/fold1/7061-6-0-0.wav\")\n",
    "nfMfccs = np.shape(x[0])[0]\n",
    "nfLogMel = np.shape(x[1])[0]\n",
    "nfMel = np.shape(x[2])[0]"
   ]
  },
  {
   "cell_type": "code",
   "execution_count": 7,
   "metadata": {
    "collapsed": false
   },
   "outputs": [
    {
     "name": "stdout",
     "output_type": "stream",
     "text": [
      "Number of features\n",
      "* Mfcc: 40\n",
      "* logMel 128\n",
      "* Mel 128\n"
     ]
    }
   ],
   "source": [
    "print \"Number of features\"\n",
    "print \"* Mfcc: {0}\".format(nfMfccs)\n",
    "print \"* logMel {0}\".format(nfLogMel)\n",
    "print \"* Mel {0}\".format(nfMel)"
   ]
  },
  {
   "cell_type": "code",
   "execution_count": 10,
   "metadata": {
    "collapsed": false
   },
   "outputs": [
    {
     "name": "stdout",
     "output_type": "stream",
     "text": [
      "---Extracting features.... ---\n",
      "---Loading time: 181.867201805 seconds ---\n"
     ]
    }
   ],
   "source": [
    "parent_dir = '../../data/UrbanSound8K/audio/'\n",
    "sub_dirs = ['fold1']\n",
    "print \"---Extracting features.... ---\"\n",
    "start_time = time.time()\n",
    "features, labels, file_names = parse_audio_files(parent_dir,sub_dirs)\n",
    "print \"---Loading time: {0} seconds ---\".format(time.time() - start_time)"
   ]
  },
  {
   "cell_type": "code",
   "execution_count": null,
   "metadata": {
    "collapsed": true
   },
   "outputs": [],
   "source": []
  },
  {
   "cell_type": "code",
   "execution_count": 11,
   "metadata": {
    "collapsed": false
   },
   "outputs": [],
   "source": [
    "one_hot_labels = one_hot_encode(labels)"
   ]
  },
  {
   "cell_type": "code",
   "execution_count": 8,
   "metadata": {
    "collapsed": true
   },
   "outputs": [],
   "source": [
    "np.save(\"nn_features_fold_full\", features, allow_pickle=True)"
   ]
  },
  {
   "cell_type": "code",
   "execution_count": 9,
   "metadata": {
    "collapsed": false
   },
   "outputs": [],
   "source": [
    "np.save(\"nn_labels_fold_full\", labels, allow_pickle=True)"
   ]
  },
  {
   "cell_type": "code",
   "execution_count": 10,
   "metadata": {
    "collapsed": true
   },
   "outputs": [],
   "source": [
    "np.save(\"nn_file_names_fold_full\", file_names, allow_pickle=True)"
   ]
  },
  {
   "cell_type": "markdown",
   "metadata": {},
   "source": [
    "-------------------------------------------------------------------------------------------------------------------------"
   ]
  },
  {
   "cell_type": "markdown",
   "metadata": {},
   "source": [
    "### Training Neural Network with TensorFlow"
   ]
  },
  {
   "cell_type": "code",
   "execution_count": 11,
   "metadata": {
    "collapsed": true
   },
   "outputs": [],
   "source": [
    "import tensorflow as tf\n",
    "from sklearn.metrics import precision_recall_fscore_support\n",
    "from sklearn.metrics import confusion_matrix"
   ]
  },
  {
   "cell_type": "markdown",
   "metadata": {},
   "source": [
    "--------------------------------------------------------------------------------------------------------------------------"
   ]
  },
  {
   "cell_type": "code",
   "execution_count": 12,
   "metadata": {
    "collapsed": false
   },
   "outputs": [],
   "source": [
    "# Initialize parameters\n",
    "training_epochs = 20000 # number of iteration\n",
    "n_dim = 168 # number of features\n",
    "n_classes = 10 # number of classes\n",
    "n_hidden_units_one = 280  # number of units in hidden layer 1\n",
    "n_hidden_units_two = 300 # number of units in hidden layer 2\n",
    "sd = 1 / np.sqrt(n_dim) # std of initial weight and bias\n",
    "learning_rate = 0.01 "
   ]
  },
  {
   "cell_type": "code",
   "execution_count": 13,
   "metadata": {
    "collapsed": false
   },
   "outputs": [],
   "source": [
    "# Randomly initialize params for each layers\n",
    "X = tf.placeholder(tf.float32,[None,n_dim])\n",
    "Y = tf.placeholder(tf.float32,[None,n_classes])\n",
    "\n",
    "# Hidden layer 1 params\n",
    "W_1 = tf.Variable(tf.random_normal([n_dim,n_hidden_units_one], mean = 0, stddev=sd))\n",
    "b_1 = tf.Variable(tf.random_normal([n_hidden_units_one], mean = 0, stddev=sd))\n",
    "h_1 = tf.nn.tanh(tf.matmul(X,W_1) + b_1)\n",
    "\n",
    "# Hidden layer 2 params\n",
    "W_2 = tf.Variable(tf.random_normal([n_hidden_units_one,n_hidden_units_two], mean = 0, stddev=sd))\n",
    "b_2 = tf.Variable(tf.random_normal([n_hidden_units_two], mean = 0, stddev=sd))\n",
    "h_2 = tf.nn.sigmoid(tf.matmul(h_1,W_2) + b_2)\n",
    "\n",
    "# Softmax classification initialization\n",
    "W = tf.Variable(tf.random_normal([n_hidden_units_two,n_classes], mean = 0, stddev=sd))\n",
    "b = tf.Variable(tf.random_normal([n_classes], mean = 0, stddev=sd))\n",
    "y_ = tf.nn.softmax(tf.matmul(h_2,W) + b)\n",
    "\n",
    "\n",
    "init = tf.global_variables_initializer()"
   ]
  },
  {
   "cell_type": "code",
   "execution_count": 14,
   "metadata": {
    "collapsed": true
   },
   "outputs": [],
   "source": [
    "# cost_function = \n",
    "cost_function = tf.reduce_mean(-tf.reduce_sum(Y * tf.log(y_), reduction_indices=[1])) \n",
    "optimizer = tf.train.GradientDescentOptimizer(learning_rate).minimize(cost_function)\n",
    "\n",
    "correct_prediction = tf.equal(tf.argmax(y_,1), tf.argmax(Y,1))\n",
    "accuracy = tf.reduce_mean(tf.cast(correct_prediction, tf.float32))"
   ]
  },
  {
   "cell_type": "markdown",
   "metadata": {},
   "source": [
    "### Train/Test split 70/30"
   ]
  },
  {
   "cell_type": "code",
   "execution_count": 15,
   "metadata": {
    "collapsed": true
   },
   "outputs": [],
   "source": [
    "from sklearn.cross_validation import train_test_split"
   ]
  },
  {
   "cell_type": "code",
   "execution_count": 16,
   "metadata": {
    "collapsed": true
   },
   "outputs": [],
   "source": [
    "logmel_features_and_filenames = np.concatenate((features[:,:168], file_names[:,np.newaxis]), axis=1)"
   ]
  },
  {
   "cell_type": "code",
   "execution_count": 17,
   "metadata": {
    "collapsed": true
   },
   "outputs": [],
   "source": [
    "train_x1, test_x1, train_y, test_y = train_test_split(logmel_features_and_filenames, labels, test_size=0.3, random_state=5, stratify=xlabels)"
   ]
  },
  {
   "cell_type": "code",
   "execution_count": 18,
   "metadata": {
    "collapsed": false
   },
   "outputs": [],
   "source": [
    "train_x = train_x1[:,0:-1]\n",
    "test_x = test_x1[:,0:-1]"
   ]
  },
  {
   "cell_type": "code",
   "execution_count": 57,
   "metadata": {
    "collapsed": false
   },
   "outputs": [
    {
     "name": "stdout",
     "output_type": "stream",
     "text": [
      "--- Start Training ---\n",
      "Training.......\n",
      "------ Elapsed time -------  Iter ---- Cost \n",
      "------   0.36469007 -------     0 ---- 2.47950434685 \n",
      "------ 282.95200896 -------  1000 ---- 1.36340332031 \n",
      "------ 569.40871692 -------  2000 ---- 1.09253227711 \n",
      "------ 854.17194200 -------  3000 ---- 0.919654488564 \n",
      "------ 1138.71639109 -------  4000 ---- 0.814878702164 \n",
      "------ 1417.81138015 -------  5000 ---- 0.709281265736 \n",
      "------ 1700.37577605 -------  6000 ---- 0.630629301071 \n",
      "------ 1978.49579096 -------  7000 ---- 0.577045977116 \n",
      "------ 2255.07964611 -------  8000 ---- 0.55031144619 \n",
      "------ 2531.96946692 -------  9000 ---- 0.498961120844 \n",
      "------ 2811.70468593 ------- 10000 ---- 0.445098161697 \n",
      "------ 3103.73920107 ------- 11000 ---- 0.399647682905 \n",
      "------ 3396.65635204 ------- 12000 ---- 0.431312531233 \n",
      "------ 3686.14057302 ------- 13000 ---- 0.326024830341 \n",
      "------ 3979.84626603 ------- 14000 ---- 0.308897703886 \n",
      "------ 4260.68309093 ------- 15000 ---- 0.28558743 \n",
      "------ 4546.88011408 ------- 16000 ---- 0.290693759918 \n",
      "------ 4833.91552114 ------- 17000 ---- 0.29255643487 \n",
      "------ 5122.69366193 ------- 18000 ---- 0.282501071692 \n",
      "------ 5418.07583404 ------- 19000 ---- 0.206615313888 \n"
     ]
    },
    {
     "data": {
      "image/png": "[encoded data removed]",
      "text/plain": [
       "<matplotlib.figure.Figure at 0x7f2e086280d0>"
      ]
     },
     "metadata": {},
     "output_type": "display_data"
    },
    {
     "name": "stdout",
     "output_type": "stream",
     "text": [
      "F-Score: 0.860687022901\n",
      "Confusion Matrix\n",
      "[[277   0   6   2   0   1   0   4   1   9]\n",
      " [  1 110   0   4   2   3   0   6   0   3]\n",
      " [  5   1 241  22   5   7   1   0   0  18]\n",
      " [  4   2  18 245   8   6   2   2   7   6]\n",
      " [  2   0   6  13 266   2   1   6   0   4]\n",
      " [  1   0   7   4   1 283   0   0   1   3]\n",
      " [  1   0   4  23   2   0  77   0   2   3]\n",
      " [  1   0   1   0   8   0   0 289   0   1]\n",
      " [  3   1   8  25   0   0   1   1 236   4]\n",
      " [ 10   3  21  13   9   5   2   3   3 231]]\n",
      "---Training time: 5716.54432011 seconds ---\n",
      "------------------------------------------\n"
     ]
    }
   ],
   "source": [
    "training_epochs = 20000 # number of iteration\n",
    "cost_history = np.empty(shape=[1],dtype=float)\n",
    "y_true, y_pred = None, None\n",
    "print \"--- Start Training ---\"\n",
    "print \"Training.......\"\n",
    "print \"------ Elapsed time -------  Iter ---- Cost \"\n",
    "start_time = time.time()\n",
    "saver = tf.train.Saver()\n",
    "with tf.Session() as sess:\n",
    "    sess.run(init)\n",
    "    for epoch in range(training_epochs):            \n",
    "        _,cost = sess.run([optimizer,cost_function],feed_dict={X:train_x,Y:train_y})\n",
    "        cost_history = np.append(cost_history,cost)\n",
    "        if(epoch % 1000 == 0):\n",
    "            print \"------ {:12.7f} ------- {:5d} ---- {:12.10f} \".format((time.time() - start_time), epoch, cost)\n",
    "           \n",
    "    fig = plt.figure(figsize=(10,8))\n",
    "    plt.plot(cost_history)\n",
    "    plt.ylabel(\"Cost\")\n",
    "    plt.xlabel(\"Iterations\")\n",
    "    plt.axis([0,training_epochs,0,np.max(cost_history)])\n",
    "    plt.show()\n",
    "    save_path = saver.save(sess,\"model/nn_model_full.ckpt\")\n",
    "    y_pred = sess.run(tf.argmax(y_,1),feed_dict={X: test_x})\n",
    "    y_true = sess.run(tf.argmax(test_y,1))\n",
    "    p,r,f,s = precision_recall_fscore_support(y_true, y_pred, average='micro')\n",
    "    print \"F-Score: {0}\".format(f)\n",
    "    print \"Confusion Matrix\"\n",
    "    print confusion_matrix(y_true, y_pred)\n",
    "print \"---Training time: {0} seconds ---\".format((time.time() - start_time))\n",
    "print \"------------------------------------------\""
   ]
  },
  {
   "cell_type": "markdown",
   "metadata": {},
   "source": [
    "### Error Analysis"
   ]
  },
  {
   "cell_type": "code",
   "execution_count": 58,
   "metadata": {
    "collapsed": false
   },
   "outputs": [],
   "source": [
    "classID = {\n",
    "    0: \"AirCon\",\n",
    "    1: \"Car horn\",\n",
    "    2: \"Children playing\",\n",
    "    3: \"Dog bark\",\n",
    "    4: \"Drilling\",\n",
    "    5: \"Engine idling\",\n",
    "    6: \"Gun shot\",\n",
    "    7: \"Jackhammer\",\n",
    "    8: \"Siren\",\n",
    "    9: \"Street music\"\n",
    "}"
   ]
  },
  {
   "cell_type": "code",
   "execution_count": 70,
   "metadata": {
    "collapsed": false
   },
   "outputs": [
    {
     "name": "stdout",
     "output_type": "stream",
     "text": [
      "************************************************\n",
      " Class AirCon is mistaken with: \n",
      "# Children playing: 6 samples\n",
      "--- fold3/159761-0-0-5\n",
      "--- fold3/159761-0-0-2\n",
      "--- fold3/159761-0-0-1\n",
      "--- fold6/184805-0-0-121\n",
      "--- fold3/159761-0-0-4\n",
      "--- fold8/74677-0-0-0\n",
      "# Dog bark: 2 samples\n",
      "--- fold7/35382-0-0-1\n",
      "--- fold1/57320-0-0-27\n",
      "# Engine idling: 1 samples\n",
      "--- fold3/58806-0-0-0\n",
      "# Jackhammer: 4 samples\n",
      "--- fold1/50901-0-1-0\n",
      "--- fold1/50901-0-0-0\n",
      "--- fold3/177742-0-0-99\n",
      "--- fold3/177742-0-0-214\n",
      "# Siren: 1 samples\n",
      "--- fold5/85569-0-0-9\n",
      "# Street music: 9 samples\n",
      "--- fold6/184805-0-0-40\n",
      "--- fold9/79089-0-0-4\n",
      "--- fold5/178686-0-0-53\n",
      "--- fold6/184805-0-0-32\n",
      "--- fold9/79089-0-0-115\n",
      "--- fold7/189981-0-0-16\n",
      "--- fold9/79089-0-0-6\n",
      "--- fold6/184805-0-0-51\n",
      "--- fold5/178686-0-0-34\n",
      "************************************************\n",
      " Class Car horn is mistaken with: \n",
      "# AirCon: 1 samples\n",
      "--- fold2/145577-1-0-0\n",
      "# Dog bark: 4 samples\n",
      "--- fold4/7389-1-4-3\n",
      "--- fold7/99812-1-3-0\n",
      "--- fold7/14524-1-0-0\n",
      "--- fold5/185436-1-6-0\n",
      "# Drilling: 2 samples\n",
      "--- fold5/72259-1-9-1\n",
      "--- fold6/179860-1-0-0\n",
      "# Engine idling: 3 samples\n",
      "--- fold9/180156-1-7-0\n",
      "--- fold8/138465-1-0-0\n",
      "--- fold5/71439-1-2-0\n",
      "# Jackhammer: 6 samples\n",
      "--- fold9/180156-1-10-0\n",
      "--- fold7/89679-1-0-0\n",
      "--- fold5/72259-1-9-9\n",
      "--- fold4/7389-1-4-4\n",
      "--- fold1/87275-1-3-0\n",
      "--- fold5/72259-1-1-0\n",
      "# Street music: 3 samples\n",
      "--- fold6/143115-1-0-0\n",
      "--- fold7/34241-1-1-0\n",
      "--- fold5/72259-1-9-8\n",
      "************************************************\n",
      " Class Children playing is mistaken with: \n",
      "# AirCon: 5 samples\n",
      "--- fold4/54173-2-0-18\n",
      "--- fold9/59037-2-1-3\n",
      "--- fold2/109703-2-0-134\n",
      "--- fold5/159439-2-0-30\n",
      "--- fold4/54173-2-0-21\n",
      "# Car horn: 1 samples\n",
      "--- fold10/196086-2-0-0\n",
      "# Dog bark: 22 samples\n",
      "--- fold3/54067-2-0-23\n",
      "--- fold2/192269-2-0-54\n",
      "--- fold8/204526-2-0-166\n",
      "--- fold3/132855-2-0-113\n",
      "--- fold3/132855-2-0-58\n",
      "--- fold10/101382-2-0-45\n",
      "--- fold5/204408-2-0-8\n",
      "--- fold5/31150-2-0-24\n",
      "--- fold5/204408-2-0-21\n",
      "--- fold1/135776-2-0-65\n",
      "--- fold10/101382-2-0-42\n",
      "--- fold10/14470-2-0-21\n",
      "--- fold3/76221-2-0-10\n",
      "--- fold3/123399-2-0-91\n",
      "--- fold5/204408-2-0-19\n",
      "--- fold4/175904-2-0-76\n",
      "--- fold4/175904-2-0-124\n",
      "--- fold3/123399-2-0-83\n",
      "--- fold4/174032-2-0-11\n",
      "--- fold4/174032-2-0-17\n",
      "--- fold4/170564-2-1-27\n",
      "--- fold2/192269-2-0-37\n",
      "# Drilling: 5 samples\n",
      "--- fold1/15564-2-0-0\n",
      "--- fold4/137971-2-0-8\n",
      "--- fold4/137971-2-0-6\n",
      "--- fold2/155219-2-0-24\n",
      "--- fold5/80806-2-0-10\n",
      "# Engine idling: 7 samples\n",
      "--- fold7/6902-2-0-18\n",
      "--- fold7/164797-2-0-32\n",
      "--- fold7/165529-2-0-73\n",
      "--- fold8/160016-2-0-37\n",
      "--- fold8/54914-2-0-35\n",
      "--- fold4/137971-2-0-0\n",
      "--- fold1/165067-2-0-111\n",
      "# Gun shot: 1 samples\n",
      "--- fold4/175904-2-0-24\n",
      "# Street music: 18 samples\n",
      "--- fold6/104327-2-0-4\n",
      "--- fold3/151149-2-0-12\n",
      "--- fold5/160010-2-0-21\n",
      "--- fold8/72015-2-0-5\n",
      "--- fold3/132855-2-0-70\n",
      "--- fold3/151149-2-0-54\n",
      "--- fold2/174906-2-0-8\n",
      "--- fold4/20688-2-0-4\n",
      "--- fold4/20688-2-0-3\n",
      "--- fold6/104327-2-0-15\n",
      "--- fold10/155262-2-0-11\n",
      "--- fold2/160011-2-0-0\n",
      "--- fold1/15564-2-0-2\n",
      "--- fold10/14470-2-0-70\n",
      "--- fold2/160011-2-0-1\n",
      "--- fold10/155262-2-0-48\n",
      "--- fold2/160011-2-0-34\n",
      "--- fold4/20688-2-0-1\n",
      "************************************************\n",
      " Class Dog bark is mistaken with: \n",
      "# AirCon: 4 samples\n",
      "--- fold1/176258-3-1-12\n",
      "--- fold5/203516-3-0-0\n",
      "--- fold8/70168-3-1-11\n",
      "--- fold5/20015-3-0-4\n",
      "# Car horn: 2 samples\n",
      "--- fold2/4201-3-3-0\n",
      "--- fold2/18581-3-0-5\n",
      "# Children playing: 18 samples\n",
      "--- fold1/150341-3-1-0\n",
      "--- fold3/44831-3-0-0\n",
      "--- fold1/54858-3-1-2\n",
      "--- fold1/203440-3-0-6\n",
      "--- fold5/76566-3-0-3\n",
      "--- fold6/190680-3-4-0\n",
      "--- fold6/197075-3-6-0\n",
      "--- fold6/105319-3-0-29\n",
      "--- fold5/20015-3-0-12\n",
      "--- fold7/34871-3-11-0\n",
      "--- fold5/19503-3-2-0\n",
      "--- fold2/27349-3-2-1\n",
      "--- fold3/102105-3-0-0\n",
      "--- fold5/19503-3-0-0\n",
      "--- fold10/72220-3-0-0\n",
      "--- fold7/34871-3-6-0\n",
      "--- fold3/44831-3-1-0\n",
      "--- fold5/76566-3-0-6\n",
      "# Drilling: 8 samples\n",
      "--- fold5/19503-3-1-0\n",
      "--- fold6/101281-3-0-0\n",
      "--- fold4/26256-3-6-6\n",
      "--- fold2/160092-3-0-0\n",
      "--- fold10/17486-3-0-0\n",
      "--- fold10/7965-3-11-0\n",
      "--- fold5/116163-3-1-0\n",
      "--- fold10/26255-3-0-0\n",
      "# Engine idling: 6 samples\n",
      "--- fold1/43786-3-1-0\n",
      "--- fold9/52171-3-3-0\n",
      "--- fold6/38121-3-0-0\n",
      "--- fold9/52171-3-2-0\n",
      "--- fold5/20015-3-0-19\n",
      "--- fold6/128891-3-0-2\n",
      "# Gun shot: 2 samples\n",
      "--- fold5/65381-3-0-6\n",
      "--- fold5/116163-3-2-0\n",
      "# Jackhammer: 2 samples\n",
      "--- fold6/197075-3-4-1\n",
      "--- fold7/115411-3-0-0\n",
      "# Siren: 7 samples\n",
      "--- fold8/70168-3-1-20\n",
      "--- fold4/30832-3-7-0\n",
      "--- fold7/34871-3-8-0\n",
      "--- fold8/155294-3-0-0\n",
      "--- fold8/189846-3-1-0\n",
      "--- fold7/50612-3-0-0\n",
      "--- fold3/200161-3-7-0\n",
      "# Street music: 6 samples\n",
      "--- fold5/181725-3-0-37\n",
      "--- fold9/79584-3-0-4\n",
      "--- fold5/181725-3-0-16\n",
      "--- fold3/12647-3-0-0\n",
      "--- fold3/19496-3-0-0\n",
      "--- fold2/108187-3-2-0\n",
      "************************************************\n",
      " Class Drilling is mistaken with: \n",
      "# AirCon: 2 samples\n",
      "--- fold1/46669-4-0-54\n",
      "--- fold5/205874-4-8-0\n",
      "# Children playing: 6 samples\n",
      "--- fold5/180125-4-2-17\n",
      "--- fold5/118440-4-2-0\n",
      "--- fold10/167750-4-2-0\n",
      "--- fold9/180029-4-7-0\n",
      "--- fold8/168037-4-12-0\n",
      "--- fold2/76086-4-0-27\n",
      "# Dog bark: 13 samples\n",
      "--- fold2/34621-4-26-0\n",
      "--- fold1/14113-4-0-1\n",
      "--- fold9/180029-4-10-0\n",
      "--- fold9/180029-4-13-0\n",
      "--- fold3/69598-4-6-0\n",
      "--- fold7/71529-4-1-0\n",
      "--- fold2/185800-4-0-1\n",
      "--- fold3/69598-4-2-0\n",
      "--- fold8/205610-4-0-0\n",
      "--- fold2/34621-4-24-0\n",
      "--- fold3/69598-4-6-1\n",
      "--- fold1/14113-4-0-0\n",
      "--- fold4/187377-4-0-0\n",
      "# Engine idling: 2 samples\n",
      "--- fold4/169466-4-3-1\n",
      "--- fold5/180128-4-9-0\n",
      "# Gun shot: 1 samples\n",
      "--- fold3/69598-4-1-0\n",
      "# Jackhammer: 6 samples\n",
      "--- fold1/147764-4-8-0\n",
      "--- fold9/180937-4-2-1\n",
      "--- fold2/77751-4-0-0\n",
      "--- fold9/180937-4-1-30\n",
      "--- fold9/58937-4-5-2\n",
      "--- fold9/180937-4-1-27\n",
      "# Street music: 4 samples\n",
      "--- fold4/179212-4-0-0\n",
      "--- fold2/77751-4-3-0\n",
      "--- fold4/169466-4-1-8\n",
      "--- fold3/103199-4-0-0\n",
      "************************************************\n",
      " Class Engine idling is mistaken with: \n",
      "# AirCon: 1 samples\n",
      "--- fold8/113203-5-2-0\n",
      "# Children playing: 7 samples\n",
      "--- fold1/176787-5-0-0\n",
      "--- fold10/118558-5-1-0\n",
      "--- fold2/177592-5-0-7\n",
      "--- fold2/177592-5-0-8\n",
      "--- fold7/209992-5-4-17\n",
      "--- fold10/118558-5-1-1\n",
      "--- fold5/156634-5-1-0\n",
      "# Dog bark: 4 samples\n",
      "--- fold8/113203-5-6-0\n",
      "--- fold8/113203-5-5-0\n",
      "--- fold10/23218-5-0-0\n",
      "--- fold9/187075-5-0-0\n",
      "# Drilling: 1 samples\n",
      "--- fold5/21187-5-0-0\n",
      "# Siren: 1 samples\n",
      "--- fold10/103438-5-0-1\n",
      "# Street music: 3 samples\n",
      "--- fold5/156634-5-2-0\n",
      "--- fold10/200786-5-0-0\n",
      "--- fold8/91209-5-1-2\n",
      "************************************************\n",
      " Class Gun shot is mistaken with: \n",
      "# AirCon: 1 samples\n",
      "--- fold2/76091-6-4-0\n",
      "# Children playing: 4 samples\n",
      "--- fold3/34708-6-4-0\n",
      "--- fold8/25039-6-1-0\n",
      "--- fold3/34708-6-5-0\n",
      "--- fold5/148841-6-0-0\n",
      "# Dog bark: 23 samples\n",
      "--- fold4/35799-6-0-0\n",
      "--- fold9/157801-6-0-0\n",
      "--- fold10/174289-6-2-0\n",
      "--- fold10/7062-6-0-0\n",
      "--- fold10/164646-6-0-0\n",
      "--- fold10/174289-6-1-0\n",
      "--- fold1/77246-6-0-0\n",
      "--- fold6/148835-6-0-0\n",
      "--- fold3/148838-6-0-0\n",
      "--- fold3/148838-6-2-0\n",
      "--- fold3/148838-6-1-0\n",
      "--- fold10/174289-6-0-0\n",
      "--- fold6/148834-6-0-0\n",
      "--- fold5/7066-6-0-0\n",
      "--- fold1/174294-6-2-0\n",
      "--- fold4/24632-6-0-0\n",
      "--- fold3/161195-6-0-0\n",
      "--- fold7/7067-6-0-0\n",
      "--- fold9/25038-6-1-0\n",
      "--- fold3/180960-6-0-0\n",
      "--- fold1/7061-6-0-0\n",
      "--- fold7/148827-6-3-0\n",
      "--- fold5/148841-6-2-0\n",
      "# Drilling: 2 samples\n",
      "--- fold1/46656-6-5-0\n",
      "--- fold6/133797-6-2-0\n",
      "# Siren: 2 samples\n",
      "--- fold10/25037-6-0-0\n",
      "--- fold6/36403-6-0-0\n",
      "# Street music: 3 samples\n",
      "--- fold10/157800-6-0-0\n",
      "--- fold7/151065-6-0-0\n",
      "--- fold3/110622-6-0-0\n",
      "************************************************\n",
      " Class Jackhammer is mistaken with: \n",
      "# AirCon: 1 samples\n",
      "--- fold6/30206-7-0-31\n",
      "# Children playing: 1 samples\n",
      "--- fold9/119809-7-0-6\n",
      "# Drilling: 8 samples\n",
      "--- fold4/171305-7-8-1\n",
      "--- fold7/77751-7-9-0\n",
      "--- fold7/77751-7-8-0\n",
      "--- fold7/77751-7-6-0\n",
      "--- fold4/171305-7-13-0\n",
      "--- fold7/77751-7-2-0\n",
      "--- fold7/14772-7-1-0\n",
      "--- fold8/33340-7-1-0\n",
      "# Street music: 1 samples\n",
      "--- fold8/33340-7-9-0\n",
      "************************************************\n",
      " Class Siren is mistaken with: \n",
      "# AirCon: 3 samples\n",
      "--- fold10/74364-8-1-22\n",
      "--- fold3/94636-8-0-17\n",
      "--- fold3/94636-8-0-18\n",
      "# Car horn: 1 samples\n",
      "--- fold8/133473-8-0-5\n",
      "# Children playing: 8 samples\n",
      "--- fold10/88121-8-0-3\n",
      "--- fold1/164053-8-2-1\n",
      "--- fold3/42117-8-0-3\n",
      "--- fold1/164053-8-0-0\n",
      "--- fold3/121528-8-1-0\n",
      "--- fold1/164053-8-1-0\n",
      "--- fold6/34952-8-0-4\n",
      "--- fold4/24347-8-0-96\n",
      "# Dog bark: 25 samples\n",
      "--- fold4/24347-8-0-98\n",
      "--- fold8/148632-8-0-17\n",
      "--- fold9/159744-8-0-1\n",
      "--- fold4/158608-8-0-0\n",
      "--- fold4/158608-8-0-3\n",
      "--- fold9/159755-8-0-0\n",
      "--- fold7/43805-8-2-0\n",
      "--- fold3/42117-8-0-4\n",
      "--- fold4/24347-8-0-97\n",
      "--- fold9/159744-8-0-13\n",
      "--- fold9/159744-8-0-0\n",
      "--- fold2/91396-8-0-0\n",
      "--- fold5/156869-8-0-0\n",
      "--- fold4/158608-8-0-4\n",
      "--- fold5/159754-8-0-0\n",
      "--- fold10/159742-8-0-2\n",
      "--- fold2/159747-8-0-4\n",
      "--- fold8/148632-8-0-14\n",
      "--- fold2/102871-8-0-14\n",
      "--- fold5/164782-8-0-2\n",
      "--- fold4/156868-8-3-0\n",
      "--- fold5/159754-8-4-0\n",
      "--- fold4/156868-8-4-0\n",
      "--- fold8/148632-8-0-18\n",
      "--- fold4/158608-8-0-6\n",
      "# Gun shot: 1 samples\n",
      "--- fold7/105289-8-2-5\n",
      "# Jackhammer: 1 samples\n",
      "--- fold3/94636-8-0-20\n",
      "# Street music: 4 samples\n",
      "--- fold3/94636-8-0-19\n",
      "--- fold5/28426-8-0-0\n",
      "--- fold7/43805-8-4-0\n",
      "--- fold3/42117-8-0-0\n",
      "************************************************\n",
      " Class Street music is mistaken with: \n",
      "# AirCon: 10 samples\n",
      "--- fold2/74226-9-0-7\n",
      "--- fold2/196384-9-0-15\n",
      "--- fold6/66000-9-0-6\n",
      "--- fold9/194310-9-0-3\n",
      "--- fold2/196384-9-0-11\n",
      "--- fold2/39970-9-0-108\n",
      "--- fold10/147491-9-2-6\n",
      "--- fold4/99157-9-0-22\n",
      "--- fold5/155243-9-0-55\n",
      "--- fold7/181102-9-0-97\n",
      "# Car horn: 3 samples\n",
      "--- fold2/168713-9-0-62\n",
      "--- fold6/155127-9-1-2\n",
      "--- fold10/203424-9-0-18\n",
      "# Children playing: 21 samples\n",
      "--- fold9/152570-9-0-0\n",
      "--- fold8/66599-9-1-23\n",
      "--- fold8/66599-9-1-11\n",
      "--- fold9/171406-9-0-7\n",
      "--- fold9/152570-9-1-61\n",
      "--- fold4/39968-9-0-69\n",
      "--- fold7/61789-9-0-69\n",
      "--- fold10/115241-9-0-8\n",
      "--- fold3/77769-9-0-2\n",
      "--- fold10/138017-9-1-6\n",
      "--- fold10/136558-9-0-2\n",
      "--- fold2/149370-9-0-19\n",
      "--- fold8/39967-9-0-0\n",
      "--- fold10/115241-9-0-9\n",
      "--- fold7/61789-9-0-16\n",
      "--- fold1/69304-9-0-0\n",
      "--- fold9/171406-9-0-57\n",
      "--- fold6/31973-9-0-71\n",
      "--- fold9/155242-9-0-35\n",
      "--- fold2/93193-9-0-4\n",
      "--- fold7/61789-9-0-14\n",
      "# Dog bark: 13 samples\n",
      "--- fold5/109263-9-0-39\n",
      "--- fold8/14386-9-0-2\n",
      "--- fold4/61790-9-0-15\n",
      "--- fold3/61791-9-1-44\n",
      "--- fold8/115240-9-0-1\n",
      "--- fold4/42954-9-0-12\n",
      "--- fold3/77769-9-0-4\n",
      "--- fold8/194733-9-0-7\n",
      "--- fold4/132108-9-1-26\n",
      "--- fold2/14387-9-0-16\n",
      "--- fold1/99180-9-0-0\n",
      "--- fold4/60608-9-0-2\n",
      "--- fold1/139951-9-0-33\n",
      "# Drilling: 9 samples\n",
      "--- fold3/93065-9-0-4\n",
      "--- fold6/98680-9-0-5\n",
      "--- fold6/98680-9-0-11\n",
      "--- fold10/164377-9-1-50\n",
      "--- fold10/77901-9-0-0\n",
      "--- fold3/98681-9-0-6\n",
      "--- fold3/98681-9-0-5\n",
      "--- fold8/179039-9-0-30\n",
      "--- fold3/93065-9-0-7\n",
      "# Engine idling: 5 samples\n",
      "--- fold8/189825-9-0-2\n",
      "--- fold8/39967-9-0-100\n",
      "--- fold9/14385-9-0-14\n",
      "--- fold1/21684-9-0-39\n",
      "--- fold4/132108-9-1-1\n",
      "# Gun shot: 2 samples\n",
      "--- fold1/194732-9-0-163\n",
      "--- fold4/61790-9-1-1\n",
      "# Jackhammer: 3 samples\n",
      "--- fold7/28385-9-0-9\n",
      "--- fold10/77901-9-0-7\n",
      "--- fold1/132016-9-0-20\n",
      "# Siren: 3 samples\n",
      "--- fold4/60608-9-0-4\n",
      "--- fold4/60608-9-0-3\n",
      "--- fold8/194733-9-0-12\n",
      "************************************************\n"
     ]
    }
   ],
   "source": [
    "for ID, name in classID.items():\n",
    "    x = y_pred[(y_true == ID)*(y_pred != ID)]\n",
    "    names = test_x1[(y_true == ID)*(y_pred != ID)][:,-1]\n",
    "    \n",
    "    unique_class, unique_count = np.unique(x, return_counts=True)\n",
    "    print \"************************************************\"\n",
    "    print \" Class {0} is mistaken with: \".format(name)\n",
    "    for c, y in zip(unique_class, unique_count):        \n",
    "        print \"# {0}: {1} samples\".format(classID[c], y)\n",
    "        for name in names[x == c]:\n",
    "            true_name = \"/\".join((name.split(\"/\")[1], name.split(\"/\")[2].split(\".\")[0]))\n",
    "            print \"--- {0}\".format(true_name)\n",
    "print \"************************************************\""
   ]
  },
  {
   "cell_type": "markdown",
   "metadata": {},
   "source": [
    "### Test"
   ]
  },
  {
   "cell_type": "code",
   "execution_count": 73,
   "metadata": {
    "collapsed": true
   },
   "outputs": [],
   "source": [
    "import pandas as pd"
   ]
  },
  {
   "cell_type": "code",
   "execution_count": 129,
   "metadata": {
    "collapsed": false
   },
   "outputs": [
    {
     "data": {
      "text/html": [
       "<div>\n",
       "<table border=\"1\" class=\"dataframe\">\n",
       "  <thead>\n",
       "    <tr style=\"text-align: right;\">\n",
       "      <th></th>\n",
       "      <th>File name</th>\n",
       "      <th>Label</th>\n",
       "    </tr>\n",
       "  </thead>\n",
       "  <tbody>\n",
       "    <tr>\n",
       "      <th>0</th>\n",
       "      <td>test_sound/90013__thfc140491__jackhammer-vehic...</td>\n",
       "      <td>7</td>\n",
       "    </tr>\n",
       "    <tr>\n",
       "      <th>1</th>\n",
       "      <td>test_sound/Tornado Siren-SoundBible.com-897026...</td>\n",
       "      <td>8</td>\n",
       "    </tr>\n",
       "    <tr>\n",
       "      <th>2</th>\n",
       "      <td>test_sound/M1 Garand Gunfire-SoundBible.com-69...</td>\n",
       "      <td>6</td>\n",
       "    </tr>\n",
       "    <tr>\n",
       "      <th>3</th>\n",
       "      <td>test_sound/Dog Woof-SoundBible.com-457935112.wav</td>\n",
       "      <td>3</td>\n",
       "    </tr>\n",
       "    <tr>\n",
       "      <th>4</th>\n",
       "      <td>test_sound/73623__robinhood76__01063-roadworks...</td>\n",
       "      <td>4</td>\n",
       "    </tr>\n",
       "  </tbody>\n",
       "</table>\n",
       "</div>"
      ],
      "text/plain": [
       "                                           File name  Label\n",
       "0  test_sound/90013__thfc140491__jackhammer-vehic...      7\n",
       "1  test_sound/Tornado Siren-SoundBible.com-897026...      8\n",
       "2  test_sound/M1 Garand Gunfire-SoundBible.com-69...      6\n",
       "3   test_sound/Dog Woof-SoundBible.com-457935112.wav      3\n",
       "4  test_sound/73623__robinhood76__01063-roadworks...      4"
      ]
     },
     "execution_count": 129,
     "metadata": {},
     "output_type": "execute_result"
    }
   ],
   "source": [
    "test_label_df = pd.read_csv(\"test_csv.csv\")\n",
    "test_label_df = test_label_df.iloc[:,1:3]\n",
    "test_label_df.head()"
   ]
  },
  {
   "cell_type": "code",
   "execution_count": 130,
   "metadata": {
    "collapsed": false
   },
   "outputs": [],
   "source": []
  },
  {
   "cell_type": "code",
   "execution_count": 131,
   "metadata": {
    "collapsed": true
   },
   "outputs": [],
   "source": [
    "def parse_audio_test_files(parent_dir,sub_dir=\"\",file_ext='*.wav'):\n",
    "    features, namePath = np.empty((0,296)), np.empty(0)\n",
    "    for fn in glob.glob(os.path.join(parent_dir, sub_dir, file_ext)):\n",
    "        mfccs, logmel, mel = extract_feature(fn)\n",
    "        ext_features = np.hstack([mfccs,logmel, mel])\n",
    "        features = np.vstack([features,ext_features])\n",
    "        namePath = np.append(namePath, fn)\n",
    "    return np.array(features), np.array(namePath, dtype=np.string_)"
   ]
  },
  {
   "cell_type": "code",
   "execution_count": 132,
   "metadata": {
    "collapsed": false
   },
   "outputs": [],
   "source": [
    "test_features, test_fileNames = parse_audio_test_files(\"test_sound\")\n"
   ]
  },
  {
   "cell_type": "code",
   "execution_count": 1,
   "metadata": {
    "collapsed": false
   },
   "outputs": [
    {
     "ename": "NameError",
     "evalue": "name 'test_label_df' is not defined",
     "output_type": "error",
     "traceback": [
      "\u001b[0;31m---------------------------------------------------------------------------\u001b[0m",
      "\u001b[0;31mNameError\u001b[0m                                 Traceback (most recent call last)",
      "\u001b[0;32m<ipython-input-1-506cef4f71d3>\u001b[0m in \u001b[0;36m<module>\u001b[0;34m()\u001b[0m\n\u001b[0;32m----> 1\u001b[0;31m \u001b[0mtest_label_np\u001b[0m \u001b[0;34m=\u001b[0m \u001b[0mtest_label_df\u001b[0m\u001b[0;34m.\u001b[0m\u001b[0mas_matrix\u001b[0m\u001b[0;34m(\u001b[0m\u001b[0;34m[\u001b[0m\u001b[0;34m\"Label\"\u001b[0m\u001b[0;34m]\u001b[0m\u001b[0;34m)\u001b[0m\u001b[0;34m\u001b[0m\u001b[0m\n\u001b[0m\u001b[1;32m      2\u001b[0m \u001b[0mtest_x\u001b[0m \u001b[0;34m=\u001b[0m \u001b[0mtest_features\u001b[0m\u001b[0;34m[\u001b[0m\u001b[0;34m:\u001b[0m\u001b[0;34m,\u001b[0m\u001b[0;36m0\u001b[0m\u001b[0;34m:\u001b[0m\u001b[0;36m168\u001b[0m\u001b[0;34m]\u001b[0m\u001b[0;34m\u001b[0m\u001b[0m\n\u001b[1;32m      3\u001b[0m \u001b[0mtest_y\u001b[0m \u001b[0;34m=\u001b[0m \u001b[0mone_hot_encode\u001b[0m\u001b[0;34m(\u001b[0m\u001b[0mtest_label_np\u001b[0m\u001b[0;34m[\u001b[0m\u001b[0;34m:\u001b[0m\u001b[0;34m,\u001b[0m\u001b[0;36m0\u001b[0m\u001b[0;34m]\u001b[0m\u001b[0;34m)\u001b[0m\u001b[0;34m\u001b[0m\u001b[0m\n\u001b[1;32m      4\u001b[0m \u001b[0mcol10\u001b[0m \u001b[0;34m=\u001b[0m \u001b[0mnp\u001b[0m\u001b[0;34m.\u001b[0m\u001b[0mzeros\u001b[0m\u001b[0;34m(\u001b[0m\u001b[0;36m76\u001b[0m\u001b[0;34m)\u001b[0m\u001b[0;34m\u001b[0m\u001b[0m\n",
      "\u001b[0;31mNameError\u001b[0m: name 'test_label_df' is not defined"
     ]
    }
   ],
   "source": [
    "test_label_np = test_label_df.as_matrix([\"Label\"])\n",
    "test_x = test_features[:,0:168]\n",
    "test_y = one_hot_encode(test_label_np[:,0])\n",
    "col10 = np.zeros(76)"
   ]
  },
  {
   "cell_type": "code",
   "execution_count": 160,
   "metadata": {
    "collapsed": false
   },
   "outputs": [],
   "source": [
    "test_y = np.concatenate((test_y, col10[:,np.newaxis]), axis=1)"
   ]
  },
  {
   "cell_type": "code",
   "execution_count": 162,
   "metadata": {
    "collapsed": false
   },
   "outputs": [
    {
     "name": "stdout",
     "output_type": "stream",
     "text": [
      "Test\n",
      "F-Score: 0.328947368421\n",
      "Confusion Matrix\n",
      "[[0 0 0 3 1 0 0 1 0 1]\n",
      " [0 1 0 0 0 0 0 0 0 2]\n",
      " [0 0 1 0 0 0 0 0 0 0]\n",
      " [0 0 1 4 0 0 1 0 0 0]\n",
      " [3 0 1 0 5 1 0 3 1 0]\n",
      " [0 0 0 0 0 0 0 0 0 1]\n",
      " [0 0 2 5 0 2 1 0 0 3]\n",
      " [0 0 0 0 0 0 0 9 0 1]\n",
      " [0 2 2 5 4 2 2 1 4 0]\n",
      " [0 0 0 0 0 0 0 0 0 0]]\n"
     ]
    }
   ],
   "source": [
    "with tf.Session() as sess:\n",
    "    saver.restore(sess,\"model/nn_model_full.ckpt\")\n",
    "    print \"Test\"\n",
    "    y_pred = sess.run(tf.argmax(y_,1),feed_dict={X: test_x})\n",
    "    y_true = sess.run(tf.argmax(test_y,1))\n",
    "    p,r,f,s = precision_recall_fscore_support(y_true, y_pred, average='micro')\n",
    "    print \"F-Score: {0}\".format(f)\n",
    "    print \"Confusion Matrix\"\n",
    "    print confusion_matrix(y_true, y_pred)"
   ]
  },
  {
   "cell_type": "code",
   "execution_count": 164,
   "metadata": {
    "collapsed": false
   },
   "outputs": [
    {
     "name": "stdout",
     "output_type": "stream",
     "text": [
      "************************************************\n",
      " Class AirCon is mistaken with: \n",
      "# Dog bark: 3 samples\n",
      "--- fold8/194733-9-0-12\n",
      "--- fold8/194733-9-0-12\n",
      "--- fold8/194733-9-0-12\n",
      "# Drilling: 1 samples\n",
      "--- fold8/194733-9-0-12\n",
      "# Jackhammer: 1 samples\n",
      "--- fold8/194733-9-0-12\n",
      "# Street music: 1 samples\n",
      "--- fold8/194733-9-0-12\n",
      "************************************************\n",
      " Class Car horn is mistaken with: \n",
      "# Street music: 2 samples\n",
      "--- fold8/194733-9-0-12\n",
      "--- fold8/194733-9-0-12\n",
      "************************************************\n",
      " Class Children playing is mistaken with: \n",
      "************************************************\n",
      " Class Dog bark is mistaken with: \n",
      "# Children playing: 1 samples\n",
      "--- fold8/194733-9-0-12\n",
      "# Gun shot: 1 samples\n",
      "--- fold8/194733-9-0-12\n",
      "************************************************\n",
      " Class Drilling is mistaken with: \n",
      "# AirCon: 3 samples\n",
      "--- fold8/194733-9-0-12\n",
      "--- fold8/194733-9-0-12\n",
      "--- fold8/194733-9-0-12\n",
      "# Children playing: 1 samples\n",
      "--- fold8/194733-9-0-12\n",
      "# Engine idling: 1 samples\n",
      "--- fold8/194733-9-0-12\n",
      "# Jackhammer: 3 samples\n",
      "--- fold8/194733-9-0-12\n",
      "--- fold8/194733-9-0-12\n",
      "--- fold8/194733-9-0-12\n",
      "# Siren: 1 samples\n",
      "--- fold8/194733-9-0-12\n",
      "************************************************\n",
      " Class Engine idling is mistaken with: \n",
      "# Street music: 1 samples\n",
      "--- fold8/194733-9-0-12\n",
      "************************************************\n",
      " Class Gun shot is mistaken with: \n",
      "# Children playing: 2 samples\n",
      "--- fold8/194733-9-0-12\n",
      "--- fold8/194733-9-0-12\n",
      "# Dog bark: 5 samples\n",
      "--- fold8/194733-9-0-12\n",
      "--- fold8/194733-9-0-12\n",
      "--- fold8/194733-9-0-12\n",
      "--- fold8/194733-9-0-12\n",
      "--- fold8/194733-9-0-12\n",
      "# Engine idling: 2 samples\n",
      "--- fold8/194733-9-0-12\n",
      "--- fold8/194733-9-0-12\n",
      "# Street music: 3 samples\n",
      "--- fold8/194733-9-0-12\n",
      "--- fold8/194733-9-0-12\n",
      "--- fold8/194733-9-0-12\n",
      "************************************************\n",
      " Class Jackhammer is mistaken with: \n",
      "# Street music: 1 samples\n",
      "--- fold8/194733-9-0-12\n",
      "************************************************\n",
      " Class Siren is mistaken with: \n",
      "# Car horn: 2 samples\n",
      "--- fold8/194733-9-0-12\n",
      "--- fold8/194733-9-0-12\n",
      "# Children playing: 2 samples\n",
      "--- fold8/194733-9-0-12\n",
      "--- fold8/194733-9-0-12\n",
      "# Dog bark: 5 samples\n",
      "--- fold8/194733-9-0-12\n",
      "--- fold8/194733-9-0-12\n",
      "--- fold8/194733-9-0-12\n",
      "--- fold8/194733-9-0-12\n",
      "--- fold8/194733-9-0-12\n",
      "# Drilling: 4 samples\n",
      "--- fold8/194733-9-0-12\n",
      "--- fold8/194733-9-0-12\n",
      "--- fold8/194733-9-0-12\n",
      "--- fold8/194733-9-0-12\n",
      "# Engine idling: 2 samples\n",
      "--- fold8/194733-9-0-12\n",
      "--- fold8/194733-9-0-12\n",
      "# Gun shot: 2 samples\n",
      "--- fold8/194733-9-0-12\n",
      "--- fold8/194733-9-0-12\n",
      "# Jackhammer: 1 samples\n",
      "--- fold8/194733-9-0-12\n",
      "************************************************\n",
      " Class Street music is mistaken with: \n",
      "************************************************\n"
     ]
    }
   ],
   "source": [
    "for ID, name in classID.items():\n",
    "    x = y_pred[(y_true == ID)*(y_pred != ID)]\n",
    "    names = test_fileNames[(y_true == ID)*(y_pred != ID)]\n",
    "    \n",
    "    unique_class, unique_count = np.unique(x, return_counts=True)\n",
    "    print \"************************************************\"\n",
    "    print \" Class {0} is mistaken with: \".format(name)\n",
    "    for c, y in zip(unique_class, unique_count):        \n",
    "        print \"# {0}: {1} samples\".format(classID[c], y)\n",
    "        for name in names[x == c]:\n",
    "            print \"--- {0}\".format(true_name)\n",
    "print \"************************************************\""
   ]
  },
  {
   "cell_type": "markdown",
   "metadata": {},
   "source": [
    "### NN - mfcc + mel spec norm_data"
   ]
  },
  {
   "cell_type": "code",
   "execution_count": null,
   "metadata": {
    "collapsed": true
   },
   "outputs": [],
   "source": [
    "norm_mfcc_mel_features = (mfcc_mel_features - np.mean(mfcc_mel_features, axis=0))/np.std(mfcc_mel_features, axis=0)"
   ]
  },
  {
   "cell_type": "code",
   "execution_count": null,
   "metadata": {
    "collapsed": false
   },
   "outputs": [],
   "source": [
    "norm_mfcc_mel_features_and_filenames = np.concatenate((norm_mfcc_mel_features, file_names[:,np.newaxis]), axis=1)"
   ]
  },
  {
   "cell_type": "code",
   "execution_count": null,
   "metadata": {
    "collapsed": true
   },
   "outputs": [],
   "source": [
    "train_x1, test_x1, train_y, test_y = train_test_split(norm_mfcc_mel_features_and_filenames, labels, test_size=0.3, random_state=5, stratify=xlabels)\n",
    "train_x = train_x1[:,0:-1]\n",
    "test_x = test_x1[:,0:-1]"
   ]
  },
  {
   "cell_type": "code",
   "execution_count": null,
   "metadata": {
    "collapsed": true
   },
   "outputs": [],
   "source": [
    "# Initialize parameters\n",
    "training_epochs = 20000 # number of iteration\n",
    "n_dim = train_x.shape[1] # number of features\n",
    "n_classes = 10 # number of classes\n",
    "n_hidden_units_one = 280  # number of units in hidden layer 1\n",
    "n_hidden_units_two = 300 # number of units in hidden layer 2\n",
    "sd = 1 / np.sqrt(n_dim) # std of initial weight and bias\n",
    "learning_rate = 0.01 "
   ]
  },
  {
   "cell_type": "code",
   "execution_count": null,
   "metadata": {
    "collapsed": true
   },
   "outputs": [],
   "source": [
    "# Randomly initialize params for each layers\n",
    "X = tf.placeholder(tf.float32,[None,n_dim])\n",
    "Y = tf.placeholder(tf.float32,[None,n_classes])\n",
    "\n",
    "# Hidden layer 1 params\n",
    "W_1 = tf.Variable(tf.random_normal([n_dim,n_hidden_units_one], mean = 0, stddev=sd))\n",
    "b_1 = tf.Variable(tf.random_normal([n_hidden_units_one], mean = 0, stddev=sd))\n",
    "h_1 = tf.nn.tanh(tf.matmul(X,W_1) + b_1)\n",
    "\n",
    "# Hidden layer 2 params\n",
    "W_2 = tf.Variable(tf.random_normal([n_hidden_units_one,n_hidden_units_two], mean = 0, stddev=sd))\n",
    "b_2 = tf.Variable(tf.random_normal([n_hidden_units_two], mean = 0, stddev=sd))\n",
    "h_2 = tf.nn.sigmoid(tf.matmul(h_1,W_2) + b_2)\n",
    "\n",
    "# Softmax classification initialization\n",
    "W = tf.Variable(tf.random_normal([n_hidden_units_two,n_classes], mean = 0, stddev=sd))\n",
    "b = tf.Variable(tf.random_normal([n_classes], mean = 0, stddev=sd))\n",
    "y_ = tf.nn.softmax(tf.matmul(h_2,W) + b)\n",
    "\n",
    "init = tf.global_variables_initializer()"
   ]
  },
  {
   "cell_type": "code",
   "execution_count": null,
   "metadata": {
    "collapsed": true
   },
   "outputs": [],
   "source": [
    "# cost_function = \n",
    "cost_function = tf.reduce_mean(-tf.reduce_sum(Y * tf.log(y_), reduction_indices=[1])) \n",
    "optimizer = tf.train.GradientDescentOptimizer(learning_rate).minimize(cost_function)\n",
    "\n",
    "correct_prediction = tf.equal(tf.argmax(y_,1), tf.argmax(Y,1))\n",
    "accuracy = tf.reduce_mean(tf.cast(correct_prediction, tf.float32))"
   ]
  },
  {
   "cell_type": "code",
   "execution_count": null,
   "metadata": {
    "collapsed": false
   },
   "outputs": [],
   "source": [
    "training_epochs = 20000 # number of iteration\n",
    "cost_history = np.empty(shape=[1],dtype=float)\n",
    "y_true, y_pred = None, None\n",
    "start_time = time.time()\n",
    "with tf.Session() as sess:\n",
    "    sess.run(init)\n",
    "    for epoch in range(training_epochs):            \n",
    "        _,cost = sess.run([optimizer,cost_function],feed_dict={X:train_x,Y:train_y})\n",
    "        cost_history = np.append(cost_history,cost)\n",
    "     \n",
    "    fig = plt.figure(figsize=(10,8))\n",
    "    plt.plot(cost_history)\n",
    "    plt.ylabel(\"Cost\")\n",
    "    plt.xlabel(\"Iterations\")\n",
    "    plt.axis([0,training_epochs,0,np.max(cost_history)])\n",
    "    plt.show()\n",
    "    y_pred = sess.run(tf.argmax(y_,1),feed_dict={X: test_x})\n",
    "    y_true = sess.run(tf.argmax(test_y,1))\n",
    "    p,r,f,s = precision_recall_fscore_support(y_true, y_pred, average='micro')\n",
    "    print \"F-Score: {0}\".format(f)\n",
    "    print \"Confusion Matrix\"\n",
    "    print confusion_matrix(y_true, y_pred)\n",
    "print (\"---Training time: %s seconds ---\" % (time.time() - start_time))\n",
    "print \"------------------------------------------\""
   ]
  },
  {
   "cell_type": "markdown",
   "metadata": {},
   "source": [
    "## NN - mfcc + mel spec data"
   ]
  },
  {
   "cell_type": "code",
   "execution_count": null,
   "metadata": {
    "collapsed": true
   },
   "outputs": [],
   "source": [
    "mfcc_mel_features_and_filenames = np.concatenate((mfcc_mel_features, file_names[:,np.newaxis]), axis=1)\n",
    "train_x1, test_x1, train_y, test_y = train_test_split(mfcc_mel_features_and_filenames, labels, test_size=0.3, random_state=5, stratify=xlabels)\n",
    "train_x = train_x1[:,0:-1]\n",
    "test_x = test_x1[:,0:-1]"
   ]
  },
  {
   "cell_type": "code",
   "execution_count": null,
   "metadata": {
    "collapsed": false
   },
   "outputs": [],
   "source": [
    "training_epochs = 20000 # number of iteration\n",
    "cost_history = np.empty(shape=[1],dtype=float)\n",
    "y_true, y_pred = None, None\n",
    "start_time = time.time()\n",
    "with tf.Session() as sess:\n",
    "    sess.run(init)\n",
    "    for epoch in range(training_epochs):            \n",
    "        _,cost = sess.run([optimizer,cost_function],feed_dict={X:train_x,Y:train_y})\n",
    "        cost_history = np.append(cost_history,cost)\n",
    "     \n",
    "    fig = plt.figure(figsize=(10,8))\n",
    "    plt.plot(cost_history)\n",
    "    plt.ylabel(\"Cost\")\n",
    "    plt.xlabel(\"Iterations\")\n",
    "    plt.axis([0,training_epochs,0,np.max(cost_history)])\n",
    "    plt.show()\n",
    "    y_pred = sess.run(tf.argmax(y_,1),feed_dict={X: test_x})\n",
    "    y_true = sess.run(tf.argmax(test_y,1))\n",
    "    p,r,f,s = precision_recall_fscore_support(y_true, y_pred, average='micro')\n",
    "    print \"F-Score: {0}\".format(f)\n",
    "    print \"Confusion Matrix\"\n",
    "    print confusion_matrix(y_true, y_pred)\n",
    "print (\"---Training time: %s seconds ---\" % (time.time() - start_time))\n",
    "print \"------------------------------------------\""
   ]
  },
  {
   "cell_type": "code",
   "execution_count": null,
   "metadata": {
    "collapsed": false
   },
   "outputs": [],
   "source": [
    "mfcc_logmel_features = np.copy(mfcc_mel_features)\n",
    "mfcc_logmel_features[:,40:168] = np.log(mfcc_logmel_features[:,40:168] )\n",
    "mfcc_logmel_features_and_filenames = np.concatenate((mfcc_logmel_features, file_names[:,np.newaxis]), axis=1)\n",
    "train_x1, test_x1, train_y, test_y = train_test_split(mfcc_logmel_features_and_filenames, labels, test_size=0.3, random_state=5, stratify=xlabels)\n",
    "train_x = train_x1[:,0:-1]\n",
    "test_x = test_x1[:,0:-1]"
   ]
  },
  {
   "cell_type": "code",
   "execution_count": null,
   "metadata": {
    "collapsed": false
   },
   "outputs": [],
   "source": [
    "training_epochs = 20000 # number of iteration\n",
    "cost_history = np.empty(shape=[1],dtype=float)\n",
    "y_true, y_pred = None, None\n",
    "start_time = time.time()\n",
    "with tf.Session() as sess:\n",
    "    sess.run(init)\n",
    "    for epoch in range(training_epochs):            \n",
    "        _,cost = sess.run([optimizer,cost_function],feed_dict={X:train_x,Y:train_y})\n",
    "        cost_history = np.append(cost_history,cost)\n",
    "     \n",
    "    fig = plt.figure(figsize=(10,8))\n",
    "    plt.plot(cost_history)\n",
    "    plt.ylabel(\"Cost\")\n",
    "    plt.xlabel(\"Iterations\")\n",
    "    plt.axis([0,training_epochs,0,np.max(cost_history)])\n",
    "    plt.show()\n",
    "    y_pred = sess.run(tf.argmax(y_,1),feed_dict={X: test_x})\n",
    "    y_true = sess.run(tf.argmax(test_y,1))\n",
    "    p,r,f,s = precision_recall_fscore_support(y_true, y_pred, average='micro')\n",
    "    print \"F-Score: {0}\".format(f)\n",
    "    print \"Confusion Matrix\"\n",
    "    print confusion_matrix(y_true, y_pred)\n",
    "print (\"---Training time: %s seconds ---\" % (time.time() - start_time))\n",
    "print \"------------------------------------------\""
   ]
  },
  {
   "cell_type": "code",
   "execution_count": null,
   "metadata": {
    "collapsed": true
   },
   "outputs": [],
   "source": []
  }
 ],
 "metadata": {
  "anaconda-cloud": {},
  "kernelspec": {
   "display_name": "Python [conda root]",
   "language": "python",
   "name": "conda-root-py"
  },
  "language_info": {
   "codemirror_mode": {
    "name": "ipython",
    "version": 2
   },
   "file_extension": ".py",
   "mimetype": "text/x-python",
   "name": "python",
   "nbconvert_exporter": "python",
   "pygments_lexer": "ipython2",
   "version": "2.7.12"
  }
 },
 "nbformat": 4,
 "nbformat_minor": 0
}
