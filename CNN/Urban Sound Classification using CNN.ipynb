{
 "cells": [
  {
   "cell_type": "code",
   "execution_count": 1,
   "metadata": {
    "collapsed": true
   },
   "outputs": [],
   "source": [
    "import glob\n",
    "import os\n",
    "import librosa\n",
    "import matplotlib.pyplot as plt\n",
    "import tensorflow as tf\n",
    "import numpy as np\n",
    "from matplotlib.pyplot import specgram\n",
    "import time\n",
    "from sklearn.cross_validation import train_test_split\n",
    "%matplotlib inline\n",
    "plt.style.use('ggplot')\n",
    "\n",
    "plt.rcParams['font.family'] = 'serif'\n",
    "plt.rcParams['font.serif'] = 'Ubuntu'\n",
    "plt.rcParams['font.monospace'] = 'Ubuntu Mono'\n",
    "plt.rcParams['font.size'] = 12\n",
    "plt.rcParams['axes.labelsize'] = 11\n",
    "plt.rcParams['axes.labelweight'] = 'bold'\n",
    "plt.rcParams['axes.titlesize'] = 12\n",
    "plt.rcParams['xtick.labelsize'] = 9\n",
    "plt.rcParams['ytick.labelsize'] = 9\n",
    "plt.rcParams['legend.fontsize'] = 11\n",
    "plt.rcParams['figure.titlesize'] = 13"
   ]
  },
  {
   "cell_type": "code",
   "execution_count": 2,
   "metadata": {
    "collapsed": true
   },
   "outputs": [],
   "source": [
    "def load_sounds(parent_dir,sub_dirs,file_ext=\"*.wav\"):\n",
    "    namePath = []\n",
    "    sounds = []\n",
    "    labels = []\n",
    "    for l, sub_dir in enumerate(sub_dirs):\n",
    "        for fn in glob.glob(os.path.join(parent_dir, sub_dir, file_ext)):\n",
    "            \n",
    "            sound_clip,sr = librosa.load(fn)\n",
    "            sounds.append(sound_clip)\n",
    "            \n",
    "            namePath.append(fn)\n",
    "            \n",
    "            label = fn.split('/')[-1].split('-')[1]\n",
    "            labels.append(label)\n",
    "    sounds_ID = np.arange(np.shape(sounds)[0])\n",
    "    sounds = np.array(sounds)\n",
    "    labels = np.array(labels,dtype = np.int)\n",
    "    namePath = np.array(namePath, dtype=np.string_)\n",
    "    train_x, test_x, train_y, test_y = train_test_split(sounds_ID, labels, test_size=0.3, random_state=4, stratify=labels)\n",
    "    \n",
    "    return sounds[train_x], train_y, namePath[train_x], sounds[test_x], test_y, namePath[test_y]"
   ]
  },
  {
   "cell_type": "code",
   "execution_count": 24,
   "metadata": {
    "collapsed": false
   },
   "outputs": [
    {
     "name": "stdout",
     "output_type": "stream",
     "text": [
      "---Loading Sounds.... ---\n",
      "---Loading time: 1891.92376804 seconds ---\n"
     ]
    }
   ],
   "source": [
    "# # Only for the first time running\n",
    "# parent_dir = '../../data/UrbanSound8K/audio/'\n",
    "# sub_dirs= ['fold1','fold2', 'fold3', 'fold4', 'fold5', 'fold6', 'fold7', 'fold8','fold9', 'fold10']\n",
    "# # sub_dirs= ['fold1']\n",
    "# print \"---Loading Sounds.... ---\"\n",
    "# start_time = time.time()\n",
    "# train_x , train_y, train_name, test_x, test_y, test_name = load_sounds(parent_dir,sub_dirs)\n",
    "# print \"---Loading time: {0} seconds ---\".format(time.time() - start_time)"
   ]
  },
  {
   "cell_type": "code",
   "execution_count": 43,
   "metadata": {
    "collapsed": false
   },
   "outputs": [],
   "source": [
    "# # All Folds\n",
    "# np.save(\"cnn_train_features_full\", train_x, allow_pickle=True)\n",
    "# np.save(\"cnn_train_labels_full\", train_y, allow_pickle=True)\n",
    "# np.save(\"cnn_train_file_names_full\", train_name, allow_pickle=True)"
   ]
  },
  {
   "cell_type": "code",
   "execution_count": 44,
   "metadata": {
    "collapsed": true
   },
   "outputs": [],
   "source": [
    "# # All Folds\n",
    "# np.save(\"cnn_test_features_full\", test_x, allow_pickle=True)\n",
    "# np.save(\"cnn_test_labels_full\", test_y, allow_pickle=True)\n",
    "# np.save(\"cnn_test_file_names_full\", test_name, allow_pickle=True)"
   ]
  },
  {
   "cell_type": "code",
   "execution_count": 4,
   "metadata": {
    "collapsed": false
   },
   "outputs": [],
   "source": [
    "# All Folds\n",
    "train_x = np.load(\"cnn_train_features_full.npy\", allow_pickle=True)\n",
    "train_y = np.load(\"cnn_train_labels_full.npy\", allow_pickle=True)\n",
    "train_files = np.load(\"cnn_train_file_names_full.npy\", allow_pickle=True)"
   ]
  },
  {
   "cell_type": "code",
   "execution_count": 5,
   "metadata": {
    "collapsed": true
   },
   "outputs": [],
   "source": [
    "# All Folds\n",
    "test_x = np.load(\"cnn_test_features_full.npy\", allow_pickle=True)\n",
    "test_y = np.load(\"cnn_test_labels_full.npy\", allow_pickle=True)\n",
    "test_files = np.load(\"cnn_test_file_names_full.npy\", allow_pickle=True)"
   ]
  },
  {
   "cell_type": "code",
   "execution_count": 9,
   "metadata": {
    "collapsed": false
   },
   "outputs": [],
   "source": [
    "sr = 22050\n",
    "N_TRAIN_FOLDS = 10\n",
    "def extract_train_features(data, labels, names,  bands = 128, frames = 128):\n",
    "    data_length = np.shape(data)[0]\n",
    "    n_patches = np.int32(np.floor(data_length/(N_TRAIN_FOLDS-1)))\n",
    "    for fold in np.arange(N_TRAIN_FOLDS):\n",
    "        fold_start = fold*n_patches\n",
    "        log_specgrams = []\n",
    "        sound_name = []\n",
    "        sound_labels = []\n",
    "        for idx in np.arange(fold_start, fold_start+n_patches):\n",
    "            if(idx >= data_length):\n",
    "                break;\n",
    "            melspec = librosa.feature.melspectrogram(data[idx], sr=sr, n_fft=512, hop_length=512)\n",
    "            n_frames = np.shape(melspec)[1]\n",
    "            if(n_frames >= frames):\n",
    "                start = np.random.randint(n_frames-frames+1)\n",
    "                melspec = melspec[:,start:start+frames]\n",
    "\n",
    "                logspec = librosa.logamplitude(melspec)\n",
    "                logspec = logspec.T.flatten()[:, np.newaxis].T\n",
    "                log_specgrams.append(logspec)\n",
    "                sound_name.append(names[idx])\n",
    "                sound_labels.append(labels[idx])    \n",
    "        features = np.asarray(log_specgrams).reshape(len(log_specgrams),bands,frames,1)\n",
    "        # All Folds\n",
    "        np.save(\"train_data/cnn_train_features_full_fold_\"+str(fold+1), np.array(features), allow_pickle=True)\n",
    "        np.save(\"train_data/cnn_train_labels_full_fold_\"+str(fold+1), np.array(sound_labels,dtype = np.int), allow_pickle=True)\n",
    "        np.save(\"train_data/cnn_train_file_names_full_fold_\"+str(fold+1), np.array(sound_name,dtype = np.str_), allow_pickle=True)\n",
    "\n",
    "def one_hot_encode(labels):\n",
    "    n_labels = len(labels)\n",
    "    n_unique_labels = len(np.unique(labels))\n",
    "    one_hot_encode = np.zeros((n_labels,n_unique_labels))\n",
    "    one_hot_encode[np.arange(n_labels), labels] = 1\n",
    "    return one_hot_encode"
   ]
  },
  {
   "cell_type": "code",
   "execution_count": 10,
   "metadata": {
    "collapsed": false
   },
   "outputs": [],
   "source": [
    "extract_train_features(train_x, train_y, train_files)"
   ]
  },
  {
   "cell_type": "code",
   "execution_count": 11,
   "metadata": {
    "collapsed": false
   },
   "outputs": [],
   "source": [
    "def load_train_data():\n",
    "    train_features = np.load(\"train_data/cnn_train_features_full_fold_1.npy\", allow_pickle=True)\n",
    "    for fold in np.arange(1, N_TRAIN_FOLDS):\n",
    "        train_fold = np.load(\"train_data/cnn_train_features_full_fold_\"+str(fold+1)+\".npy\", allow_pickle=True)\n",
    "        train_features = np.concatenate([train_features, train_fold], axis=0)\n",
    "    \n",
    "    train_labels = np.load(\"train_data/cnn_train_labels_full_fold_1.npy\", allow_pickle=True)\n",
    "    for fold in np.arange(1, N_TRAIN_FOLDS):\n",
    "        train_fold = np.load(\"train_data/cnn_train_labels_full_fold_\"+str(fold+1)+\".npy\", allow_pickle=True)\n",
    "        train_labels = np.concatenate([train_labels, train_fold], axis=0)\n",
    "    \n",
    "    train_names = np.load(\"train_data/cnn_train_file_names_full_fold_1.npy\", allow_pickle=True)\n",
    "    for fold in np.arange(1, N_TRAIN_FOLDS):\n",
    "        train_fold = np.load(\"train_data/cnn_train_file_names_full_fold_\"+str(fold+1)+\".npy\", allow_pickle=True)\n",
    "        train_names = np.concatenate([train_names, train_fold], axis=0)\n",
    "    return train_features, train_labels, train_names"
   ]
  },
  {
   "cell_type": "code",
   "execution_count": 12,
   "metadata": {
    "collapsed": false
   },
   "outputs": [],
   "source": [
    "train_features, train_labels, train_names = load_train_data()"
   ]
  },
  {
   "cell_type": "code",
   "execution_count": 13,
   "metadata": {
    "collapsed": false
   },
   "outputs": [],
   "source": [
    "sr = 22050\n",
    "N_TEST_FOLDS = 20\n",
    "def extract_test_features(data, labels, names,  bands = 128, frames = 128):\n",
    "    data_length = np.shape(data)[0]\n",
    "    n_patches = np.int32(np.floor(data_length/(N_TEST_FOLDS-1)))\n",
    "    for fold in np.arange(N_TEST_FOLDS):\n",
    "        fold_start = fold*n_patches\n",
    "        log_specgrams = []\n",
    "        sound_name = []\n",
    "        sound_labels = []\n",
    "        sound_IDs = []\n",
    "        for idx in np.arange(fold_start, fold_start+n_patches):\n",
    "            if(idx >= data_length):\n",
    "                break;\n",
    "            melspec = librosa.feature.melspectrogram(data[idx], sr=sr, n_fft=512, hop_length=512)\n",
    "            n_frames = np.shape(melspec)[1]\n",
    "            if(n_frames >= frames):\n",
    "                \n",
    "                for start in np.arange(n_frames-frames+1):\n",
    "                    \n",
    "                    patch = melspec[:,start:start+frames]\n",
    "\n",
    "                    logspec = librosa.logamplitude(patch)\n",
    "                    logspec = logspec.T.flatten()[:, np.newaxis].T\n",
    "                    log_specgrams.append(logspec)\n",
    "                    sound_name.append(names[idx])\n",
    "                    sound_labels.append(labels[idx])\n",
    "                    sound_IDs.append(idx)\n",
    "        features = np.asarray(log_specgrams).reshape(len(log_specgrams),bands,frames,1)\n",
    "        # All Folds\n",
    "        np.save(\"test_data/cnn_test_features_full_fold_\"+str(fold+1), np.array(features), allow_pickle=True)\n",
    "        np.save(\"test_data/cnn_test_labels_full_fold_\"+str(fold+1), np.array(sound_labels,dtype = np.int32), allow_pickle=True)\n",
    "        np.save(\"test_data/cnn_test_file_names_full_fold_\"+str(fold+1), np.array(sound_name,dtype = np.str_), allow_pickle=True)\n",
    "        np.save(\"test_data/cnn_test_ID_full_fold_\"+str(fold+1), np.array(sound_IDs,dtype = np.int32), allow_pickle=True)"
   ]
  },
  {
   "cell_type": "code",
   "execution_count": 15,
   "metadata": {
    "collapsed": false
   },
   "outputs": [],
   "source": [
    "extract_test_features(test_x, test_y, test_files)"
   ]
  },
  {
   "cell_type": "code",
   "execution_count": 16,
   "metadata": {
    "collapsed": true
   },
   "outputs": [],
   "source": [
    "def load_test_data():\n",
    "    test_features = np.load(\"test_data/cnn_test_features_full_fold_1.npy\", allow_pickle=True)\n",
    "    for fold in np.arange(1, N_TEST_FOLDS):\n",
    "        test_fold = np.load(\"test_data/cnn_test_features_full_fold_\"+str(fold+1)+\".npy\", allow_pickle=True)\n",
    "        test_features = np.concatenate([test_features, test_fold], axis=0)\n",
    "    \n",
    "    test_labels = np.load(\"test_data/cnn_test_labels_full_fold_1.npy\", allow_pickle=True)\n",
    "    for fold in np.arange(1, N_TEST_FOLDS):\n",
    "        test_fold = np.load(\"test_data/cnn_test_labels_full_fold_\"+str(fold+1)+\".npy\", allow_pickle=True)\n",
    "        test_labels = np.concatenate([test_labels, test_fold], axis=0)\n",
    "    \n",
    "    test_names = np.load(\"test_data/cnn_test_file_names_full_fold_1.npy\", allow_pickle=True)\n",
    "    for fold in np.arange(1, N_TEST_FOLDS):\n",
    "        test_fold = np.load(\"test_data/cnn_test_file_names_full_fold_\"+str(fold+1)+\".npy\", allow_pickle=True)\n",
    "        test_names = np.concatenate([test_names, test_fold], axis=0)\n",
    "    \n",
    "    test_id = np.load(\"test_data/cnn_test_ID_full_fold_1.npy\", allow_pickle=True)\n",
    "    for fold in np.arange(1, N_TEST_FOLDS):\n",
    "        test_fold = np.load(\"test_data/cnn_test_ID_full_fold_\"+str(fold+1)+\".npy\", allow_pickle=True)\n",
    "        test_id = np.concatenate([test_id, test_fold], axis=0)\n",
    "    return test_features, test_labels, test_names, test_id"
   ]
  },
  {
   "cell_type": "code",
   "execution_count": 17,
   "metadata": {
    "collapsed": false
   },
   "outputs": [],
   "source": [
    "test_features, test_labels, test_names, test_IDs = load_test_data()"
   ]
  },
  {
   "cell_type": "code",
   "execution_count": 3,
   "metadata": {
    "collapsed": false
   },
   "outputs": [],
   "source": [
    "# # Only for the first time running\n",
    "# parent_dir = '../../data/UrbanSound8K/audio/'\n",
    "# sub_dirs= ['fold1','fold2', 'fold3', 'fold4', 'fold5', 'fold6', 'fold7', 'fold8','fold9', 'fold10']\n",
    "# # sub_dirs= ['fold1']\n",
    "# print \"---Extracting features.... ---\"\n",
    "# start_time = time.time()\n",
    "# features,labels, files_name = extract_features(parent_dir,sub_dirs)\n",
    "# print \"---Loading time: {0} seconds ---\".format(time.time() - start_time)\n",
    "# one_hot_labels = one_hot_encode(labels)"
   ]
  },
  {
   "cell_type": "code",
   "execution_count": 4,
   "metadata": {
    "collapsed": true
   },
   "outputs": [],
   "source": [
    "# # Fold 1 2 3 4 5\n",
    "# np.save(\"cnn_features_fold_12345\", features, allow_pickle=True)\n",
    "# np.save(\"cnn_labels_fold_12345\", labels, allow_pickle=True)\n",
    "# np.save(\"cnn_file_names_fold_12345\", files_name, allow_pickle=True)"
   ]
  },
  {
   "cell_type": "code",
   "execution_count": 5,
   "metadata": {
    "collapsed": false
   },
   "outputs": [],
   "source": [
    "# # All Folds\n",
    "# np.save(\"cnn_features_full\", features, allow_pickle=True)\n",
    "# np.save(\"cnn_labels_full\", labels, allow_pickle=True)\n",
    "# np.save(\"cnn_file_names_full\", files_name, allow_pickle=True)"
   ]
  },
  {
   "cell_type": "code",
   "execution_count": 6,
   "metadata": {
    "collapsed": false
   },
   "outputs": [],
   "source": [
    "# features = np.load(\"cnn_features_full.npy\", allow_pickle=True)\n",
    "# labels = np.load(\"cnn_labels_full.npy\", allow_pickle=True)\n",
    "# file_names = np.load(\"cnn_file_names_full.npy\", allow_pickle=True)\n",
    "# one_hot_labels = one_hot_encode(labels)"
   ]
  },
  {
   "cell_type": "code",
   "execution_count": 18,
   "metadata": {
    "collapsed": true
   },
   "outputs": [],
   "source": [
    "bands = 128\n",
    "frames = 128\n",
    "feature_size = bands*frames\n",
    "specgram_shape = (bands, frames)\n",
    "num_labels = 10"
   ]
  },
  {
   "cell_type": "code",
   "execution_count": 19,
   "metadata": {
    "collapsed": false
   },
   "outputs": [],
   "source": [
    "def new_weights(shape):\n",
    "    initial = tf.truncated_normal(shape, stddev = 0.1)\n",
    "    return tf.Variable(initial)\n",
    "\n",
    "def new_biases(length):\n",
    "    initial = tf.constant(1.0, shape = [length])\n",
    "    return tf.Variable(initial)"
   ]
  },
  {
   "cell_type": "code",
   "execution_count": 20,
   "metadata": {
    "collapsed": true
   },
   "outputs": [],
   "source": [
    "def new_conv_layer(input,              # The previous layer.\n",
    "                   num_input_channels, # Num. channels in prev. layer.\n",
    "                   filter_size,        # Width and height of each filter.\n",
    "                   num_filters,        # Number of filters.\n",
    "                   use_pooling=True):  # Use 4x2 max-pooling.\n",
    "\n",
    "    # Shape of the filter-weights for the convolution.\n",
    "    # This format is determined by the TensorFlow API.\n",
    "    shape = [filter_size, filter_size, num_input_channels, num_filters]\n",
    "#     shape = [filter_size, filter_size, num_filters]\n",
    "\n",
    "    # Create new weights aka. filters with the given shape.\n",
    "    weights = new_weights(shape=shape)\n",
    "\n",
    "    # Create new biases, one for each filter.\n",
    "    biases = new_biases(length=num_filters)\n",
    "\n",
    "    # Create the TensorFlow operation for convolution.\n",
    "    # Note the strides are set to 1 in all dimensions.\n",
    "    # The first and last stride must always be 1,\n",
    "    # because the first is for the image-number and\n",
    "    # the last is for the input-channel.\n",
    "    # But e.g. strides=[1, 2, 2, 1] would mean that the filter\n",
    "    # is moved 2 pixels across the x- and y-axis of the image.\n",
    "    # The padding is set to 'SAME' which means the input image\n",
    "    # is padded with zeroes so the size of the output is the same.\n",
    "    layer = tf.nn.conv2d(input=input,\n",
    "                         filter=weights,\n",
    "                         strides=[1, 1, 1, 1],\n",
    "                         padding='VALID')\n",
    "\n",
    "    # Add the biases to the results of the convolution.\n",
    "    # A bias-value is added to each filter-channel.\n",
    "    layer += biases\n",
    "\n",
    "    # Use pooling to down-sample the image resolution?\n",
    "    if use_pooling:\n",
    "        # This is 2x2 max-pooling, which means that we\n",
    "        # consider 2x2 windows and select the largest value\n",
    "        # in each window. Then we move 2 pixels to the next window.\n",
    "        layer = tf.nn.max_pool(value=layer,\n",
    "                               ksize=[1, 4, 2, 1],\n",
    "                               strides=[1, 4, 2, 1],\n",
    "                               padding='VALID')\n",
    "\n",
    "    # Rectified Linear Unit (ReLU).\n",
    "    # It calculates max(x, 0) for each input pixel x.\n",
    "    # This adds some non-linearity to the formula and allows us\n",
    "    # to learn more complicated functions.\n",
    "    layer = tf.nn.relu(layer)\n",
    "\n",
    "    # Note that ReLU is normally executed before the pooling,\n",
    "    # but since relu(max_pool(x)) == max_pool(relu(x)) we can\n",
    "    # save 75% of the relu-operations by max-pooling first.\n",
    "\n",
    "    # We return both the resulting layer and the filter-weights\n",
    "    # because we will plot the weights later.\n",
    "    return layer, weights"
   ]
  },
  {
   "cell_type": "code",
   "execution_count": 21,
   "metadata": {
    "collapsed": true
   },
   "outputs": [],
   "source": [
    "# def conv2d(x, W):\n",
    "#     return tf.nn.conv2d(x,W,strides=[1,1,1,1], padding='SAME')\n",
    "\n",
    "# def apply_convolution(x,kernel_size,num_channels,depth):\n",
    "#     weights = weight_variable([kernel_size, kernel_size, num_channels, depth])\n",
    "#     biases = bias_variable([depth])\n",
    "#     return tf.nn.relu(tf.add(conv2d(x, weights),biases))\n",
    "\n",
    "# def apply_max_pool(x,kernel_size,stride_size):\n",
    "#     return tf.nn.max_pool(x, ksize=[1, kernel_size, kernel_size, 1], \n",
    "#                           strides=[1, stride_size, stride_size, 1], padding='SAME')"
   ]
  },
  {
   "cell_type": "code",
   "execution_count": 22,
   "metadata": {
    "collapsed": true
   },
   "outputs": [],
   "source": [
    "def flatten_layer(layer):\n",
    "    # Get the shape of the input layer.\n",
    "    layer_shape = layer.get_shape()\n",
    "\n",
    "    # The shape of the input layer is assumed to be:\n",
    "    # layer_shape == [num_images, img_height, img_width, num_channels]\n",
    "\n",
    "    # The number of features is: img_height * img_width * num_channels\n",
    "    # We can use a function from TensorFlow to calculate this.\n",
    "    num_features = layer_shape[1:4].num_elements()\n",
    "    \n",
    "    # Reshape the layer to [num_images, num_features].\n",
    "    # Note that we just set the size of the second dimension\n",
    "    # to num_features and the size of the first dimension to -1\n",
    "    # which means the size in that dimension is calculated\n",
    "    # so the total size of the tensor is unchanged from the reshaping.\n",
    "    layer_flat = tf.reshape(layer, [-1, num_features])\n",
    "\n",
    "    # The shape of the flattened layer is now:\n",
    "    # [num_images, img_height * img_width * num_channels]\n",
    "\n",
    "    # Return both the flattened layer and the number of features.\n",
    "    return layer_flat, num_features"
   ]
  },
  {
   "cell_type": "code",
   "execution_count": 23,
   "metadata": {
    "collapsed": false
   },
   "outputs": [],
   "source": [
    "def new_fc_layer(input,          # The previous layer.\n",
    "                 num_inputs,     # Num. inputs from prev. layer.\n",
    "                 num_outputs,    # Num. outputs.\n",
    "                 activation=\"\"): # Use Rectified Linear Unit (ReLU)?\n",
    "                 \n",
    "    # Create new weights and biases.\n",
    "    weights = new_weights(shape=[num_inputs, num_outputs])\n",
    "    biases = new_biases(length=num_outputs)\n",
    "\n",
    "    # Calculate the layer as the matrix multiplication of\n",
    "    # the input and weights, and then add the bias-values.\n",
    "    layer = tf.matmul(input, weights) + biases\n",
    "    activation = activation.lower()\n",
    "    if (activation ==\"sigmoid\"):\n",
    "        layer = tf.nn.sigmoid(layer)\n",
    "    elif (activation ==\"relu\"):\n",
    "        layer = tf.nn.relu(layer)    \n",
    "    return layer, weights, biases"
   ]
  },
  {
   "cell_type": "code",
   "execution_count": 24,
   "metadata": {
    "collapsed": false
   },
   "outputs": [],
   "source": [
    "#Convolution layer 1 params\n",
    "filter_l1_size = 5\n",
    "n_filter_l1 = 24\n",
    "stride_l1 = [1, 4, 2, 1]\n",
    "activation_func_l1 = \"relu\"\n",
    "\n",
    "#Convolution layer 2 params\n",
    "filter_l2_size = 5\n",
    "n_filter_l2 = 48\n",
    "stride_l2 = [1, 4, 2, 1]\n",
    "activation_func_l2 = \"relu\"\n",
    "\n",
    "#Convolution layer 3 params\n",
    "filter_l3_size = 5\n",
    "n_filter_l3 = 48\n",
    "activation_func_l3 = \"relu\"\n",
    "\n"
   ]
  },
  {
   "cell_type": "code",
   "execution_count": 25,
   "metadata": {
    "collapsed": true
   },
   "outputs": [],
   "source": [
    "#Fully connected layer 4\n",
    "\n",
    "num_hidden = 64\n",
    "activation_func_l4 = \"relu\"\n",
    "\n"
   ]
  },
  {
   "cell_type": "code",
   "execution_count": 26,
   "metadata": {
    "collapsed": false
   },
   "outputs": [],
   "source": [
    "X = tf.placeholder(tf.float32, shape=[None, bands, frames, 1])\n",
    "Y = tf.placeholder(tf.float32, shape=[None, num_labels])"
   ]
  },
  {
   "cell_type": "code",
   "execution_count": 27,
   "metadata": {
    "collapsed": false
   },
   "outputs": [],
   "source": [
    "layer_conv1, weights_1 = new_conv_layer(input=X, \n",
    "                                        num_input_channels=1, \n",
    "                                        filter_size=filter_l1_size, \n",
    "                                        num_filters=n_filter_l1, \n",
    "                                        use_pooling=True)\n",
    "\n",
    "layer_conv2, weights_2 = new_conv_layer(input=layer_conv1, \n",
    "                                        num_input_channels=n_filter_l1, \n",
    "                                        filter_size=filter_l2_size, \n",
    "                                        num_filters=n_filter_l2, \n",
    "                                        use_pooling=True)\n",
    "\n",
    "layer_conv3, weights_3 = new_conv_layer(input=layer_conv2, \n",
    "                                        num_input_channels=n_filter_l2, \n",
    "                                        filter_size=filter_l3_size, \n",
    "                                        num_filters=n_filter_l3, \n",
    "                                        use_pooling=False)\n"
   ]
  },
  {
   "cell_type": "code",
   "execution_count": 28,
   "metadata": {
    "collapsed": true
   },
   "outputs": [],
   "source": [
    "layer_flat, num_features = flatten_layer(layer_conv3)"
   ]
  },
  {
   "cell_type": "code",
   "execution_count": 29,
   "metadata": {
    "collapsed": true
   },
   "outputs": [],
   "source": [
    "keep_prob = tf.placeholder(\"float\")"
   ]
  },
  {
   "cell_type": "code",
   "execution_count": 30,
   "metadata": {
    "collapsed": false
   },
   "outputs": [],
   "source": [
    "layer_fc1, weights_4, biases_4 = new_fc_layer(layer_flat, num_inputs=num_features, num_outputs=num_hidden, activation=\"relu\")\n",
    "layer_fc1_drop = tf.nn.dropout(layer_fc1, keep_prob=keep_prob)\n",
    "layer_fc2, weights_5, biases_5 = new_fc_layer(layer_fc1_drop, num_inputs=num_hidden, num_outputs=num_labels)\n",
    "layer_fc2_drop = tf.nn.dropout(layer_fc2, keep_prob=keep_prob)\n"
   ]
  },
  {
   "cell_type": "code",
   "execution_count": 31,
   "metadata": {
    "collapsed": true
   },
   "outputs": [],
   "source": [
    "y_ = tf.nn.softmax(layer_fc2_drop)"
   ]
  },
  {
   "cell_type": "code",
   "execution_count": 32,
   "metadata": {
    "collapsed": false
   },
   "outputs": [
    {
     "data": {
      "text/plain": [
       "<tf.Tensor 'Placeholder:0' shape=(?, 128, 128, 1) dtype=float32>"
      ]
     },
     "execution_count": 32,
     "metadata": {},
     "output_type": "execute_result"
    }
   ],
   "source": [
    "X"
   ]
  },
  {
   "cell_type": "code",
   "execution_count": 33,
   "metadata": {
    "collapsed": false
   },
   "outputs": [
    {
     "data": {
      "text/plain": [
       "<tf.Tensor 'Relu:0' shape=(?, 31, 62, 24) dtype=float32>"
      ]
     },
     "execution_count": 33,
     "metadata": {},
     "output_type": "execute_result"
    }
   ],
   "source": [
    "layer_conv1"
   ]
  },
  {
   "cell_type": "code",
   "execution_count": 34,
   "metadata": {
    "collapsed": false
   },
   "outputs": [
    {
     "data": {
      "text/plain": [
       "<tf.Tensor 'Relu_1:0' shape=(?, 6, 29, 48) dtype=float32>"
      ]
     },
     "execution_count": 34,
     "metadata": {},
     "output_type": "execute_result"
    }
   ],
   "source": [
    "layer_conv2"
   ]
  },
  {
   "cell_type": "code",
   "execution_count": 35,
   "metadata": {
    "collapsed": false
   },
   "outputs": [
    {
     "data": {
      "text/plain": [
       "<tf.Tensor 'Relu_2:0' shape=(?, 2, 25, 48) dtype=float32>"
      ]
     },
     "execution_count": 35,
     "metadata": {},
     "output_type": "execute_result"
    }
   ],
   "source": [
    "layer_conv3"
   ]
  },
  {
   "cell_type": "code",
   "execution_count": 36,
   "metadata": {
    "collapsed": false
   },
   "outputs": [
    {
     "data": {
      "text/plain": [
       "<tf.Tensor 'Reshape:0' shape=(?, 2400) dtype=float32>"
      ]
     },
     "execution_count": 36,
     "metadata": {},
     "output_type": "execute_result"
    }
   ],
   "source": [
    "layer_flat"
   ]
  },
  {
   "cell_type": "code",
   "execution_count": 37,
   "metadata": {
    "collapsed": false
   },
   "outputs": [
    {
     "data": {
      "text/plain": [
       "<tf.Tensor 'Relu_3:0' shape=(?, 64) dtype=float32>"
      ]
     },
     "execution_count": 37,
     "metadata": {},
     "output_type": "execute_result"
    }
   ],
   "source": [
    "layer_fc1"
   ]
  },
  {
   "cell_type": "code",
   "execution_count": 38,
   "metadata": {
    "collapsed": false
   },
   "outputs": [
    {
     "data": {
      "text/plain": [
       "<tf.Tensor 'add_4:0' shape=(?, 10) dtype=float32>"
      ]
     },
     "execution_count": 38,
     "metadata": {},
     "output_type": "execute_result"
    }
   ],
   "source": [
    "layer_fc2"
   ]
  },
  {
   "cell_type": "code",
   "execution_count": 39,
   "metadata": {
    "collapsed": false
   },
   "outputs": [
    {
     "data": {
      "text/plain": [
       "<tf.Tensor 'Softmax:0' shape=(?, 10) dtype=float32>"
      ]
     },
     "execution_count": 39,
     "metadata": {},
     "output_type": "execute_result"
    }
   ],
   "source": [
    "y_"
   ]
  },
  {
   "cell_type": "code",
   "execution_count": 40,
   "metadata": {
    "collapsed": false
   },
   "outputs": [],
   "source": [
    "# X = tf.placeholder(tf.float32, shape=[None,bands,frames,num_channels])\n",
    "# Y = tf.placeholder(tf.float32, shape=[None,num_labels])\n",
    "\n",
    "# cov = apply_convolution(X,kernel_size,num_channels,depth)\n",
    "\n",
    "# shape = cov.get_shape().as_list()\n",
    "# cov_flat = tf.reshape(cov, [-1, shape[1] * shape[2] * shape[3]])\n",
    "\n",
    "# f_weights = weight_variable([shape[1] * shape[2] * depth, num_hidden])\n",
    "# f_biases = bias_variable([num_hidden])\n",
    "# f = tf.nn.sigmoid(tf.add(tf.matmul(cov_flat, f_weights),f_biases))\n",
    "\n",
    "# out_weights = weight_variable([num_hidden, num_labels])\n",
    "# out_biases = bias_variable([num_labels])\n",
    "# y_ = tf.nn.softmax(tf.matmul(f, out_weights) + out_biases)"
   ]
  },
  {
   "cell_type": "code",
   "execution_count": 41,
   "metadata": {
    "collapsed": false
   },
   "outputs": [],
   "source": [
    "# cross_entropy = -tf.reduce_sum(Y * tf.log(y_))\n",
    "# optimizer = tf.train.AdamOptimizer(learning_rate=learning_rate).minimize(cross_entropy)\n",
    "# correct_prediction = tf.equal(tf.argmax(y_,1), tf.argmax(Y,1))\n",
    "# accuracy = tf.reduce_mean(tf.cast(correct_prediction, tf.float32))\n",
    "# init = tf.global_variables_initializer()"
   ]
  },
  {
   "cell_type": "code",
   "execution_count": 42,
   "metadata": {
    "collapsed": true
   },
   "outputs": [],
   "source": [
    "beta = 0.001"
   ]
  },
  {
   "cell_type": "code",
   "execution_count": 43,
   "metadata": {
    "collapsed": true
   },
   "outputs": [],
   "source": [
    "batch_size = 100\n",
    "learning_rate = 0.01"
   ]
  },
  {
   "cell_type": "code",
   "execution_count": 44,
   "metadata": {
    "collapsed": false
   },
   "outputs": [],
   "source": [
    "cross_entropy = tf.nn.softmax_cross_entropy_with_logits(logits=layer_fc2,labels=Y)\n",
    "cost = tf.reduce_mean(cross_entropy + \n",
    "                      beta*tf.nn.l2_loss(weights_4) + \n",
    "                      beta*tf.nn.l2_loss(biases_4) + \n",
    "                     beta*tf.nn.l2_loss(weights_5) +\n",
    "                     beta*tf.nn.l2_loss(biases_5))\n",
    "optimizer = tf.train.AdamOptimizer(learning_rate=learning_rate).minimize(cost)\n",
    "correct_prediction = tf.equal(tf.argmax(y_,1), tf.argmax(Y,1))\n",
    "accuracy = tf.reduce_mean(tf.cast(correct_prediction, tf.float32))"
   ]
  },
  {
   "cell_type": "code",
   "execution_count": 45,
   "metadata": {
    "collapsed": true
   },
   "outputs": [],
   "source": [
    "from sklearn.metrics import confusion_matrix\n",
    "from sklearn.metrics import precision_recall_fscore_support"
   ]
  },
  {
   "cell_type": "markdown",
   "metadata": {},
   "source": [
    "### Randomly splitting data"
   ]
  },
  {
   "cell_type": "code",
   "execution_count": 47,
   "metadata": {
    "collapsed": false
   },
   "outputs": [],
   "source": [
    "# train_x, test_x, train_y, test_y = train_test_split(features, one_hot_labels, test_size=0.3, random_state=4, stratify=labels)"
   ]
  },
  {
   "cell_type": "code",
   "execution_count": 48,
   "metadata": {
    "collapsed": true
   },
   "outputs": [],
   "source": [
    "train_one_hot = one_hot_encode(train_labels)"
   ]
  },
  {
   "cell_type": "code",
   "execution_count": 71,
   "metadata": {
    "collapsed": false
   },
   "outputs": [],
   "source": [
    "init = tf.global_variables_initializer()\n",
    "training_epochs = 50\n",
    "saver = tf.train.Saver()\n",
    "\n",
    "session = tf.Session()\n",
    "    \n",
    "session.run(init)"
   ]
  },
  {
   "cell_type": "code",
   "execution_count": 67,
   "metadata": {
    "collapsed": false
   },
   "outputs": [],
   "source": [
    "def optimize(num_epochs, train_features, train_one_hot):\n",
    "    print \"Training.......\"\n",
    "    print \"------ Elapsed time -------  Epoch ---- Cost \"\n",
    "    cost_history = np.empty(shape=[1],dtype=float)\n",
    "    n_samples = np.shape(train_features)[0]\n",
    "    iterations = np.int32(np.floor(n_samples/800) + 1);\n",
    "    start_time = time.time()\n",
    "    for epoch in range(num_epochs):    \n",
    "   \n",
    "        samples = np.arange(n_samples)\n",
    "        np.random.shuffle(samples)\n",
    "        for itr in np.arange(iterations):\n",
    "            offset = itr*batch_size\n",
    "            batch = samples[offset:offset+batch_size]\n",
    "\n",
    "            batch_x = train_features[batch]\n",
    "            batch_y = train_one_hot[batch]\n",
    "            feed_dict_train={X: batch_x, Y : batch_y, keep_prob : 0.5}\n",
    "            _, c = session.run([optimizer, cost],feed_dict=feed_dict_train)\n",
    "\n",
    "    #             if(itr % (iterations/10) == 0):\n",
    "    #                 print \"------ {:12.7f} ------- {:5d} ---- {:12.10f} \".format((time.time() - start_time), itr, c)\n",
    "        print \"------ {:12.7f} ------- {:5d} ---- {:12.10f} \".format((time.time() - start_time), epoch, c)\n",
    "        cost_history = np.append(cost_history,c)\n",
    "    print (\"---Training time: %s seconds ---\" % (time.time() - start_time))\n",
    "    fig = plt.figure(figsize=(15,10))\n",
    "    plt.plot(cost_history)\n",
    "    plt.axis([0,epoch,0,np.max(cost_history)])\n",
    "    plt.show()\n",
    "    #     y_pred = session.run(tf.argmax(y_,1),feed_dict={X: test_features})\n",
    "    #     y_true = session.run(tf.argmax(one_hot_encode(test_labels,1)))\n",
    "        "
   ]
  },
  {
   "cell_type": "code",
   "execution_count": 68,
   "metadata": {
    "collapsed": false
   },
   "outputs": [
    {
     "name": "stdout",
     "output_type": "stream",
     "text": [
      "Training.......\n",
      "------ Elapsed time -------  Epoch ---- Cost \n",
      "------    7.1307800 -------     0 ---- 2.8848493099 \n",
      "------   13.8238060 -------     1 ---- 2.9930474758 \n",
      "------   20.5462589 -------     2 ---- 2.7662897110 \n",
      "------   27.3164561 -------     3 ---- 2.9150550365 \n",
      "------   34.1953931 -------     4 ---- 2.7675178051 \n",
      "------   41.2514200 -------     5 ---- 2.6684060097 \n",
      "------   48.0399020 -------     6 ---- 2.8625118732 \n",
      "------   55.0306320 -------     7 ---- 2.8043072224 \n",
      "------   62.1508920 -------     8 ---- 2.6690204144 \n",
      "------   69.4583719 -------     9 ---- 2.7714996338 \n",
      "------   76.3842750 -------    10 ---- 2.7386369705 \n",
      "------   83.1491339 -------    11 ---- 2.7083482742 \n",
      "------   90.0027030 -------    12 ---- 2.6850855350 \n",
      "------   97.2730169 -------    13 ---- 2.6318557262 \n",
      "------  104.3473010 -------    14 ---- 2.7235403061 \n",
      "------  111.1080461 -------    15 ---- 2.7355298996 \n",
      "------  118.0965390 -------    16 ---- 2.6734082699 \n",
      "------  125.1166019 -------    17 ---- 2.7121973038 \n",
      "------  131.8688841 -------    18 ---- 2.7131705284 \n",
      "------  138.6351781 -------    19 ---- 2.6437551975 \n",
      "------  145.3483670 -------    20 ---- 2.6513381004 \n",
      "------  152.1539979 -------    21 ---- 2.6185507774 \n",
      "------  158.9576139 -------    22 ---- 2.7513420582 \n",
      "------  165.6731369 -------    23 ---- 2.6590125561 \n",
      "------  172.4264040 -------    24 ---- 2.5725355148 \n",
      "------  179.1665440 -------    25 ---- 2.6636188030 \n",
      "------  185.8990209 -------    26 ---- 2.5723524094 \n",
      "------  192.5683229 -------    27 ---- 2.6895642281 \n",
      "------  199.3155971 -------    28 ---- 2.6288421154 \n",
      "------  206.0573370 -------    29 ---- 2.7171294689 \n",
      "------  212.7866049 -------    30 ---- 2.6238214970 \n",
      "------  219.4742711 -------    31 ---- 2.5665221214 \n",
      "------  226.1895101 -------    32 ---- 2.6279973984 \n",
      "------  232.9560530 -------    33 ---- 2.6408317089 \n",
      "------  239.7317550 -------    34 ---- 2.5769073963 \n",
      "------  246.4680121 -------    35 ---- 2.5306344032 \n",
      "------  253.1711659 -------    36 ---- 2.5642473698 \n",
      "------  259.9332340 -------    37 ---- 2.5327363014 \n",
      "------  266.7313020 -------    38 ---- 2.5515060425 \n",
      "------  273.4232030 -------    39 ---- 2.6433084011 \n",
      "------  280.2191291 -------    40 ---- 2.5411083698 \n",
      "------  286.9587281 -------    41 ---- 2.5645818710 \n",
      "------  293.7087269 -------    42 ---- 2.5372884274 \n",
      "------  300.4717700 -------    43 ---- 2.5402524471 \n",
      "------  307.2287900 -------    44 ---- 2.5586614609 \n",
      "------  313.9880440 -------    45 ---- 2.5452563763 \n",
      "------  320.7991841 -------    46 ---- 2.5676932335 \n",
      "------  327.5569191 -------    47 ---- 2.5847241879 \n",
      "------  334.3034821 -------    48 ---- 2.5765697956 \n",
      "------  341.1064200 -------    49 ---- 2.5610022545 \n",
      "---Training time: 341.106550932 seconds ---\n"
     ]
    },
    {
     "data": {
      "image/png": "[encoded data removed]",
      "text/plain": [
       "<matplotlib.figure.Figure at 0x7f7bf6114850>"
      ]
     },
     "metadata": {},
     "output_type": "display_data"
    }
   ],
   "source": [
    "optimize(training_epochs, train_features, train_one_hot)"
   ]
  },
  {
   "cell_type": "code",
   "execution_count": 62,
   "metadata": {
    "collapsed": false
   },
   "outputs": [],
   "source": [
    "def make_prediction(test_f, test_l, test_ID):\n",
    "    ID_list = np.unique(test_ID)\n",
    "    y_pred = []\n",
    "    y_true = []\n",
    "    for sound_ID in ID_list:\n",
    "        indices = np.where(test_ID == sound_ID)\n",
    "        input_x = np.float32(test_f[indices])\n",
    "        true_y = test_l[indices][0]\n",
    "        feed_dict_test = {X: input_x, keep_prob: 0.5}\n",
    "        pred_y = session.run(y_,feed_dict=feed_dict_test)\n",
    "        pred_y = np.amax(pred_y, axis=0)\n",
    "        pred_y = np.argmax(pred_y)\n",
    "        true_y = np.argmax(true_y)\n",
    "        y_pred.append(pred_y)\n",
    "        y_true.append(true_y)\n",
    "    return np.array(y_pred), np.array(y_true)\n",
    "    \n",
    "    \n",
    "    "
   ]
  },
  {
   "cell_type": "code",
   "execution_count": 69,
   "metadata": {
    "collapsed": false
   },
   "outputs": [],
   "source": [
    "y_pred, y_true = make_prediction(test_features, one_hot_encode(test_labels), test_IDs) "
   ]
  },
  {
   "cell_type": "code",
   "execution_count": 70,
   "metadata": {
    "collapsed": false
   },
   "outputs": [
    {
     "name": "stdout",
     "output_type": "stream",
     "text": [
      "F-Score: 0.129\n",
      "Confusion Matrix: \n",
      "[[75  0 64  5 15 26  0 30 30 54]\n",
      " [18  0 16  1  3  5  0  4  7 10]\n",
      " [72  0 74  1 16 30  0 33 31 36]\n",
      " [48  0 61  1 15 17  0 16 20 31]\n",
      " [59  0 56  3 13 21  0 27 24 48]\n",
      " [63  0 62  6 22 31  0 26 39 40]\n",
      " [ 1  0  4  0  3  0  0  1  0  3]\n",
      " [50  0 67  1 24 26  0 23 24 35]\n",
      " [63  0 77  5 20 20  0 31 25 33]\n",
      " [83  0 72  6 21 22  0 25 25 46]]\n"
     ]
    }
   ],
   "source": [
    " p,r,f,s = precision_recall_fscore_support(y_true, y_pred, average='micro')\n",
    "    \n",
    "print \"F-Score:\", round(f,3)\n",
    "print \"Confusion Matrix: \"\n",
    "print confusion_matrix(y_true, y_pred)"
   ]
  }
 ],
 "metadata": {
  "anaconda-cloud": {},
  "kernelspec": {
   "display_name": "Python [default]",
   "language": "python",
   "name": "python2"
  },
  "language_info": {
   "codemirror_mode": {
    "name": "ipython",
    "version": 2
   },
   "file_extension": ".py",
   "mimetype": "text/x-python",
   "name": "python",
   "nbconvert_exporter": "python",
   "pygments_lexer": "ipython2",
   "version": "2.7.12"
  }
 },
 "nbformat": 4,
 "nbformat_minor": 0
}
