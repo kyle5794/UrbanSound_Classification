{
 "cells": [
  {
   "cell_type": "code",
   "execution_count": 1,
   "metadata": {
    "collapsed": true
   },
   "outputs": [],
   "source": [
    "import glob\n",
    "import os\n",
    "import librosa\n",
    "import numpy as np\n",
    "import matplotlib.pyplot as plt\n",
    "from matplotlib.pyplot import specgram\n",
    "import time\n",
    "%matplotlib inline\n",
    "plt.style.use('ggplot')\n",
    "\n",
    "plt.rcParams['font.family'] = 'serif'\n",
    "plt.rcParams['font.serif'] = 'Ubuntu'\n",
    "plt.rcParams['font.monospace'] = 'Ubuntu Mono'\n",
    "plt.rcParams['font.size'] = 12\n",
    "plt.rcParams['axes.labelsize'] = 11\n",
    "plt.rcParams['axes.labelweight'] = 'bold'\n",
    "plt.rcParams['axes.titlesize'] = 14\n",
    "plt.rcParams['xtick.labelsize'] = 10\n",
    "plt.rcParams['ytick.labelsize'] = 10\n",
    "plt.rcParams['legend.fontsize'] = 11\n",
    "plt.rcParams['figure.titlesize'] = 13"
   ]
  },
  {
   "cell_type": "code",
   "execution_count": 2,
   "metadata": {
    "collapsed": true
   },
   "outputs": [],
   "source": [
    "EPSILON = 10e-10\n",
    "def extract_feature(file_name):\n",
    "    X, sample_rate = librosa.load(file_name)\n",
    "    stft = np.abs(librosa.stft(X))\n",
    "    mfccs = np.mean(librosa.feature.mfcc(y=X, sr=sample_rate, n_mfcc=40).T,axis=0)\n",
    "    #chroma = np.mean(librosa.feature.chroma_stft(S=stft, sr=sample_rate).T,axis=0)\n",
    "    raw_mel = librosa.feature.melspectrogram(X, sr=sample_rate).T\n",
    "    mel = np.mean(raw_mel, axis=0)\n",
    "    processed_mel = raw_mel + EPSILON\n",
    "    logMel = np.mean(np.log(processed_mel),axis=0)\n",
    "    #contrast = np.mean(librosa.feature.spectral_contrast(S=stft, sr=sample_rate).T,axis=0)\n",
    "    #tonnetz = np.mean(librosa.feature.tonnetz(y=librosa.effects.harmonic(X), sr=sample_rate).T,axis=0)\n",
    "    return mfccs,logMel, mel\n",
    "\n",
    "def parse_audio_files(parent_dir,sub_dirs,file_ext='*.wav'):\n",
    "    features, labels, namePath = np.empty((0,296)), np.empty(0), np.empty(0)\n",
    "    for label, sub_dir in enumerate(sub_dirs):\n",
    "        for fn in glob.glob(os.path.join(parent_dir, sub_dir, file_ext)):\n",
    "            mfccs, logmel, mel = extract_feature(fn)\n",
    "            ext_features = np.hstack([mfccs,logmel, mel])\n",
    "            features = np.vstack([features,ext_features])\n",
    "            labels = np.append(labels, fn.split('/')[2].split('-')[1])\n",
    "            namePath = np.append(namePath, fn)\n",
    "    return np.array(features), np.array(labels, dtype = np.int), np.array(namePath, dtype=np.string_)\n",
    "\n",
    "def one_hot_encode(labels):\n",
    "    n_labels = len(labels)\n",
    "    n_unique_labels = len(np.unique(labels))\n",
    "    one_hot_encode = np.zeros((n_labels,n_unique_labels))\n",
    "    one_hot_encode[np.arange(n_labels), labels] = 1\n",
    "    return one_hot_encode\n",
    "\n",
    "def one_hot_decode(labels):\n",
    "    n_labels, n_unique_labels = np.shape(labels)\n",
    "    one_hot_decode = np.zeros((n_labels))\n",
    "    for idx in range(n_labels):\n",
    "        for l in range(n_unique_labels):\n",
    "            if(labels[idx, l] == 1):\n",
    "                one_hot_decode[idx] = l\n",
    "                break;\n",
    "    return one_hot_decode"
   ]
  },
  {
   "cell_type": "code",
   "execution_count": 3,
   "metadata": {
    "collapsed": true
   },
   "outputs": [],
   "source": [
    "x = extract_feature(\"audio/fold1/7061-6-0-0.wav\")\n",
    "nfMfccs = np.shape(x[0])[0]\n",
    "nfLogMel = np.shape(x[1])[0]\n",
    "nfMel = np.shape(x[2])[0]"
   ]
  },
  {
   "cell_type": "code",
   "execution_count": 4,
   "metadata": {
    "collapsed": false
   },
   "outputs": [
    {
     "name": "stdout",
     "output_type": "stream",
     "text": [
      "Number of features\n",
      "* Mfcc: 40\n",
      "* logMel 128\n",
      "* Mel 128\n"
     ]
    }
   ],
   "source": [
    "print \"Number of features\"\n",
    "print \"* Mfcc: {0}\".format(nfMfccs)\n",
    "print \"* logMel {0}\".format(nfLogMel)\n",
    "print \"* Mel {0}\".format(nfMel)"
   ]
  },
  {
   "cell_type": "code",
   "execution_count": 5,
   "metadata": {
    "collapsed": false
   },
   "outputs": [],
   "source": [
    "features = np.load(\"nn_features_fold_full.npy\", allow_pickle=True)\n",
    "labels = np.load(\"nn_labels_fold_full.npy\", allow_pickle=True)\n",
    "file_names = np.load(\"nn_file_names_fold_full.npy\", allow_pickle=True)"
   ]
  },
  {
   "cell_type": "code",
   "execution_count": 6,
   "metadata": {
    "collapsed": true
   },
   "outputs": [],
   "source": [
    "import tensorflow as tf\n",
    "from sklearn.metrics import precision_recall_fscore_support\n",
    "from sklearn.metrics import confusion_matrix"
   ]
  },
  {
   "cell_type": "code",
   "execution_count": 7,
   "metadata": {
    "collapsed": false
   },
   "outputs": [],
   "source": [
    "# Initialize parameters\n",
    "training_epochs = 20000 # number of iteration\n",
    "n_dim = 168 # number of features\n",
    "n_classes = 10 # number of classes\n",
    "n_hidden_units_one = 280  # number of units in hidden layer 1\n",
    "n_hidden_units_two = 300 # number of units in hidden layer 2\n",
    "sd = 1 / np.sqrt(n_dim) # std of initial weight and bias\n",
    "learning_rate = 0.01 \n",
    "\n",
    "# Randomly initialize params for each layers\n",
    "X = tf.placeholder(tf.float32,[None,n_dim])\n",
    "Y = tf.placeholder(tf.float32,[None,n_classes])\n",
    "\n",
    "# Hidden layer 1 params\n",
    "W_1 = tf.Variable(tf.random_normal([n_dim,n_hidden_units_one], mean = 0, stddev=sd))\n",
    "b_1 = tf.Variable(tf.random_normal([n_hidden_units_one], mean = 0, stddev=sd))\n",
    "h_1 = tf.nn.tanh(tf.matmul(X,W_1) + b_1)\n",
    "\n",
    "# Hidden layer 2 params\n",
    "W_2 = tf.Variable(tf.random_normal([n_hidden_units_one,n_hidden_units_two], mean = 0, stddev=sd))\n",
    "b_2 = tf.Variable(tf.random_normal([n_hidden_units_two], mean = 0, stddev=sd))\n",
    "h_2 = tf.nn.sigmoid(tf.matmul(h_1,W_2) + b_2)\n",
    "\n",
    "# Softmax classification initialization\n",
    "W = tf.Variable(tf.random_normal([n_hidden_units_two,n_classes], mean = 0, stddev=sd))\n",
    "b = tf.Variable(tf.random_normal([n_classes], mean = 0, stddev=sd))\n",
    "y_ = tf.nn.softmax(tf.matmul(h_2,W) + b)\n",
    "\n",
    "\n",
    "init = tf.global_variables_initializer()\n",
    "\n",
    "# cost_function = \n",
    "cost_function = tf.reduce_mean(-tf.reduce_sum(Y * tf.log(y_), reduction_indices=[1])) \n",
    "optimizer = tf.train.GradientDescentOptimizer(learning_rate).minimize(cost_function)\n",
    "\n",
    "correct_prediction = tf.equal(tf.argmax(y_,1), tf.argmax(Y,1))\n",
    "accuracy = tf.reduce_mean(tf.cast(correct_prediction, tf.float32))"
   ]
  },
  {
   "cell_type": "code",
   "execution_count": 8,
   "metadata": {
    "collapsed": true
   },
   "outputs": [],
   "source": [
    "import pandas as pd"
   ]
  },
  {
   "cell_type": "code",
   "execution_count": 11,
   "metadata": {
    "collapsed": false
   },
   "outputs": [
    {
     "data": {
      "text/html": [
       "<div>\n",
       "<table border=\"1\" class=\"dataframe\">\n",
       "  <thead>\n",
       "    <tr style=\"text-align: right;\">\n",
       "      <th></th>\n",
       "      <th>File name</th>\n",
       "      <th>Label</th>\n",
       "    </tr>\n",
       "  </thead>\n",
       "  <tbody>\n",
       "    <tr>\n",
       "      <th>0</th>\n",
       "      <td>test_sound/engine_idling_1.wav</td>\n",
       "      <td>5.0</td>\n",
       "    </tr>\n",
       "    <tr>\n",
       "      <th>1</th>\n",
       "      <td>test_sound/carhorn_6.wav</td>\n",
       "      <td>1.0</td>\n",
       "    </tr>\n",
       "    <tr>\n",
       "      <th>2</th>\n",
       "      <td>test_sound/children_8.wav</td>\n",
       "      <td>2.0</td>\n",
       "    </tr>\n",
       "    <tr>\n",
       "      <th>3</th>\n",
       "      <td>test_sound/drill_17.wav</td>\n",
       "      <td>4.0</td>\n",
       "    </tr>\n",
       "    <tr>\n",
       "      <th>4</th>\n",
       "      <td>test_sound/aircon_19.wav</td>\n",
       "      <td>0.0</td>\n",
       "    </tr>\n",
       "  </tbody>\n",
       "</table>\n",
       "</div>"
      ],
      "text/plain": [
       "                        File name  Label\n",
       "0  test_sound/engine_idling_1.wav    5.0\n",
       "1        test_sound/carhorn_6.wav    1.0\n",
       "2       test_sound/children_8.wav    2.0\n",
       "3         test_sound/drill_17.wav    4.0\n",
       "4        test_sound/aircon_19.wav    0.0"
      ]
     },
     "execution_count": 11,
     "metadata": {},
     "output_type": "execute_result"
    }
   ],
   "source": [
    "test_label_df_2 = pd.read_csv(\"test_sound/test_csv.csv\")\n",
    "test_label_df_2 = test_label_df_2.iloc[:,1:3]\n",
    "test_label_df_2.head()"
   ]
  },
  {
   "cell_type": "code",
   "execution_count": 12,
   "metadata": {
    "collapsed": true
   },
   "outputs": [],
   "source": [
    "def parse_audio_test_files(parent_dir,sub_dir=\"\",file_ext='*.wav'):\n",
    "    features, namePath = np.empty((0,296)), np.empty(0)\n",
    "    for fn in glob.glob(os.path.join(parent_dir, sub_dir, file_ext)):\n",
    "        mfccs, logmel, mel = extract_feature(fn)\n",
    "        ext_features = np.hstack([mfccs,logmel, mel])\n",
    "        features = np.vstack([features,ext_features])\n",
    "        namePath = np.append(namePath, fn)\n",
    "    return np.array(features), np.array(namePath, dtype=np.string_)\n",
    "test_features, test_fileNames = parse_audio_test_files(\"test_sound\")"
   ]
  },
  {
   "cell_type": "code",
   "execution_count": 13,
   "metadata": {
    "collapsed": false
   },
   "outputs": [
    {
     "data": {
      "text/plain": [
       "(180, 2)"
      ]
     },
     "execution_count": 13,
     "metadata": {},
     "output_type": "execute_result"
    }
   ],
   "source": [
    "test_label_df_2.shape"
   ]
  },
  {
   "cell_type": "code",
   "execution_count": 14,
   "metadata": {
    "collapsed": false
   },
   "outputs": [
    {
     "data": {
      "text/plain": [
       "(180,)"
      ]
     },
     "execution_count": 14,
     "metadata": {},
     "output_type": "execute_result"
    }
   ],
   "source": [
    "np.shape(test_fileNames)"
   ]
  },
  {
   "cell_type": "code",
   "execution_count": 16,
   "metadata": {
    "collapsed": false
   },
   "outputs": [
    {
     "data": {
      "text/plain": [
       "array([ 5.,  1.,  2.,  4.,  0.,  7.,  8.,  6.,  3.])"
      ]
     },
     "execution_count": 16,
     "metadata": {},
     "output_type": "execute_result"
    }
   ],
   "source": [
    "test_label_df_2[\"Label\"].unique()"
   ]
  },
  {
   "cell_type": "code",
   "execution_count": 17,
   "metadata": {
    "collapsed": true
   },
   "outputs": [],
   "source": [
    "def special_one_hot_encode(labels):\n",
    "    n_labels = len(labels)\n",
    "    one_hot_encode = np.zeros((n_labels,10))\n",
    "    for idx in range(n_labels):\n",
    "        for l in range(10):\n",
    "            if(labels[idx] == l):\n",
    "                one_hot_encode[idx,l] = 1\n",
    "    return one_hot_encode"
   ]
  },
  {
   "cell_type": "code",
   "execution_count": 18,
   "metadata": {
    "collapsed": false
   },
   "outputs": [
    {
     "data": {
      "text/plain": [
       "(180, 10)"
      ]
     },
     "execution_count": 18,
     "metadata": {},
     "output_type": "execute_result"
    }
   ],
   "source": [
    "test_label_np = test_label_df_2.as_matrix([\"Label\"])\n",
    "test_x = test_features[:,0:168]\n",
    "test_y = special_one_hot_encode(test_label_np[:,0])\n",
    "np.shape(test_y)"
   ]
  },
  {
   "cell_type": "code",
   "execution_count": 32,
   "metadata": {
    "collapsed": false
   },
   "outputs": [
    {
     "data": {
      "text/plain": [
       "array([ 0.41666667,  0.61538462,  0.71428571,  0.52380952,  0.3       ,\n",
       "        0.26315789,  1.        ,  0.27777778,  0.90909091,  0.        ])"
      ]
     },
     "execution_count": 32,
     "metadata": {},
     "output_type": "execute_result"
    }
   ],
   "source": [
    "p"
   ]
  },
  {
   "cell_type": "code",
   "execution_count": 33,
   "metadata": {
    "collapsed": false
   },
   "outputs": [
    {
     "data": {
      "text/plain": [
       "array([ 0.25,  0.4 ,  0.25,  0.55,  0.45,  0.25,  0.05,  0.5 ,  0.5 ,  0.  ])"
      ]
     },
     "execution_count": 33,
     "metadata": {},
     "output_type": "execute_result"
    }
   ],
   "source": [
    "r"
   ]
  },
  {
   "cell_type": "code",
   "execution_count": 31,
   "metadata": {
    "collapsed": false
   },
   "outputs": [
    {
     "name": "stdout",
     "output_type": "stream",
     "text": [
      "Test\n",
      "F-Score: [ 0.3125      0.48484848  0.37037037  0.53658537  0.36        0.25641026\n",
      "  0.0952381   0.35714286  0.64516129  0.        ]\n",
      "Confusion Matrix\n",
      "[[ 5  0  0  0  0  2  0  3  0 10]\n",
      " [ 1  8  0  8  2  1  0  0  0  0]\n",
      " [ 2  0  5  0  4  3  0  2  0  4]\n",
      " [ 3  0  0 11  0  0  0  0  0  6]\n",
      " [ 0  0  0  1  9  2  0  7  0  1]\n",
      " [ 0  0  1  0  4  5  0  5  0  5]\n",
      " [ 0  0  0  1  3  4  1  7  1  3]\n",
      " [ 0  4  1  0  5  0  0 10  0  0]\n",
      " [ 1  1  0  0  3  2  0  2 10  1]\n",
      " [ 0  0  0  0  0  0  0  0  0  0]]\n"
     ]
    }
   ],
   "source": [
    "saver = tf.train.Saver()\n",
    "with tf.Session() as sess:\n",
    "    saver.restore(sess,\"model/nn_model_full.ckpt\")\n",
    "    print \"Test\"\n",
    "    y_pred = sess.run(tf.argmax(y_,1),feed_dict={X: test_x})\n",
    "    y_true = sess.run(tf.argmax(test_y,1))\n",
    "    p,r,f,s = precision_recall_fscore_support(y_true, y_pred)\n",
    "    print \"F-Score: {0}\".format(f)\n",
    "    print \"Confusion Matrix\"\n",
    "    print confusion_matrix(y_true, y_pred)"
   ]
  },
  {
   "cell_type": "code",
   "execution_count": 25,
   "metadata": {
    "collapsed": true
   },
   "outputs": [],
   "source": [
    "classID = {\n",
    "    0: \"AirCon\",\n",
    "    1: \"Car horn\",\n",
    "    2: \"Children playing\",\n",
    "    3: \"Dog bark\",\n",
    "    4: \"Drilling\",\n",
    "    5: \"Engine idling\",\n",
    "    6: \"Gun shot\",\n",
    "    7: \"Jackhammer\",\n",
    "    8: \"Siren\",\n",
    "    9: \"Street music\"\n",
    "}"
   ]
  },
  {
   "cell_type": "code",
   "execution_count": 28,
   "metadata": {
    "collapsed": false
   },
   "outputs": [
    {
     "name": "stdout",
     "output_type": "stream",
     "text": [
      "************************************************\n",
      " Class AirCon is mistaken with: \n",
      "# Engine idling: 2 samples\n",
      "--- aircon_12.wav\n",
      "--- aircon_13.wav\n",
      "# Jackhammer: 3 samples\n",
      "--- aircon_19.wav\n",
      "--- aircon_17.wav\n",
      "--- aircon_18.wav\n",
      "# Street music: 10 samples\n",
      "--- aircon_4.wav\n",
      "--- aircon_20.wav\n",
      "--- aircon_1.wav\n",
      "--- aircon_11.wav\n",
      "--- aircon_8.wav\n",
      "--- aircon_3.wav\n",
      "--- aircon_16.wav\n",
      "--- aircon_14.wav\n",
      "--- aircon_15.wav\n",
      "--- aircon_2.wav\n",
      "************************************************\n",
      " Class Car horn is mistaken with: \n",
      "# AirCon: 1 samples\n",
      "--- carhorn_5.wav\n",
      "# Dog bark: 8 samples\n",
      "--- carhorn_16.wav\n",
      "--- carhorn_12.wav\n",
      "--- carhorn_1.wav\n",
      "--- carhorn_4.wav\n",
      "--- carhorn_14.wav\n",
      "--- carhorn_15.wav\n",
      "--- carhorn_3.wav\n",
      "--- carhorn_13.wav\n",
      "# Drilling: 2 samples\n",
      "--- carhorn_8.wav\n",
      "--- carhorn_20.wav\n",
      "# Engine idling: 1 samples\n",
      "--- carhorn_17.wav\n",
      "************************************************\n",
      " Class Children playing is mistaken with: \n",
      "# AirCon: 2 samples\n",
      "--- children_17.wav\n",
      "--- children_2.wav\n",
      "# Drilling: 4 samples\n",
      "--- children_16.wav\n",
      "--- children_15.wav\n",
      "--- children_19.wav\n",
      "--- children_18.wav\n",
      "# Engine idling: 3 samples\n",
      "--- children_4.wav\n",
      "--- children_13.wav\n",
      "--- children_14.wav\n",
      "# Jackhammer: 2 samples\n",
      "--- children_20.wav\n",
      "--- children_11.wav\n",
      "# Street music: 4 samples\n",
      "--- children_9.wav\n",
      "--- children_1.wav\n",
      "--- children_12.wav\n",
      "--- children_10.wav\n",
      "************************************************\n",
      " Class Dog bark is mistaken with: \n",
      "# AirCon: 3 samples\n",
      "--- dog_bark_11.wav\n",
      "--- dog_bark_13.wav\n",
      "--- dog_bark_10.wav\n",
      "# Street music: 6 samples\n",
      "--- dog_bark_7.wav\n",
      "--- dog_bark_6.wav\n",
      "--- dog_bark_18.wav\n",
      "--- dog_bark_5.wav\n",
      "--- dog_bark_14.wav\n",
      "--- dog_bark_19.wav\n",
      "************************************************\n",
      " Class Drilling is mistaken with: \n",
      "# Dog bark: 1 samples\n",
      "--- drill_19.wav\n",
      "# Engine idling: 2 samples\n",
      "--- drill_4.wav\n",
      "--- drill_2.wav\n",
      "# Jackhammer: 7 samples\n",
      "--- drill_17.wav\n",
      "--- drill_8.wav\n",
      "--- drill_7.wav\n",
      "--- drill_5.wav\n",
      "--- drill_16.wav\n",
      "--- drill_15.wav\n",
      "--- drill_3.wav\n",
      "# Street music: 1 samples\n",
      "--- drill_6.wav\n",
      "************************************************\n",
      " Class Engine idling is mistaken with: \n",
      "# Children playing: 1 samples\n",
      "--- engine_idling_14.wav\n",
      "# Drilling: 4 samples\n",
      "--- engine_idling_19.wav\n",
      "--- engine_idling_20.wav\n",
      "--- engine_idling_15.wav\n",
      "--- engine_idling_18.wav\n",
      "# Jackhammer: 5 samples\n",
      "--- engine_idling_12.wav\n",
      "--- engine_idling_11.wav\n",
      "--- engine_idling_17.wav\n",
      "--- engine_idling_16.wav\n",
      "--- engine_idling_13.wav\n",
      "# Street music: 5 samples\n",
      "--- engine_idling_1.wav\n",
      "--- engine_idling_4.wav\n",
      "--- engine_idling_2.wav\n",
      "--- engine_idling_5.wav\n",
      "--- engine_idling_3.wav\n",
      "************************************************\n",
      " Class Gun shot is mistaken with: \n",
      "# Dog bark: 1 samples\n",
      "--- gunshot_19.wav\n",
      "# Drilling: 3 samples\n",
      "--- gunshot_1.wav\n",
      "--- gunshot_15.wav\n",
      "--- gunshot_4.wav\n",
      "# Engine idling: 4 samples\n",
      "--- gunshot_3.wav\n",
      "--- gunshot_13.wav\n",
      "--- gunshot_2.wav\n",
      "--- gunshot_9.wav\n",
      "# Jackhammer: 7 samples\n",
      "--- gunshot_11.wav\n",
      "--- gunshot_10.wav\n",
      "--- gunshot_14.wav\n",
      "--- gunshot_18.wav\n",
      "--- gunshot_7.wav\n",
      "--- gunshot_20.wav\n",
      "--- gunshot_8.wav\n",
      "# Siren: 1 samples\n",
      "--- gunshot_6.wav\n",
      "# Street music: 3 samples\n",
      "--- gunshot_16.wav\n",
      "--- gunshot_5.wav\n",
      "--- gunshot_17.wav\n",
      "************************************************\n",
      " Class Jackhammer is mistaken with: \n",
      "# Car horn: 4 samples\n",
      "--- jackhammer_13.wav\n",
      "--- jackhammer_2.wav\n",
      "--- jackhammer_4.wav\n",
      "--- jackhammer_3.wav\n",
      "# Children playing: 1 samples\n",
      "--- jackhammer_1.wav\n",
      "# Drilling: 5 samples\n",
      "--- jackhammer_15.wav\n",
      "--- jackhammer_16.wav\n",
      "--- jackhammer_17.wav\n",
      "--- jackhammer_14.wav\n",
      "--- jackhammer_18.wav\n",
      "************************************************\n",
      " Class Siren is mistaken with: \n",
      "# AirCon: 1 samples\n",
      "--- siren_13.wav\n",
      "# Car horn: 1 samples\n",
      "--- siren_10.wav\n",
      "# Drilling: 3 samples\n",
      "--- siren_18.wav\n",
      "--- siren_17.wav\n",
      "--- siren_9.wav\n",
      "# Engine idling: 2 samples\n",
      "--- siren_3.wav\n",
      "--- siren_2.wav\n",
      "# Jackhammer: 2 samples\n",
      "--- siren_16.wav\n",
      "--- siren_111.wav\n",
      "# Street music: 1 samples\n",
      "--- siren_14.wav\n",
      "************************************************\n",
      " Class Street music is mistaken with: \n",
      "************************************************\n"
     ]
    }
   ],
   "source": [
    "for ID, name in classID.items():\n",
    "    x = y_pred[(y_true == ID)*(y_pred != ID)]\n",
    "    names = test_fileNames[(y_true == ID)*(y_pred != ID)]\n",
    "    \n",
    "    unique_class, unique_count = np.unique(x, return_counts=True)\n",
    "    print \"************************************************\"\n",
    "    print \" Class {0} is mistaken with: \".format(name)\n",
    "    for c, y in zip(unique_class, unique_count):        \n",
    "        print \"# {0}: {1} samples\".format(classID[c], y)\n",
    "        for name in names[x == c]:\n",
    "            true_name = name.split(\"/\")[1]\n",
    "            print \"--- {0}\".format(true_name)\n",
    "print \"************************************************\""
   ]
  },
  {
   "cell_type": "code",
   "execution_count": null,
   "metadata": {
    "collapsed": true
   },
   "outputs": [],
   "source": []
  },
  {
   "cell_type": "code",
   "execution_count": null,
   "metadata": {
    "collapsed": true
   },
   "outputs": [],
   "source": []
  },
  {
   "cell_type": "code",
   "execution_count": null,
   "metadata": {
    "collapsed": true
   },
   "outputs": [],
   "source": []
  },
  {
   "cell_type": "code",
   "execution_count": null,
   "metadata": {
    "collapsed": true
   },
   "outputs": [],
   "source": []
  },
  {
   "cell_type": "code",
   "execution_count": 9,
   "metadata": {
    "collapsed": false
   },
   "outputs": [
    {
     "data": {
      "text/html": [
       "<div>\n",
       "<table border=\"1\" class=\"dataframe\">\n",
       "  <thead>\n",
       "    <tr style=\"text-align: right;\">\n",
       "      <th></th>\n",
       "      <th>File name</th>\n",
       "      <th>Label</th>\n",
       "    </tr>\n",
       "  </thead>\n",
       "  <tbody>\n",
       "    <tr>\n",
       "      <th>0</th>\n",
       "      <td>data\\clean_testset\\104817__longshot__drilling-...</td>\n",
       "      <td>4</td>\n",
       "    </tr>\n",
       "    <tr>\n",
       "      <th>1</th>\n",
       "      <td>data\\clean_testset\\104817__longshot__drilling-...</td>\n",
       "      <td>4</td>\n",
       "    </tr>\n",
       "    <tr>\n",
       "      <th>2</th>\n",
       "      <td>data\\clean_testset\\104817__longshot__drilling-...</td>\n",
       "      <td>4</td>\n",
       "    </tr>\n",
       "    <tr>\n",
       "      <th>3</th>\n",
       "      <td>data\\clean_testset\\104817__longshot__drilling-...</td>\n",
       "      <td>4</td>\n",
       "    </tr>\n",
       "    <tr>\n",
       "      <th>4</th>\n",
       "      <td>data\\clean_testset\\104817__longshot__drilling-...</td>\n",
       "      <td>4</td>\n",
       "    </tr>\n",
       "  </tbody>\n",
       "</table>\n",
       "</div>"
      ],
      "text/plain": [
       "                                           File name  Label\n",
       "0  data\\clean_testset\\104817__longshot__drilling-...      4\n",
       "1  data\\clean_testset\\104817__longshot__drilling-...      4\n",
       "2  data\\clean_testset\\104817__longshot__drilling-...      4\n",
       "3  data\\clean_testset\\104817__longshot__drilling-...      4\n",
       "4  data\\clean_testset\\104817__longshot__drilling-...      4"
      ]
     },
     "execution_count": 9,
     "metadata": {},
     "output_type": "execute_result"
    }
   ],
   "source": [
    "test_label_df = pd.read_csv(\"data/clean_testset/label_testset.csv\")\n",
    "test_label_df = test_label_df.iloc[:,1:3]\n",
    "test_label_df.head()"
   ]
  },
  {
   "cell_type": "code",
   "execution_count": 11,
   "metadata": {
    "collapsed": true
   },
   "outputs": [],
   "source": [
    "def parse_audio_test_files(parent_dir,sub_dir=\"\",file_ext='*.wav'):\n",
    "    features, namePath = np.empty((0,296)), np.empty(0)\n",
    "    for fn in glob.glob(os.path.join(parent_dir, sub_dir, file_ext)):\n",
    "        mfccs, logmel, mel = extract_feature(fn)\n",
    "        ext_features = np.hstack([mfccs,logmel, mel])\n",
    "        features = np.vstack([features,ext_features])\n",
    "        namePath = np.append(namePath, fn)\n",
    "    return np.array(features), np.array(namePath, dtype=np.string_)"
   ]
  },
  {
   "cell_type": "code",
   "execution_count": 12,
   "metadata": {
    "collapsed": false
   },
   "outputs": [],
   "source": [
    "test_features, test_fileNames = parse_audio_test_files(\"data\",\"clean_testset\")"
   ]
  },
  {
   "cell_type": "code",
   "execution_count": 13,
   "metadata": {
    "collapsed": false
   },
   "outputs": [
    {
     "data": {
      "text/plain": [
       "(430, 2)"
      ]
     },
     "execution_count": 13,
     "metadata": {},
     "output_type": "execute_result"
    }
   ],
   "source": [
    "test_label_df.shape"
   ]
  },
  {
   "cell_type": "code",
   "execution_count": 14,
   "metadata": {
    "collapsed": false
   },
   "outputs": [
    {
     "data": {
      "text/plain": [
       "(430,)"
      ]
     },
     "execution_count": 14,
     "metadata": {},
     "output_type": "execute_result"
    }
   ],
   "source": [
    "np.shape(test_fileNames)"
   ]
  },
  {
   "cell_type": "code",
   "execution_count": 15,
   "metadata": {
    "collapsed": false
   },
   "outputs": [
    {
     "data": {
      "text/plain": [
       "array([4, 7, 6, 9, 8, 0, 2, 3])"
      ]
     },
     "execution_count": 15,
     "metadata": {},
     "output_type": "execute_result"
    }
   ],
   "source": [
    "test_label_df[\"Label\"].unique()"
   ]
  },
  {
   "cell_type": "code",
   "execution_count": 16,
   "metadata": {
    "collapsed": true
   },
   "outputs": [],
   "source": [
    "def special_one_hot_encode(labels):\n",
    "    n_labels = len(labels)\n",
    "    one_hot_encode = np.zeros((n_labels,10))\n",
    "    for idx in range(n_labels):\n",
    "        for l in range(10):\n",
    "            if(labels[idx] == l):\n",
    "                one_hot_encode[idx,l] = 1\n",
    "    return one_hot_encode"
   ]
  },
  {
   "cell_type": "code",
   "execution_count": 17,
   "metadata": {
    "collapsed": false
   },
   "outputs": [
    {
     "data": {
      "text/plain": [
       "(430, 10)"
      ]
     },
     "execution_count": 17,
     "metadata": {},
     "output_type": "execute_result"
    }
   ],
   "source": [
    "test_label_np = test_label_df.as_matrix([\"Label\"])\n",
    "test_x = test_features[:,0:168]\n",
    "test_y = special_one_hot_encode(test_label_np[:,0])\n",
    "np.shape(test_y)"
   ]
  },
  {
   "cell_type": "code",
   "execution_count": 18,
   "metadata": {
    "collapsed": true
   },
   "outputs": [],
   "source": [
    "test_file_names = test_label_df.as_matrix([\"File name\"])"
   ]
  },
  {
   "cell_type": "code",
   "execution_count": 19,
   "metadata": {
    "collapsed": false
   },
   "outputs": [
    {
     "ename": "NameError",
     "evalue": "name 'y_true' is not defined",
     "output_type": "error",
     "traceback": [
      "\u001b[0;31m---------------------------------------------------------------------------\u001b[0m",
      "\u001b[0;31mNameError\u001b[0m                                 Traceback (most recent call last)",
      "\u001b[0;32m<ipython-input-19-d15f9ee6e6b8>\u001b[0m in \u001b[0;36m<module>\u001b[0;34m()\u001b[0m\n\u001b[0;32m----> 1\u001b[0;31m \u001b[0my_true\u001b[0m\u001b[0;34m\u001b[0m\u001b[0m\n\u001b[0m",
      "\u001b[0;31mNameError\u001b[0m: name 'y_true' is not defined"
     ]
    }
   ],
   "source": [
    "y_true"
   ]
  },
  {
   "cell_type": "code",
   "execution_count": 71,
   "metadata": {
    "collapsed": false
   },
   "outputs": [
    {
     "data": {
      "text/plain": [
       "array([7, 4, 4, 4, 4, 2, 4, 3, 3, 3, 6, 8, 3, 4, 9, 9, 4, 6, 2, 7, 6, 7, 3,\n",
       "       4, 3, 9, 7, 9, 0, 7, 4, 3, 9, 4, 3, 3, 5, 8, 2, 7, 2, 4, 2, 5, 7, 4,\n",
       "       2, 4, 8, 4, 3, 2, 9, 4, 4, 7, 8, 3, 4, 4, 4, 8, 6, 2, 7, 7, 4, 4, 4,\n",
       "       3])"
      ]
     },
     "execution_count": 71,
     "metadata": {},
     "output_type": "execute_result"
    }
   ],
   "source": [
    "y_pred"
   ]
  },
  {
   "cell_type": "code",
   "execution_count": 20,
   "metadata": {
    "collapsed": false
   },
   "outputs": [
    {
     "name": "stdout",
     "output_type": "stream",
     "text": [
      "Test\n",
      "F-Score: 0.220930232558\n",
      "Confusion Matrix\n",
      "[[ 0  1  1  0  0  0  1  0  0]\n",
      " [ 0  0  3  5  0  0  4  1  0]\n",
      " [ 0  0  0  1  0  0  8  1  1]\n",
      " [ 0  4  8 22  2  1 26  3  1]\n",
      " [ 0  0  0  0  0  0  0  0  0]\n",
      " [ 0  2  1  5  0  0  3  0  0]\n",
      " [ 0  6 20 50  2  1 57 13  4]\n",
      " [ 2 11 27 46  3  3 53 15  4]\n",
      " [ 0  1  0  4  0  0  2  0  1]]\n"
     ]
    }
   ],
   "source": [
    "saver = tf.train.Saver()\n",
    "with tf.Session() as sess:\n",
    "    saver.restore(sess,\"model/nn_model_full.ckpt\")\n",
    "    print \"Test\"\n",
    "    y_pred = sess.run(tf.argmax(y_,1),feed_dict={X: test_x})\n",
    "    y_true = sess.run(tf.argmax(test_y,1))\n",
    "    p,r,f,s = precision_recall_fscore_support(y_true, y_pred, average='micro')\n",
    "    print \"F-Score: {0}\".format(f)\n",
    "    print \"Confusion Matrix\"\n",
    "    print confusion_matrix(y_true, y_pred)"
   ]
  },
  {
   "cell_type": "code",
   "execution_count": 21,
   "metadata": {
    "collapsed": true
   },
   "outputs": [],
   "source": [
    "classID = {\n",
    "    0: \"AirCon\",\n",
    "    1: \"Car horn\",\n",
    "    2: \"Children playing\",\n",
    "    3: \"Dog bark\",\n",
    "    4: \"Drilling\",\n",
    "    5: \"Engine idling\",\n",
    "    6: \"Gun shot\",\n",
    "    7: \"Jackhammer\",\n",
    "    8: \"Siren\",\n",
    "    9: \"Street music\"\n",
    "}"
   ]
  },
  {
   "cell_type": "code",
   "execution_count": 29,
   "metadata": {
    "collapsed": false
   },
   "outputs": [
    {
     "name": "stdout",
     "output_type": "stream",
     "text": [
      "************************************************\n",
      " Class AirCon is mistaken with: \n",
      "# Children playing: 1 samples\n",
      "data\\clean_testset\\Background Noise-SoundBible.com-190168996_1.wav\n",
      "# Dog bark: 1 samples\n",
      "data\\clean_testset\\Turn On Air Conditioning-SoundBible.com-472411363_1.wav\n",
      "# Jackhammer: 1 samples\n",
      "data\\clean_testset\\Background Noise-SoundBible.com-190168996_2.wav\n",
      "************************************************\n",
      " Class Car horn is mistaken with: \n",
      "************************************************\n",
      " Class Children playing is mistaken with: \n",
      "# Dog bark: 3 samples\n",
      "data\\clean_testset\\Children Playing-SoundBible.com-591301488_4.wav\n",
      "data\\clean_testset\\Children Playing-SoundBible.com-591301488_5.wav\n",
      "data\\clean_testset\\Children Playing-SoundBible.com-591301488_8.wav\n",
      "# Drilling: 5 samples\n",
      "data\\clean_testset\\Children Playing-SoundBible.com-591301488_2.wav\n",
      "data\\clean_testset\\Children Playing-SoundBible.com-591301488_9.wav\n",
      "data\\clean_testset\\Children Playing-SoundBible.com-591301488_11.wav\n",
      "data\\clean_testset\\Children Playing-SoundBible.com-591301488_12.wav\n",
      "data\\clean_testset\\Children Playing-SoundBible.com-591301488_13.wav\n",
      "# Jackhammer: 4 samples\n",
      "data\\clean_testset\\Children Playing-SoundBible.com-591301488_3.wav\n",
      "data\\clean_testset\\Children Playing-SoundBible.com-591301488_6.wav\n",
      "data\\clean_testset\\Children Playing-SoundBible.com-591301488_7.wav\n",
      "data\\clean_testset\\Children Playing-SoundBible.com-591301488_10.wav\n",
      "# Siren: 1 samples\n",
      "data\\clean_testset\\Children Playing-SoundBible.com-591301488_1.wav\n",
      "************************************************\n",
      " Class Dog bark is mistaken with: \n",
      "# Drilling: 1 samples\n",
      "data\\clean_testset\\Growling_Snarling_Dogs-Lisa_Redfern-570128669_8.wav\n",
      "# Jackhammer: 8 samples\n",
      "data\\clean_testset\\Dogs Barking-SoundBible.com-625577590_1.wav\n",
      "data\\clean_testset\\Dogs Barking-SoundBible.com-625577590_2.wav\n",
      "data\\clean_testset\\Growling_Snarling_Dogs-Lisa_Redfern-570128669_2.wav\n",
      "data\\clean_testset\\Growling_Snarling_Dogs-Lisa_Redfern-570128669_3.wav\n",
      "data\\clean_testset\\Growling_Snarling_Dogs-Lisa_Redfern-570128669_4.wav\n",
      "data\\clean_testset\\Growling_Snarling_Dogs-Lisa_Redfern-570128669_5.wav\n",
      "data\\clean_testset\\Growling_Snarling_Dogs-Lisa_Redfern-570128669_6.wav\n",
      "data\\clean_testset\\Growling_Snarling_Dogs-Lisa_Redfern-570128669_7.wav\n",
      "# Siren: 1 samples\n",
      "data\\clean_testset\\Growling_Snarling_Dogs-Lisa_Redfern-570128669_1.wav\n",
      "# Street music: 1 samples\n",
      "data\\clean_testset\\Growling_Snarling_Dogs-Lisa_Redfern-570128669_9.wav\n",
      "************************************************\n",
      " Class Drilling is mistaken with: \n",
      "# Children playing: 4 samples\n",
      "data\\clean_testset\\104817__longshot__drilling-in-concrete-wall_1.wav\n",
      "data\\clean_testset\\104817__longshot__drilling-in-concrete-wall_2.wav\n",
      "data\\clean_testset\\104817__longshot__drilling-in-concrete-wall_5.wav\n",
      "data\\clean_testset\\147019__xxqmanxx__power-drill_1.wav\n",
      "# Dog bark: 8 samples\n",
      "data\\clean_testset\\144351__zabuhailo__drill_1.wav\n",
      "data\\clean_testset\\166931__ultradust__remodeling-power-drill_6.wav\n",
      "data\\clean_testset\\166931__ultradust__remodeling-power-drill_11.wav\n",
      "data\\clean_testset\\166931__ultradust__remodeling-power-drill_15.wav\n",
      "data\\clean_testset\\42937__agfx__elec-hand-drill-drilling-metal-rough-2_1.wav\n",
      "data\\clean_testset\\71079__aharri6__drill-2_1.wav\n",
      "data\\clean_testset\\Builders Drilling-SoundBible.com-2062910629_1.wav\n",
      "data\\clean_testset\\Builders Drilling-SoundBible.com-2062910629_5.wav\n",
      "# Engine idling: 2 samples\n",
      "data\\clean_testset\\74965__sugu14__drill_1.wav\n",
      "data\\clean_testset\\Drill-SoundBible.com-1370234511_1.wav\n",
      "# Gun shot: 1 samples\n",
      "data\\clean_testset\\144351__zabuhailo__drill_3.wav\n",
      "# Jackhammer: 26 samples\n",
      "data\\clean_testset\\104817__longshot__drilling-in-concrete-wall_4.wav\n",
      "data\\clean_testset\\144351__zabuhailo__drill_2.wav\n",
      "data\\clean_testset\\144351__zabuhailo__drill_4.wav\n",
      "data\\clean_testset\\144351__zabuhailo__drill_9.wav\n",
      "data\\clean_testset\\144351__zabuhailo__drill_10.wav\n",
      "data\\clean_testset\\144351__zabuhailo__drill_11.wav\n",
      "data\\clean_testset\\157737__statyk__drill-raw_1.wav\n",
      "data\\clean_testset\\157737__statyk__drill-raw_2.wav\n",
      "data\\clean_testset\\157737__statyk__drill-raw_3.wav\n",
      "data\\clean_testset\\166931__ultradust__remodeling-power-drill_1.wav\n",
      "data\\clean_testset\\166931__ultradust__remodeling-power-drill_2.wav\n",
      "data\\clean_testset\\166931__ultradust__remodeling-power-drill_3.wav\n",
      "data\\clean_testset\\166931__ultradust__remodeling-power-drill_5.wav\n",
      "data\\clean_testset\\166931__ultradust__remodeling-power-drill_9.wav\n",
      "data\\clean_testset\\166931__ultradust__remodeling-power-drill_14.wav\n",
      "data\\clean_testset\\166931__ultradust__remodeling-power-drill_17.wav\n",
      "data\\clean_testset\\188896__plingativator__drill_2.wav\n",
      "data\\clean_testset\\262213__stomachache__electric-drill_1.wav\n",
      "data\\clean_testset\\39533__the-bizniss__drill_1.wav\n",
      "data\\clean_testset\\42937__agfx__elec-hand-drill-drilling-metal-rough-2_2.wav\n",
      "data\\clean_testset\\71086__aharri6__multiple-drill_2.wav\n",
      "data\\clean_testset\\71087__aharri6__slow-drill-2_1.wav\n",
      "data\\clean_testset\\71088__aharri6__slow-drill_1.wav\n",
      "data\\clean_testset\\71088__aharri6__slow-drill_2.wav\n",
      "data\\clean_testset\\74965__sugu14__drill_2.wav\n",
      "data\\clean_testset\\Builders Drilling-SoundBible.com-2062910629_4.wav\n",
      "# Siren: 3 samples\n",
      "data\\clean_testset\\144351__zabuhailo__drill_5.wav\n",
      "data\\clean_testset\\166931__ultradust__remodeling-power-drill_8.wav\n",
      "data\\clean_testset\\188896__plingativator__drill_3.wav\n",
      "# Street music: 1 samples\n",
      "data\\clean_testset\\144351__zabuhailo__drill_7.wav\n",
      "************************************************\n",
      " Class Engine idling is mistaken with: \n",
      "************************************************\n",
      " Class Gun shot is mistaken with: \n",
      "# Children playing: 2 samples\n",
      "data\\clean_testset\\9_mm_gunshot-mike-koenig-123_1.wav\n",
      "data\\clean_testset\\P90 Gun Fire-SoundBible.com-1098578777_1.wav\n",
      "# Dog bark: 1 samples\n",
      "data\\clean_testset\\barreta_m9-Dion_Stapper-1010051237_1.wav\n",
      "# Drilling: 5 samples\n",
      "data\\clean_testset\\416_Barrett_sniper_rifle-Mike_Koenig-1498171968_1.wav\n",
      "data\\clean_testset\\Glock 17 9mm-SoundBible.com-149518286_1.wav\n",
      "data\\clean_testset\\Glock 18 Full Auto-SoundBible.com-1696369275_1.wav\n",
      "data\\clean_testset\\M 82 Barrett 50 Cal-SoundBible.com-1062134043_1.wav\n",
      "data\\clean_testset\\P90 Machine Gun Fire-SoundBible.com-1759238401_1.wav\n",
      "# Jackhammer: 3 samples\n",
      "data\\clean_testset\\416_Barrett_Sniper_3x-Mike_Koenig-1194963533_1.wav\n",
      "data\\clean_testset\\GUN_FIRE-GoodSoundForYou-820112263_1.wav\n",
      "data\\clean_testset\\MP5-SoundBible.com-493065757_1.wav\n",
      "************************************************\n",
      " Class Jackhammer is mistaken with: \n",
      "# Children playing: 6 samples\n",
      "data\\clean_testset\\104998__benboncan__jackhammer_23.wav\n",
      "data\\clean_testset\\104998__benboncan__jackhammer_44.wav\n",
      "data\\clean_testset\\33340__asparagus-p__lackey070329-11-52-am-jackhammer_3.wav\n",
      "data\\clean_testset\\90013__thfc140491__jackhammer-vehicles-and-gennies_5.wav\n",
      "data\\clean_testset\\90013__thfc140491__jackhammer-vehicles-and-gennies_6.wav\n",
      "data\\clean_testset\\98859__tomlija__jackhammer_2.wav\n",
      "# Dog bark: 20 samples\n",
      "data\\clean_testset\\104998__benboncan__jackhammer_5.wav\n",
      "data\\clean_testset\\104998__benboncan__jackhammer_12.wav\n",
      "data\\clean_testset\\104998__benboncan__jackhammer_20.wav\n",
      "data\\clean_testset\\104998__benboncan__jackhammer_25.wav\n",
      "data\\clean_testset\\104998__benboncan__jackhammer_40.wav\n",
      "data\\clean_testset\\104998__benboncan__jackhammer_43.wav\n",
      "data\\clean_testset\\104998__benboncan__jackhammer_52.wav\n",
      "data\\clean_testset\\104998__benboncan__jackhammer_59.wav\n",
      "data\\clean_testset\\104998__benboncan__jackhammer_69.wav\n",
      "data\\clean_testset\\104998__benboncan__jackhammer_76.wav\n",
      "data\\clean_testset\\104998__benboncan__jackhammer_77.wav\n",
      "data\\clean_testset\\104998__benboncan__jackhammer_82.wav\n",
      "data\\clean_testset\\104998__benboncan__jackhammer_84.wav\n",
      "data\\clean_testset\\104998__benboncan__jackhammer_94.wav\n",
      "data\\clean_testset\\30206__bondegi__threejackhammers_2.wav\n",
      "data\\clean_testset\\30206__bondegi__threejackhammers_6.wav\n",
      "data\\clean_testset\\30206__bondegi__threejackhammers_8.wav\n",
      "data\\clean_testset\\30206__bondegi__threejackhammers_11.wav\n",
      "data\\clean_testset\\90013__thfc140491__jackhammer-vehicles-and-gennies_8.wav\n",
      "data\\clean_testset\\98859__tomlija__jackhammer_4.wav\n",
      "# Drilling: 50 samples\n",
      "data\\clean_testset\\104998__benboncan__jackhammer_7.wav\n",
      "data\\clean_testset\\104998__benboncan__jackhammer_9.wav\n",
      "data\\clean_testset\\104998__benboncan__jackhammer_10.wav\n",
      "data\\clean_testset\\104998__benboncan__jackhammer_11.wav\n",
      "data\\clean_testset\\104998__benboncan__jackhammer_19.wav\n",
      "data\\clean_testset\\104998__benboncan__jackhammer_26.wav\n",
      "data\\clean_testset\\104998__benboncan__jackhammer_27.wav\n",
      "data\\clean_testset\\104998__benboncan__jackhammer_28.wav\n",
      "data\\clean_testset\\104998__benboncan__jackhammer_32.wav\n",
      "data\\clean_testset\\104998__benboncan__jackhammer_33.wav\n",
      "data\\clean_testset\\104998__benboncan__jackhammer_35.wav\n",
      "data\\clean_testset\\104998__benboncan__jackhammer_37.wav\n",
      "data\\clean_testset\\104998__benboncan__jackhammer_38.wav\n",
      "data\\clean_testset\\104998__benboncan__jackhammer_45.wav\n",
      "data\\clean_testset\\104998__benboncan__jackhammer_46.wav\n",
      "data\\clean_testset\\104998__benboncan__jackhammer_48.wav\n",
      "data\\clean_testset\\104998__benboncan__jackhammer_55.wav\n",
      "data\\clean_testset\\104998__benboncan__jackhammer_57.wav\n",
      "data\\clean_testset\\104998__benboncan__jackhammer_62.wav\n",
      "data\\clean_testset\\104998__benboncan__jackhammer_65.wav\n",
      "data\\clean_testset\\104998__benboncan__jackhammer_67.wav\n",
      "data\\clean_testset\\104998__benboncan__jackhammer_68.wav\n",
      "data\\clean_testset\\104998__benboncan__jackhammer_73.wav\n",
      "data\\clean_testset\\104998__benboncan__jackhammer_78.wav\n",
      "data\\clean_testset\\104998__benboncan__jackhammer_80.wav\n",
      "data\\clean_testset\\104998__benboncan__jackhammer_81.wav\n",
      "data\\clean_testset\\104998__benboncan__jackhammer_86.wav\n",
      "data\\clean_testset\\104998__benboncan__jackhammer_89.wav\n",
      "data\\clean_testset\\104998__benboncan__jackhammer_90.wav\n",
      "data\\clean_testset\\104998__benboncan__jackhammer_91.wav\n",
      "data\\clean_testset\\104998__benboncan__jackhammer_92.wav\n",
      "data\\clean_testset\\104998__benboncan__jackhammer_93.wav\n",
      "data\\clean_testset\\104998__benboncan__jackhammer_97.wav\n",
      "data\\clean_testset\\104998__benboncan__jackhammer_100.wav\n",
      "data\\clean_testset\\104998__benboncan__jackhammer_101.wav\n",
      "data\\clean_testset\\146261__ferdinger__jack-hammer-2_1.wav\n",
      "data\\clean_testset\\30206__bondegi__threejackhammers_1.wav\n",
      "data\\clean_testset\\30206__bondegi__threejackhammers_3.wav\n",
      "data\\clean_testset\\30206__bondegi__threejackhammers_12.wav\n",
      "data\\clean_testset\\30206__bondegi__threejackhammers_13.wav\n",
      "data\\clean_testset\\30206__bondegi__threejackhammers_20.wav\n",
      "data\\clean_testset\\31884__dobroide__20070228-jackhammer_1.wav\n",
      "data\\clean_testset\\31884__dobroide__20070228-jackhammer_4.wav\n",
      "data\\clean_testset\\33340__asparagus-p__lackey070329-11-52-am-jackhammer_1.wav\n",
      "data\\clean_testset\\33340__asparagus-p__lackey070329-11-52-am-jackhammer_4.wav\n",
      "data\\clean_testset\\33340__asparagus-p__lackey070329-11-52-am-jackhammer_6.wav\n",
      "data\\clean_testset\\42097__fauxpress__sound-fx-jackhammer_2.wav\n",
      "data\\clean_testset\\90013__thfc140491__jackhammer-vehicles-and-gennies_4.wav\n",
      "data\\clean_testset\\90013__thfc140491__jackhammer-vehicles-and-gennies_7.wav\n",
      "data\\clean_testset\\98859__tomlija__jackhammer_3.wav\n",
      "# Engine idling: 2 samples\n",
      "data\\clean_testset\\33340__asparagus-p__lackey070329-11-52-am-jackhammer_2.wav\n",
      "data\\clean_testset\\90013__thfc140491__jackhammer-vehicles-and-gennies_2.wav\n",
      "# Gun shot: 1 samples\n",
      "data\\clean_testset\\Jackhammer-SoundBible.com-1272807017_1.wav\n",
      "# Siren: 13 samples\n",
      "data\\clean_testset\\104998__benboncan__jackhammer_1.wav\n",
      "data\\clean_testset\\104998__benboncan__jackhammer_2.wav\n",
      "data\\clean_testset\\104998__benboncan__jackhammer_6.wav\n",
      "data\\clean_testset\\104998__benboncan__jackhammer_34.wav\n",
      "data\\clean_testset\\104998__benboncan__jackhammer_36.wav\n",
      "data\\clean_testset\\104998__benboncan__jackhammer_39.wav\n",
      "data\\clean_testset\\104998__benboncan__jackhammer_51.wav\n",
      "data\\clean_testset\\104998__benboncan__jackhammer_70.wav\n",
      "data\\clean_testset\\104998__benboncan__jackhammer_83.wav\n",
      "data\\clean_testset\\104998__benboncan__jackhammer_88.wav\n",
      "data\\clean_testset\\104998__benboncan__jackhammer_99.wav\n",
      "data\\clean_testset\\31884__dobroide__20070228-jackhammer_3.wav\n",
      "data\\clean_testset\\33340__asparagus-p__lackey070329-11-52-am-jackhammer_7.wav\n",
      "# Street music: 4 samples\n",
      "data\\clean_testset\\104998__benboncan__jackhammer_41.wav\n",
      "data\\clean_testset\\104998__benboncan__jackhammer_49.wav\n",
      "data\\clean_testset\\104998__benboncan__jackhammer_75.wav\n",
      "data\\clean_testset\\98859__tomlija__jackhammer_5.wav\n",
      "************************************************\n",
      " Class Siren is mistaken with: \n",
      "# AirCon: 2 samples\n",
      "data\\clean_testset\\Air Horn-SoundBible.com-964603082_1.wav\n",
      "data\\clean_testset\\Tornado_Siren_II-Delilah-747233690_23.wav\n",
      "# Children playing: 11 samples\n",
      "data\\clean_testset\\Police Siren 3-SoundBible.com-553177907_6.wav\n",
      "data\\clean_testset\\Police Siren-SoundBible.com-1078645668_2.wav\n",
      "data\\clean_testset\\Police-TheCristi95-214716303_2.wav\n",
      "data\\clean_testset\\Tornado Siren-SoundBible.com-897026957_6.wav\n",
      "data\\clean_testset\\Tornado Siren-SoundBible.com-897026957_8.wav\n",
      "data\\clean_testset\\Tornado_Siren_II-Delilah-747233690_19.wav\n",
      "data\\clean_testset\\Tornado_Siren_II-Delilah-747233690_62.wav\n",
      "data\\clean_testset\\Tornado_Siren_II-Delilah-747233690_63.wav\n",
      "data\\clean_testset\\Tornado_Siren_II-Delilah-747233690_64.wav\n",
      "data\\clean_testset\\Tornado_Siren_II-Delilah-747233690_72.wav\n",
      "data\\clean_testset\\Warning Siren-SoundBible.com-898272278_2.wav\n",
      "# Dog bark: 27 samples\n",
      "data\\clean_testset\\Asian Air Raid Siren-SoundBible.com-775018684_1.wav\n",
      "data\\clean_testset\\Asian Air Raid Siren-SoundBible.com-775018684_7.wav\n",
      "data\\clean_testset\\Asian Air Raid Siren-SoundBible.com-775018684_9.wav\n",
      "data\\clean_testset\\Cop Car Siren-SoundBible.com-1231381021_1.wav\n",
      "data\\clean_testset\\Fire Truck Siren-SoundBible.com-642727443_2.wav\n",
      "data\\clean_testset\\Fire Trucks Sirens 2-SoundBible.com-19361847_2.wav\n",
      "data\\clean_testset\\Police Siren-SoundBible.com-1078645668_1.wav\n",
      "data\\clean_testset\\Police-TheCristi95-214716303_9.wav\n",
      "data\\clean_testset\\Tornado_Siren_II-Delilah-747233690_3.wav\n",
      "data\\clean_testset\\Tornado_Siren_II-Delilah-747233690_6.wav\n",
      "data\\clean_testset\\Tornado_Siren_II-Delilah-747233690_7.wav\n",
      "data\\clean_testset\\Tornado_Siren_II-Delilah-747233690_11.wav\n",
      "data\\clean_testset\\Tornado_Siren_II-Delilah-747233690_14.wav\n",
      "data\\clean_testset\\Tornado_Siren_II-Delilah-747233690_15.wav\n",
      "data\\clean_testset\\Tornado_Siren_II-Delilah-747233690_21.wav\n",
      "data\\clean_testset\\Tornado_Siren_II-Delilah-747233690_22.wav\n",
      "data\\clean_testset\\Tornado_Siren_II-Delilah-747233690_25.wav\n",
      "data\\clean_testset\\Tornado_Siren_II-Delilah-747233690_29.wav\n",
      "data\\clean_testset\\Tornado_Siren_II-Delilah-747233690_34.wav\n",
      "data\\clean_testset\\Tornado_Siren_II-Delilah-747233690_37.wav\n",
      "data\\clean_testset\\Tornado_Siren_II-Delilah-747233690_41.wav\n",
      "data\\clean_testset\\Tornado_Siren_II-Delilah-747233690_49.wav\n",
      "data\\clean_testset\\Tornado_Siren_II-Delilah-747233690_66.wav\n",
      "data\\clean_testset\\Tornado_Siren_II-Delilah-747233690_67.wav\n",
      "data\\clean_testset\\Tornado_Siren_II-Delilah-747233690_69.wav\n",
      "data\\clean_testset\\Tornado_Siren_II-Delilah-747233690_74.wav\n",
      "data\\clean_testset\\Tornado_Siren_II-Delilah-747233690_75.wav\n",
      "# Drilling: 46 samples\n",
      "data\\clean_testset\\Asian Air Raid Siren-SoundBible.com-775018684_3.wav\n",
      "data\\clean_testset\\BOMB_SIREN-BOMB_SIREN-247265934_3.wav\n",
      "data\\clean_testset\\BOMB_SIREN-BOMB_SIREN-247265934_5.wav\n",
      "data\\clean_testset\\City Ambiance-SoundBible.com-1513196434_1.wav\n",
      "data\\clean_testset\\City Ambiance-SoundBible.com-1513196434_2.wav\n",
      "data\\clean_testset\\City Ambiance-SoundBible.com-1513196434_3.wav\n",
      "data\\clean_testset\\Fire Trucks Sirens 2-SoundBible.com-19361847_3.wav\n",
      "data\\clean_testset\\Police Siren 3-SoundBible.com-553177907_2.wav\n",
      "data\\clean_testset\\Police Siren 3-SoundBible.com-553177907_3.wav\n",
      "data\\clean_testset\\Police Siren-SoundBible.com-878640712_1.wav\n",
      "data\\clean_testset\\Police-TheCristi95-214716303_1.wav\n",
      "data\\clean_testset\\Police-TheCristi95-214716303_6.wav\n",
      "data\\clean_testset\\Police-TheCristi95-214716303_10.wav\n",
      "data\\clean_testset\\Police-TheCristi95-214716303_13.wav\n",
      "data\\clean_testset\\Siren-SoundBible.com-1094437108_1.wav\n",
      "data\\clean_testset\\Siren_Noise-KevanGC-1337458893_1.wav\n",
      "data\\clean_testset\\Sunday Church Ambiance-SoundBible.com-974744686_1.wav\n",
      "data\\clean_testset\\Sunday Church Ambiance-SoundBible.com-974744686_3.wav\n",
      "data\\clean_testset\\Sunday Church Ambiance-SoundBible.com-974744686_4.wav\n",
      "data\\clean_testset\\Sunday Church Ambiance-SoundBible.com-974744686_5.wav\n",
      "data\\clean_testset\\Sunday Church Ambiance-SoundBible.com-974744686_8.wav\n",
      "data\\clean_testset\\Tornado Siren-SoundBible.com-897026957_2.wav\n",
      "data\\clean_testset\\Tornado Siren-SoundBible.com-897026957_4.wav\n",
      "data\\clean_testset\\Tornado Siren-SoundBible.com-897026957_5.wav\n",
      "data\\clean_testset\\Tornado_Siren_II-Delilah-747233690_4.wav\n",
      "data\\clean_testset\\Tornado_Siren_II-Delilah-747233690_8.wav\n",
      "data\\clean_testset\\Tornado_Siren_II-Delilah-747233690_10.wav\n",
      "data\\clean_testset\\Tornado_Siren_II-Delilah-747233690_13.wav\n",
      "data\\clean_testset\\Tornado_Siren_II-Delilah-747233690_20.wav\n",
      "data\\clean_testset\\Tornado_Siren_II-Delilah-747233690_30.wav\n",
      "data\\clean_testset\\Tornado_Siren_II-Delilah-747233690_31.wav\n",
      "data\\clean_testset\\Tornado_Siren_II-Delilah-747233690_39.wav\n",
      "data\\clean_testset\\Tornado_Siren_II-Delilah-747233690_40.wav\n",
      "data\\clean_testset\\Tornado_Siren_II-Delilah-747233690_43.wav\n",
      "data\\clean_testset\\Tornado_Siren_II-Delilah-747233690_45.wav\n",
      "data\\clean_testset\\Tornado_Siren_II-Delilah-747233690_46.wav\n",
      "data\\clean_testset\\Tornado_Siren_II-Delilah-747233690_52.wav\n",
      "data\\clean_testset\\Tornado_Siren_II-Delilah-747233690_53.wav\n",
      "data\\clean_testset\\Tornado_Siren_II-Delilah-747233690_57.wav\n",
      "data\\clean_testset\\Tornado_Siren_II-Delilah-747233690_61.wav\n",
      "data\\clean_testset\\Tornado_Siren_II-Delilah-747233690_65.wav\n",
      "data\\clean_testset\\Tornado_Siren_II-Delilah-747233690_70.wav\n",
      "data\\clean_testset\\Tornado_Siren_II-Delilah-747233690_71.wav\n",
      "data\\clean_testset\\Tornado_Siren_II-Delilah-747233690_77.wav\n",
      "data\\clean_testset\\Tornado_Siren_II-Delilah-747233690_78.wav\n",
      "data\\clean_testset\\Train Whistle-SoundBible.com-458982136_2.wav\n",
      "# Engine idling: 3 samples\n",
      "data\\clean_testset\\Police Siren-SoundBible.com-1078645668_4.wav\n",
      "data\\clean_testset\\Tornado_Siren_II-Delilah-747233690_18.wav\n",
      "data\\clean_testset\\Tornado_Siren_II-Delilah-747233690_32.wav\n",
      "# Gun shot: 3 samples\n",
      "data\\clean_testset\\Tornado_Siren_II-Delilah-747233690_9.wav\n",
      "data\\clean_testset\\Tornado_Siren_II-Delilah-747233690_26.wav\n",
      "data\\clean_testset\\Tornado_Siren_II-Delilah-747233690_50.wav\n",
      "# Jackhammer: 53 samples\n",
      "data\\clean_testset\\Ambulance-SoundBible.com-1013640058_2.wav\n",
      "data\\clean_testset\\Asian Air Raid Siren-SoundBible.com-775018684_2.wav\n",
      "data\\clean_testset\\Asian Air Raid Siren-SoundBible.com-775018684_4.wav\n",
      "data\\clean_testset\\Asian Air Raid Siren-SoundBible.com-775018684_6.wav\n",
      "data\\clean_testset\\Asian Air Raid Siren-SoundBible.com-775018684_8.wav\n",
      "data\\clean_testset\\BOMB_SIREN-BOMB_SIREN-247265934_1.wav\n",
      "data\\clean_testset\\BOMB_SIREN-BOMB_SIREN-247265934_2.wav\n",
      "data\\clean_testset\\BOMB_SIREN-BOMB_SIREN-247265934_4.wav\n",
      "data\\clean_testset\\City Ambiance-SoundBible.com-1513196434_5.wav\n",
      "data\\clean_testset\\City Ambiance-SoundBible.com-1513196434_6.wav\n",
      "data\\clean_testset\\Cop Car Siren-SoundBible.com-1231381021_2.wav\n",
      "data\\clean_testset\\Fire Truck Siren-SoundBible.com-642727443_1.wav\n",
      "data\\clean_testset\\Fire Truck Siren-SoundBible.com-642727443_3.wav\n",
      "data\\clean_testset\\Fire Truck Siren-SoundBible.com-642727443_4.wav\n",
      "data\\clean_testset\\Fire Trucks Sirens 2-SoundBible.com-19361847_4.wav\n",
      "data\\clean_testset\\Police Siren 3-SoundBible.com-553177907_1.wav\n",
      "data\\clean_testset\\Police Siren 3-SoundBible.com-553177907_4.wav\n",
      "data\\clean_testset\\Police Siren 3-SoundBible.com-553177907_5.wav\n",
      "data\\clean_testset\\Police Siren 3-SoundBible.com-553177907_7.wav\n",
      "data\\clean_testset\\Police Siren 3-SoundBible.com-553177907_8.wav\n",
      "data\\clean_testset\\Police-TheCristi95-214716303_3.wav\n",
      "data\\clean_testset\\Police-TheCristi95-214716303_4.wav\n",
      "data\\clean_testset\\Police-TheCristi95-214716303_5.wav\n",
      "data\\clean_testset\\Police-TheCristi95-214716303_7.wav\n",
      "data\\clean_testset\\Police-TheCristi95-214716303_8.wav\n",
      "data\\clean_testset\\Police-TheCristi95-214716303_11.wav\n",
      "data\\clean_testset\\Police-TheCristi95-214716303_12.wav\n",
      "data\\clean_testset\\Sunday Church Ambiance-SoundBible.com-974744686_2.wav\n",
      "data\\clean_testset\\Sunday Church Ambiance-SoundBible.com-974744686_6.wav\n",
      "data\\clean_testset\\Tornado Siren-SoundBible.com-897026957_1.wav\n",
      "data\\clean_testset\\Tornado Siren-SoundBible.com-897026957_7.wav\n",
      "data\\clean_testset\\Tornado_Siren_II-Delilah-747233690_1.wav\n",
      "data\\clean_testset\\Tornado_Siren_II-Delilah-747233690_5.wav\n",
      "data\\clean_testset\\Tornado_Siren_II-Delilah-747233690_16.wav\n",
      "data\\clean_testset\\Tornado_Siren_II-Delilah-747233690_17.wav\n",
      "data\\clean_testset\\Tornado_Siren_II-Delilah-747233690_24.wav\n",
      "data\\clean_testset\\Tornado_Siren_II-Delilah-747233690_28.wav\n",
      "data\\clean_testset\\Tornado_Siren_II-Delilah-747233690_33.wav\n",
      "data\\clean_testset\\Tornado_Siren_II-Delilah-747233690_36.wav\n",
      "data\\clean_testset\\Tornado_Siren_II-Delilah-747233690_38.wav\n",
      "data\\clean_testset\\Tornado_Siren_II-Delilah-747233690_42.wav\n",
      "data\\clean_testset\\Tornado_Siren_II-Delilah-747233690_44.wav\n",
      "data\\clean_testset\\Tornado_Siren_II-Delilah-747233690_51.wav\n",
      "data\\clean_testset\\Tornado_Siren_II-Delilah-747233690_54.wav\n",
      "data\\clean_testset\\Tornado_Siren_II-Delilah-747233690_55.wav\n",
      "data\\clean_testset\\Tornado_Siren_II-Delilah-747233690_56.wav\n",
      "data\\clean_testset\\Tornado_Siren_II-Delilah-747233690_58.wav\n",
      "data\\clean_testset\\Tornado_Siren_II-Delilah-747233690_59.wav\n",
      "data\\clean_testset\\Tornado_Siren_II-Delilah-747233690_60.wav\n",
      "data\\clean_testset\\Tornado_Siren_II-Delilah-747233690_73.wav\n",
      "data\\clean_testset\\Tornado_Siren_II-Delilah-747233690_76.wav\n",
      "data\\clean_testset\\Train Whistle-SoundBible.com-458982136_1.wav\n",
      "data\\clean_testset\\Warning Siren-SoundBible.com-898272278_1.wav\n",
      "# Street music: 4 samples\n",
      "data\\clean_testset\\Police Siren-SoundBible.com-1078645668_3.wav\n",
      "data\\clean_testset\\Siren_Noise-KevanGC-1337458893_2.wav\n",
      "data\\clean_testset\\Tornado_Siren_II-Delilah-747233690_35.wav\n",
      "data\\clean_testset\\Tornado_Siren_II-Delilah-747233690_47.wav\n",
      "************************************************\n",
      " Class Street music is mistaken with: \n",
      "# Children playing: 1 samples\n",
      "data\\clean_testset\\Hare_Crishna_Street_Chanting-Stephan_Schutze-659349468_2.wav\n",
      "# Drilling: 4 samples\n",
      "data\\clean_testset\\Hare_Crishna_Street_Chanting-Stephan_Schutze-659349468_4.wav\n",
      "data\\clean_testset\\Hare_Crishna_Street_Chanting-Stephan_Schutze-659349468_5.wav\n",
      "data\\clean_testset\\Hare_Crishna_Street_Chanting-Stephan_Schutze-659349468_6.wav\n",
      "data\\clean_testset\\Hare_Crishna_Street_Chanting-Stephan_Schutze-659349468_7.wav\n",
      "# Jackhammer: 2 samples\n",
      "data\\clean_testset\\Hare_Crishna_Street_Chanting-Stephan_Schutze-659349468_1.wav\n",
      "data\\clean_testset\\Hare_Crishna_Street_Chanting-Stephan_Schutze-659349468_3.wav\n",
      "************************************************\n"
     ]
    }
   ],
   "source": [
    "for ID, name in classID.items():\n",
    "    x = y_pred[(y_true == ID)*(y_pred != ID)]\n",
    "    names = test_file_names[(y_true == ID)*(y_pred != ID)][:,0]\n",
    "    \n",
    "    unique_class, unique_count = np.unique(x, return_counts=True)\n",
    "    print \"************************************************\"\n",
    "    print \" Class {0} is mistaken with: \".format(name)\n",
    "    for c, y in zip(unique_class, unique_count):        \n",
    "        print \"# {0}: {1} samples\".format(classID[c], y)\n",
    "        for name in names[x == c]:\n",
    "            #true_name = name.split(\"/\")[2]\n",
    "            print name\n",
    "            #print \"--- {0}\".format(true_name)\n",
    "print \"************************************************\""
   ]
  },
  {
   "cell_type": "code",
   "execution_count": 50,
   "metadata": {
    "collapsed": false
   },
   "outputs": [
    {
     "data": {
      "text/plain": [
       "array([['test_sound/Background Noise-SoundBible.com-190168996.wav'],\n",
       "       ['test_sound/Turn On Air Conditioning-SoundBible.com-472411363.wav']], dtype=object)"
      ]
     },
     "execution_count": 50,
     "metadata": {},
     "output_type": "execute_result"
    }
   ],
   "source": [
    "test_file_names[(y_true == ID)*(y_pred != ID)]"
   ]
  },
  {
   "cell_type": "code",
   "execution_count": 65,
   "metadata": {
    "collapsed": false
   },
   "outputs": [
    {
     "data": {
      "text/plain": [
       "(2, 1)"
      ]
     },
     "execution_count": 65,
     "metadata": {},
     "output_type": "execute_result"
    }
   ],
   "source": [
    "np.shape(test_file_names[(y_true == ID)*(y_pred != ID)])"
   ]
  },
  {
   "cell_type": "code",
   "execution_count": 66,
   "metadata": {
    "collapsed": false
   },
   "outputs": [
    {
     "data": {
      "text/plain": [
       "array(['test_sound/Background Noise-SoundBible.com-190168996.wav',\n",
       "       'test_sound/Turn On Air Conditioning-SoundBible.com-472411363.wav'], dtype=object)"
      ]
     },
     "execution_count": 66,
     "metadata": {},
     "output_type": "execute_result"
    }
   ],
   "source": [
    "test_file_names[(y_true == ID)*(y_pred != ID)][:,0]"
   ]
  },
  {
   "cell_type": "code",
   "execution_count": null,
   "metadata": {
    "collapsed": true
   },
   "outputs": [],
   "source": []
  }
 ],
 "metadata": {
  "anaconda-cloud": {},
  "kernelspec": {
   "display_name": "Python [conda root]",
   "language": "python",
   "name": "conda-root-py"
  },
  "language_info": {
   "codemirror_mode": {
    "name": "ipython",
    "version": 2
   },
   "file_extension": ".py",
   "mimetype": "text/x-python",
   "name": "python",
   "nbconvert_exporter": "python",
   "pygments_lexer": "ipython2",
   "version": "2.7.12"
  }
 },
 "nbformat": 4,
 "nbformat_minor": 1
}
