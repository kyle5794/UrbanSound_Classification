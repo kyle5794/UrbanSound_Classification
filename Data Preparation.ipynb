{
 "cells": [
  {
   "cell_type": "code",
   "execution_count": 1,
   "metadata": {
    "collapsed": false
   },
   "outputs": [],
   "source": [
    "import glob\n",
    "import os\n",
    "import librosa\n",
    "import cPickle as pickle\n",
    "import matplotlib.pyplot as plt\n",
    "import tensorflow as tf\n",
    "import numpy as np\n",
    "from matplotlib.pyplot import specgram\n",
    "import time\n",
    "from sklearn.cross_validation import train_test_split\n",
    "%matplotlib inline\n",
    "plt.style.use('ggplot')\n",
    "\n",
    "plt.rcParams['font.family'] = 'serif'\n",
    "plt.rcParams['font.serif'] = 'Ubuntu'\n",
    "plt.rcParams['font.monospace'] = 'Ubuntu Mono'\n",
    "plt.rcParams['font.size'] = 12\n",
    "plt.rcParams['axes.labelsize'] = 11\n",
    "plt.rcParams['axes.labelweight'] = 'bold'\n",
    "plt.rcParams['axes.titlesize'] = 12\n",
    "plt.rcParams['xtick.labelsize'] = 9\n",
    "plt.rcParams['ytick.labelsize'] = 9\n",
    "plt.rcParams['legend.fontsize'] = 11\n",
    "plt.rcParams['figure.titlesize'] = 13"
   ]
  },
  {
   "cell_type": "markdown",
   "metadata": {},
   "source": [
    "## 1.1 Load audio data"
   ]
  },
  {
   "cell_type": "code",
   "execution_count": 2,
   "metadata": {
    "collapsed": false
   },
   "outputs": [],
   "source": [
    "# ------------\n",
    "# DONE RUNNING\n",
    "# ------------\n",
    "\n",
    "SAMPLING_RATE = 44100\n",
    "\n",
    "def load_sounds(parent_dir,sub_dirs,file_ext=\"wav\", split=True):\n",
    "    print \"Load raw audio files as numpy array\"\n",
    "    print \"Loading....\"\n",
    "    start_time = time.time()\n",
    "    data = []\n",
    "    for l, sub_dir in enumerate(sub_dirs):\n",
    "        namePath = []\n",
    "        sounds = []\n",
    "        labels = []\n",
    "        path = os.path.join(parent_dir, sub_dir)\n",
    "        folder = os.listdir(path)\n",
    "        for audio in folder:\n",
    "            if(audio.split('.')[-1] == file_ext):\n",
    "                file_path = os.path.join(path, audio)\n",
    "                sound_clip, _ = librosa.load(file_path, sr=SAMPLING_RATE)\n",
    "                sounds.append(sound_clip)\n",
    "                name_list = file_path.split('/')\n",
    "                namePath.append('/'.join(name_list[-2:]))\n",
    "\n",
    "                label = name_list[-1].split('-')[1]\n",
    "                labels.append(label)\n",
    "        sounds = np.array(sounds)\n",
    "        labels = np.array(labels,dtype = np.int)\n",
    "        namePath = np.array(namePath, dtype=np.string_)\n",
    "        data.append({'audio': sounds, 'label': labels, 'file names': namePath})\n",
    "        print (\"{0} is loaded successfully\".format(sub_dir))\n",
    "    return dict(zip(sub_dirs, data))"
   ]
  },
  {
   "cell_type": "code",
   "execution_count": 3,
   "metadata": {
    "collapsed": false
   },
   "outputs": [
    {
     "name": "stdout",
     "output_type": "stream",
     "text": [
      "---Loading Sounds.... ---\n",
      "Load raw audio files as numpy array\n",
      "Loading....\n",
      "fold1 is loaded successfully\n",
      "---Loading time: 170.979458094 seconds ---\n"
     ]
    }
   ],
   "source": [
    "# ------------\n",
    "# DONE RUNNING\n",
    "# ------------\n",
    "\n",
    "# Only for the first time running\n",
    "parent_dir = '../data/UrbanSound8K/audio/original_audio/'\n",
    "# sub_dirs= ['fold1','fold2', 'fold3', 'fold4', 'fold5', 'fold6', 'fold7', 'fold8','fold9', 'fold10']\n",
    "\n",
    "sub_dirs= ['fold1']\n",
    "print \"---Loading Sounds.... ---\"\n",
    "start_time = time.time()\n",
    "data = load_sounds(parent_dir,sub_dirs)\n",
    "print \"---Loading time: {0} seconds ---\".format(time.time() - start_time)"
   ]
  },
  {
   "cell_type": "code",
   "execution_count": 3,
   "metadata": {
    "collapsed": false
   },
   "outputs": [
    {
     "name": "stdout",
     "output_type": "stream",
     "text": [
      "---Loading Sounds.... ---\n",
      "Load raw audio files as numpy array\n",
      "Loading....\n",
      "fold1 is loaded successfully\n",
      "fold2 is loaded successfully\n",
      "fold3 is loaded successfully\n",
      "fold4 is loaded successfully\n",
      "fold5 is loaded successfully\n",
      "fold6 is loaded successfully\n",
      "fold7 is loaded successfully\n",
      "fold8 is loaded successfully\n",
      "fold9 is loaded successfully\n",
      "fold10 is loaded successfully\n",
      "---Loading time: 1450.36918497 seconds ---\n"
     ]
    }
   ],
   "source": [
    "# ------------\n",
    "# DONE RUNNING\n",
    "# ------------\n",
    "\n",
    "# Only for the first time running\n",
    "parent_dir = '../data/UrbanSound8K/audio/original_audio/'\n",
    "sub_dirs= ['fold1','fold2', 'fold3', 'fold4', 'fold5', 'fold6', 'fold7', 'fold8','fold9', 'fold10']\n",
    "\n",
    "# sub_dirs= ['fold1', 'fold2']\n",
    "print \"---Loading Sounds.... ---\"\n",
    "start_time = time.time()\n",
    "data = load_sounds(parent_dir,sub_dirs)\n",
    "print \"---Loading time: {0} seconds ---\".format(time.time() - start_time)"
   ]
  },
  {
   "cell_type": "code",
   "execution_count": 18,
   "metadata": {
    "collapsed": false
   },
   "outputs": [
    {
     "name": "stdout",
     "output_type": "stream",
     "text": [
      "fold1/155202-9-0-42.wav\n",
      "9\n",
      "[ True  True  True ...,  True  True  True]\n"
     ]
    }
   ],
   "source": [
    "with open(\"full_fold_data.pickle\", 'wb') as f:\n",
    "    pickle.dump(data, f, protocol=pickle.HIGHEST_PROTOCOL)"
   ]
  },
  {
   "cell_type": "markdown",
   "metadata": {},
   "source": [
    "## 1.6 Load Manually prepared test set"
   ]
  },
  {
   "cell_type": "code",
   "execution_count": 8,
   "metadata": {
    "collapsed": false
   },
   "outputs": [
    {
     "name": "stdout",
     "output_type": "stream",
     "text": [
      "Load raw audio files as numpy array\n",
      "Loading....\n",
      "youtube_test_set is loaded successfully\n"
     ]
    }
   ],
   "source": [
    "parent_dir = '../data'\n",
    "utube_test_set = load_sounds(parent_dir=parent_dir, sub_dirs=['youtube_test_set'])"
   ]
  },
  {
   "cell_type": "code",
   "execution_count": 9,
   "metadata": {
    "collapsed": false
   },
   "outputs": [],
   "source": [
    "# import cPickle as pickle\n",
    "# with open(\"utube_test_set.pickle\", 'wb') as f:\n",
    "#     pickle.dump(utube_test_set, f, protocol=pickle.HIGHEST_PROTOCOL)"
   ]
  },
  {
   "cell_type": "code",
   "execution_count": 11,
   "metadata": {
    "collapsed": false
   },
   "outputs": [
    {
     "name": "stdout",
     "output_type": "stream",
     "text": [
      "44100\n"
     ]
    }
   ],
   "source": [
    "x, sr = librosa.load('../data/youtube_test_set/carhorn_14-1-.wav', sr=None)\n",
    "print sr"
   ]
  },
  {
   "cell_type": "markdown",
   "metadata": {},
   "source": [
    "## 2. Data Augmentation"
   ]
  },
  {
   "cell_type": "code",
   "execution_count": 2,
   "metadata": {
    "collapsed": false
   },
   "outputs": [],
   "source": [
    "with open(\"full_fold_data_44100hz.pickle\", \"rb\") as f:\n",
    "    dataset = pickle.load(f)"
   ]
  },
  {
   "cell_type": "code",
   "execution_count": 3,
   "metadata": {
    "collapsed": false
   },
   "outputs": [
    {
     "data": {
      "text/plain": [
       "(873,)"
      ]
     },
     "execution_count": 3,
     "metadata": {},
     "output_type": "execute_result"
    }
   ],
   "source": [
    "dataset['fold1']['audio'].shape"
   ]
  },
  {
   "cell_type": "code",
   "execution_count": 4,
   "metadata": {
    "collapsed": true
   },
   "outputs": [],
   "source": [
    "sub_dirs= ['fold1','fold2', 'fold3', 'fold4', 'fold5', 'fold6', 'fold7', 'fold8','fold9', 'fold10']"
   ]
  },
  {
   "cell_type": "code",
   "execution_count": 5,
   "metadata": {
    "collapsed": true
   },
   "outputs": [],
   "source": [
    "def stretch_time(audio_data, time_stretch_factors):\n",
    "    n_samples = audio_data['audio'].shape[0]\n",
    "    audio = [0]*n_samples*len(time_stretch_factors)\n",
    "    labels = [0]*n_samples*len(time_stretch_factors)\n",
    "    names = [0]*n_samples*len(time_stretch_factors)\n",
    "    i = 0\n",
    "    for factor in time_stretch_factors:\n",
    "        for idx in range(n_samples):\n",
    "            audio[i] = librosa.effects.time_stretch(audio_data['audio'][idx], factor)\n",
    "            names[i] = audio_data['file names'][idx]\n",
    "            labels[i] = audio_data['label'][idx]\n",
    "            i += 1\n",
    "    audio = np.array(audio)\n",
    "    labels = np.array(labels,dtype = np.int)\n",
    "    names = np.array(names, dtype=np.string_)\n",
    "    return {'audio': audio, 'label': labels, 'file names': names}\n",
    "\n",
    "def pitch_shift(audio_data, pitch_shift_values):\n",
    "    n_samples = audio_data['audio'].shape[0]\n",
    "    audio = [0]*n_samples*len(pitch_shift_values)\n",
    "    labels = [0]*n_samples*len(pitch_shift_values)\n",
    "    names = [0]*n_samples*len(pitch_shift_values)\n",
    "    i = 0\n",
    "    for val in pitch_shift_values:\n",
    "        for idx in range(n_samples):\n",
    "            audio[i] = librosa.effects.pitch_shift(y=audio_data['audio'][idx],\n",
    "                                                                          sr=44100, \n",
    "                                                                          n_steps=val)\n",
    "            names[i] = audio_data['file names'][idx]\n",
    "            labels[i] = audio_data['label'][idx]\n",
    "            i += 1\n",
    "    audio = np.array(audio)\n",
    "    labels = np.array(labels,dtype = np.int)\n",
    "    names = np.array(names, dtype=np.string_)\n",
    "    return {'audio': audio, 'label': labels, 'file names': names}\n",
    "\n",
    "def augmentate_data(audio_data, folders, time_stretch_factors, pitch_shift_values):\n",
    "    start_time = time.time()\n",
    "    for folder in folders:\n",
    "        print (\"Augmenting {0}......\".format(folder))\n",
    "        time_stretching_data = stretch_time(audio_data[folder], time_stretch_factors)\n",
    "        pitch_shifting_data = pitch_shift(audio_data[folder], pitch_shift_values)\n",
    "        data = {\"time\": time_stretching_data, \"pitch\": pitch_shifting_data}\n",
    "        saved_file = \"augmented_audio/\" + folder + \"_augmented_data.pickle\"\n",
    "        with open(saved_file, 'wb') as f:\n",
    "            pickle.dump(data, f, protocol=pickle.HIGHEST_PROTOCOL)\n",
    "        print (\"--- Save {0} augmented data successfully\".format(folder))\n",
    "        print (\"--- Elapsed time: {0} seconds ---\".format(time.time() - start_time))\n",
    "    print (\"Total running time: {0} seconds\".format(time.time() - start_time))"
   ]
  },
  {
   "cell_type": "code",
   "execution_count": 6,
   "metadata": {
    "collapsed": false
   },
   "outputs": [
    {
     "name": "stdout",
     "output_type": "stream",
     "text": [
      "Augmenting fold1......\n",
      "--- Save fold1 augmented data successfully\n",
      "--- Elapsed time: 1764.41101599 seconds ---\n",
      "Augmenting fold2......\n",
      "--- Save fold2 augmented data successfully\n",
      "--- Elapsed time: 3540.72552204 seconds ---\n",
      "Augmenting fold3......\n",
      "--- Save fold3 augmented data successfully\n",
      "--- Elapsed time: 5440.17721415 seconds ---\n",
      "Augmenting fold4......\n",
      "--- Save fold4 augmented data successfully\n",
      "--- Elapsed time: 7420.86635208 seconds ---\n",
      "Augmenting fold5......\n",
      "--- Save fold5 augmented data successfully\n",
      "--- Elapsed time: 9309.1092782 seconds ---\n",
      "Augmenting fold6......\n",
      "--- Save fold6 augmented data successfully\n",
      "--- Elapsed time: 10984.2175982 seconds ---\n",
      "Augmenting fold7......\n",
      "--- Save fold7 augmented data successfully\n",
      "--- Elapsed time: 12691.8318851 seconds ---\n",
      "Augmenting fold8......\n",
      "--- Save fold8 augmented data successfully\n",
      "--- Elapsed time: 14289.4338422 seconds ---\n",
      "Augmenting fold9......\n",
      "--- Save fold9 augmented data successfully\n",
      "--- Elapsed time: 15931.949013 seconds ---\n",
      "Augmenting fold10......\n",
      "--- Save fold10 augmented data successfully\n",
      "--- Elapsed time: 17615.966316 seconds ---\n",
      "Total running time: 17615.966367 seconds\n"
     ]
    }
   ],
   "source": [
    "time_stretch_factors = [0.81, 0.93, 1.07, 1.23]\n",
    "pitch_shift_values = [-3.5, -2.5, -2, -1, 1, 2, 2.5, 3.5]\n",
    "folders= ['fold1','fold2', 'fold3', 'fold4', 'fold5', 'fold6', 'fold7', 'fold8','fold9', 'fold10']\n",
    "augmentate_data(dataset, folders, time_stretch_factors, pitch_shift_values)"
   ]
  },
  {
   "cell_type": "code",
   "execution_count": 7,
   "metadata": {
    "collapsed": false
   },
   "outputs": [],
   "source": [
    "with open(\"augmented_audio/fold1_augmented_data.pickle\", \"rb\") as f:\n",
    "    dataset = pickle.load(f)\n"
   ]
  },
  {
   "cell_type": "code",
   "execution_count": 8,
   "metadata": {
    "collapsed": false
   },
   "outputs": [
    {
     "data": {
      "text/plain": [
       "(3492,)"
      ]
     },
     "execution_count": 8,
     "metadata": {},
     "output_type": "execute_result"
    }
   ],
   "source": [
    "dataset['time']['audio'].shape"
   ]
  },
  {
   "cell_type": "code",
   "execution_count": 9,
   "metadata": {
    "collapsed": false
   },
   "outputs": [
    {
     "data": {
      "text/plain": [
       "(3492,)"
      ]
     },
     "execution_count": 9,
     "metadata": {},
     "output_type": "execute_result"
    }
   ],
   "source": [
    "dataset['time']['file names'].shape"
   ]
  },
  {
   "cell_type": "code",
   "execution_count": 10,
   "metadata": {
    "collapsed": false
   },
   "outputs": [
    {
     "data": {
      "text/plain": [
       "array(['fold1/180937-7-3-11.wav', 'fold1/193394-3-0-4.wav',\n",
       "       'fold1/180937-7-1-3.wav', ..., 'fold1/78360-4-0-0.wav',\n",
       "       'fold1/108041-9-0-11.wav', 'fold1/101415-3-0-2.wav'], \n",
       "      dtype='|S24')"
      ]
     },
     "execution_count": 10,
     "metadata": {},
     "output_type": "execute_result"
    }
   ],
   "source": [
    "dataset['time']['file names']"
   ]
  },
  {
   "cell_type": "code",
   "execution_count": 11,
   "metadata": {
    "collapsed": false
   },
   "outputs": [
    {
     "data": {
      "text/plain": [
       "(3492,)"
      ]
     },
     "execution_count": 11,
     "metadata": {},
     "output_type": "execute_result"
    }
   ],
   "source": [
    "dataset['time']['label'].shape"
   ]
  },
  {
   "cell_type": "code",
   "execution_count": 12,
   "metadata": {
    "collapsed": false
   },
   "outputs": [
    {
     "data": {
      "text/plain": [
       "array([7, 3, 7, ..., 4, 9, 3])"
      ]
     },
     "execution_count": 12,
     "metadata": {},
     "output_type": "execute_result"
    }
   ],
   "source": [
    "dataset['time']['label']"
   ]
  },
  {
   "cell_type": "code",
   "execution_count": null,
   "metadata": {
    "collapsed": true
   },
   "outputs": [],
   "source": []
  }
 ],
 "metadata": {
  "anaconda-cloud": {},
  "kernelspec": {
   "display_name": "Python [conda root]",
   "language": "python",
   "name": "conda-root-py"
  },
  "language_info": {
   "codemirror_mode": {
    "name": "ipython",
    "version": 2
   },
   "file_extension": ".py",
   "mimetype": "text/x-python",
   "name": "python",
   "nbconvert_exporter": "python",
   "pygments_lexer": "ipython2",
   "version": "2.7.12"
  }
 },
 "nbformat": 4,
 "nbformat_minor": 1
}
