{
 "cells": [
  {
   "cell_type": "code",
   "execution_count": 1,
   "metadata": {
    "collapsed": true
   },
   "outputs": [],
   "source": [
    "import os\n",
    "import time\n",
    "import librosa\n",
    "import numpy as np\n",
    "import tensorflow as tf\n",
    "import cPickle as pickle\n",
    "from datetime import datetime\n",
    "from datetime import timedelta\n",
    "import matplotlib.pyplot as plt\n",
    "from sklearn.metrics import accuracy_score\n",
    "from sklearn.metrics import confusion_matrix\n",
    "from sklearn.metrics import precision_recall_fscore_support\n",
    "\n",
    "\n",
    "%matplotlib inline\n",
    "plt.style.use('ggplot')\n",
    "\n",
    "plt.rcParams['font.family'] = 'serif'\n",
    "plt.rcParams['font.serif'] = 'Ubuntu'\n",
    "plt.rcParams['font.monospace'] = 'Ubuntu Mono'\n",
    "plt.rcParams['font.size'] = 12\n",
    "plt.rcParams['axes.labelsize'] = 11\n",
    "plt.rcParams['axes.labelweight'] = 'bold'\n",
    "plt.rcParams['axes.titlesize'] = 14\n",
    "plt.rcParams['xtick.labelsize'] = 10\n",
    "plt.rcParams['ytick.labelsize'] = 10\n",
    "plt.rcParams['legend.fontsize'] = 11\n",
    "plt.rcParams['figure.titlesize'] = 13"
   ]
  },
  {
   "cell_type": "code",
   "execution_count": 2,
   "metadata": {
    "collapsed": false
   },
   "outputs": [
    {
     "name": "stdout",
     "output_type": "stream",
     "text": [
      "Extracting data/MNIST/train-images-idx3-ubyte.gz\n",
      "Extracting data/MNIST/train-labels-idx1-ubyte.gz\n",
      "Extracting data/MNIST/t10k-images-idx3-ubyte.gz\n",
      "Extracting data/MNIST/t10k-labels-idx1-ubyte.gz\n"
     ]
    }
   ],
   "source": [
    "from tensorflow.examples.tutorials.mnist import input_data\n",
    "data = input_data.read_data_sets('data/MNIST', one_hot = True)"
   ]
  },
  {
   "cell_type": "code",
   "execution_count": 3,
   "metadata": {
    "collapsed": false
   },
   "outputs": [
    {
     "name": "stdout",
     "output_type": "stream",
     "text": [
      "Size of:\n",
      "- Training-set:\t\t55000\n",
      "- Test-set:\t\t10000\n",
      "- Validation-set:\t5000\n"
     ]
    }
   ],
   "source": [
    "print(\"Size of:\")\n",
    "print(\"- Training-set:\\t\\t{}\".format(len(data.train.labels)))\n",
    "print(\"- Test-set:\\t\\t{}\".format(len(data.test.labels)))\n",
    "print(\"- Validation-set:\\t{}\".format(len(data.validation.labels)))"
   ]
  },
  {
   "cell_type": "code",
   "execution_count": 2,
   "metadata": {
    "collapsed": false
   },
   "outputs": [],
   "source": [
    "IMG_SIZE = 128\n",
    "IMG_FLAT_SIZE = IMG_SIZE*IMG_SIZE\n",
    "IMG_SHAPE = (IMG_SIZE, IMG_SIZE)\n",
    "N_LABELS = 2"
   ]
  },
  {
   "cell_type": "code",
   "execution_count": 2,
   "metadata": {
    "collapsed": false
   },
   "outputs": [],
   "source": [
    "pickle_file = \"../../my_features/US8K_logmel128_patchslice.pickle\"\n",
    "with open(pickle_file, \"rb\") as f:\n",
    "    dataset = pickle.load(f)\n",
    "    X_train_all = dataset[\"X_train\"]/10\n",
    "    Y_train_all = dataset[\"Y_train\"]\n",
    "    X_valid_all = dataset[\"X_valid\"]/10\n",
    "    Y_valid_all = dataset[\"Y_valid\"]\n",
    "    X_test1_all = dataset[\"X_test1\"]/10\n",
    "    Y_test1_all = dataset[\"Y_test1\"]\n",
    "    X_test2_all = dataset[\"X_test2\"]/10\n",
    "    Y_test2_all = dataset[\"Y_test2\"]\n",
    "    del dataset\n",
    "# X_train = X_train_all[(np.argmax(Y_train_all, axis=1) == 4)+(np.argmax(Y_train_all, axis=1) == 3)]\n",
    "# Y_train = Y_train_all[(np.argmax(Y_train_all, axis=1) == 4)+(np.argmax(Y_train_all, axis=1) == 3)][:,(4,3)]\n",
    "\n",
    "# X_valid = X_valid_all[(np.argmax(Y_valid_all, axis=1) == 4)+(np.argmax(Y_valid_all, axis=1) == 3)]\n",
    "# Y_valid = Y_valid_all[(np.argmax(Y_valid_all, axis=1) == 4)+(np.argmax(Y_valid_all, axis=1) == 3)][:,(4,3)]\n",
    "\n",
    "# X_test1 = X_test1_all[(np.argmax(Y_test1_all, axis=1) == 4)+(np.argmax(Y_test1_all, axis=1) == 3)]\n",
    "# Y_test1 = Y_test1_all[(np.argmax(Y_test1_all, axis=1) == 4)+(np.argmax(Y_test1_all, axis=1) == 3)][:,(4,3)]\n",
    "\n",
    "# X_test2 = X_test2_all[(np.argmax(Y_test2_all, axis=1) == 4)+(np.argmax(Y_test2_all, axis=1) == 3)]\n",
    "# Y_test2 = Y_test2_all[(np.argmax(Y_test2_all, axis=1) == 4)+(np.argmax(Y_test2_all, axis=1) == 3)][:,(4,3)]\n",
    "\n",
    "X_train = X_train_all\n",
    "Y_train = Y_train_all\n",
    "\n",
    "X_valid = X_valid_all\n",
    "Y_valid = Y_valid_all\n",
    "\n",
    "X_test1 = X_test1_all\n",
    "Y_test1 = Y_test1_all\n",
    "\n",
    "X_test2 = X_test2_all\n",
    "Y_test2 = Y_test2_all\n"
   ]
  },
  {
   "cell_type": "code",
   "execution_count": 3,
   "metadata": {
    "collapsed": false
   },
   "outputs": [
    {
     "name": "stdout",
     "output_type": "stream",
     "text": [
      "[ 2793.   765.  2763.  2027.  2321.  2704.   213.  2625.  2717.  2800.]\n",
      "21728.0\n",
      "(array([0, 1, 2, 3, 4, 5, 6, 7, 8, 9]), array([2793,  765, 2763, 2027, 2321, 2704,  213, 2625, 2717, 2800]))\n",
      "('training data: ', (21728, 16384), (21728, 10))\n",
      "[ 2793.   765.  2763.  2027.  2321.  2704.   213.  2625.  2717.  2800.]\n"
     ]
    }
   ],
   "source": [
    "print np.sum(Y_train_all, axis = 0)\n",
    "print np.sum(Y_train_all)\n",
    "print np.unique(np.argmax(Y_train_all, axis=1), return_counts=True)\n",
    "print ('training data: ' , X_train_all.shape, Y_train_all.shape)\n",
    "\n",
    "print (np.sum(Y_train_all, axis=0))"
   ]
  },
  {
   "cell_type": "code",
   "execution_count": 4,
   "metadata": {
    "collapsed": false
   },
   "outputs": [],
   "source": [
    "IMG_SIZE = 128\n",
    "IMG_FLAT_SIZE = IMG_SIZE*IMG_SIZE\n",
    "IMG_SHAPE = (IMG_SIZE, IMG_SIZE)\n",
    "N_LABELS = Y_train.shape[1]\n",
    "N_CONV_LAYER = 3\n",
    "N_FC_LAYER = 2"
   ]
  },
  {
   "cell_type": "markdown",
   "metadata": {},
   "source": [
    "## 2. CNN"
   ]
  },
  {
   "cell_type": "code",
   "execution_count": null,
   "metadata": {
    "collapsed": true
   },
   "outputs": [],
   "source": []
  },
  {
   "cell_type": "code",
   "execution_count": 5,
   "metadata": {
    "collapsed": true
   },
   "outputs": [],
   "source": [
    "## Helper function\n",
    "\n",
    "## Weight initialization\n",
    "def new_weights(shape):\n",
    "    initial = tf.truncated_normal(shape=shape, stddev=0.1,dtype=tf.float32)\n",
    "    return tf.Variable(initial)\n",
    "## Biases initialization\n",
    "def new_biases(length):\n",
    "    initial = tf.constant(value=1, shape=[length], dtype=tf.float32)\n",
    "    return tf.Variable(initial)\n",
    "\n",
    "## Fully connected layer\n",
    "def new_layer(in_layer, n_in_features, n_out_features, relu=True):\n",
    "    weights = new_weights([n_in_features, n_out_features])\n",
    "    biases = new_biases(n_out_features)\n",
    "    out_layer = tf.matmul(in_layer, weights) + biases\n",
    "    if relu:\n",
    "        out_layer = tf.nn.relu(out_layer)\n",
    "    return out_layer, weights    "
   ]
  },
  {
   "cell_type": "code",
   "execution_count": 6,
   "metadata": {
    "collapsed": true
   },
   "outputs": [],
   "source": [
    "#Helper function creates conv layer\n",
    "def new_conv_layer(in_layer, filter_size, in_channels, n_filter, pooling=True):\n",
    "    weights = new_weights([filter_size, filter_size, in_channels, n_filter])\n",
    "    biases = new_biases(n_filter)\n",
    "    out_layer = tf.nn.conv2d(in_layer, weights, strides=[1,1,1,1], padding='VALID')\n",
    "    out_layer += biases\n",
    "    if pooling:\n",
    "        out_layer = tf.nn.max_pool(out_layer, ksize=[1,2,2,1], strides=[1,2,2,1], padding='VALID')\n",
    "    out_layer = tf.nn.relu(out_layer)\n",
    "    return out_layer, weights\n",
    "def flatten_layer(in_layer):\n",
    "    shape = in_layer.get_shape()\n",
    "    n_features = shape[1:4].num_elements()\n",
    "    layer_flat = tf.reshape(in_layer, [-1, n_features])\n",
    "    return layer_flat, n_features\n",
    "\n",
    "    "
   ]
  },
  {
   "cell_type": "code",
   "execution_count": 7,
   "metadata": {
    "collapsed": false
   },
   "outputs": [
    {
     "name": "stdout",
     "output_type": "stream",
     "text": [
      "Tensor(\"Placeholder:0\", shape=(?, 16384), dtype=float32)\n",
      "Tensor(\"Reshape:0\", shape=(?, 128, 128, 1), dtype=float32)\n"
     ]
    }
   ],
   "source": [
    "X_cnn = tf.placeholder(tf.float32, [None, IMG_FLAT_SIZE])\n",
    "X_cnn_train = tf.reshape(X_cnn, [-1, IMG_SIZE, IMG_SIZE, 1])\n",
    "Y = tf.placeholder(tf.float32, [None, N_LABELS])\n",
    "print X_cnn\n",
    "print X_cnn_train"
   ]
  },
  {
   "cell_type": "code",
   "execution_count": 8,
   "metadata": {
    "collapsed": false
   },
   "outputs": [
    {
     "name": "stdout",
     "output_type": "stream",
     "text": [
      "Tensor(\"Relu:0\", shape=(?, 62, 62, 16), dtype=float32)\n"
     ]
    }
   ],
   "source": [
    "## Conv layer 1\n",
    "filter_size_1 = 5\n",
    "n_filter_1 = 16\n",
    "conv_layer_1, weight_conv_1 = new_conv_layer(X_cnn_train, filter_size_1, 1, n_filter_1)\n",
    "print (conv_layer_1)"
   ]
  },
  {
   "cell_type": "code",
   "execution_count": 9,
   "metadata": {
    "collapsed": false
   },
   "outputs": [
    {
     "name": "stdout",
     "output_type": "stream",
     "text": [
      "Tensor(\"Relu_1:0\", shape=(?, 29, 29, 36), dtype=float32)\n"
     ]
    }
   ],
   "source": [
    "## Conv layer 2\n",
    "filter_size_2 = 5\n",
    "n_filter_2 = 36\n",
    "conv_layer_2, weight_conv_2 = new_conv_layer(conv_layer_1, filter_size_2, n_filter_1, n_filter_2)\n",
    "print (conv_layer_2)"
   ]
  },
  {
   "cell_type": "code",
   "execution_count": 10,
   "metadata": {
    "collapsed": false
   },
   "outputs": [
    {
     "name": "stdout",
     "output_type": "stream",
     "text": [
      "(<tf.Tensor 'Reshape_1:0' shape=(?, 30276) dtype=float32>, 30276)\n"
     ]
    }
   ],
   "source": [
    "## Flatten layer\n",
    "layer_flat, n_features = flatten_layer(conv_layer_2)\n",
    "print (layer_flat, n_features)"
   ]
  },
  {
   "cell_type": "code",
   "execution_count": 11,
   "metadata": {
    "collapsed": false
   },
   "outputs": [
    {
     "name": "stdout",
     "output_type": "stream",
     "text": [
      "Tensor(\"Relu_2:0\", shape=(?, 256), dtype=float32)\n"
     ]
    }
   ],
   "source": [
    "## Fully-connected layer\n",
    "fc_size = 256\n",
    "layer_fc1, weight_fc_1 = new_layer(layer_flat, n_in_features=n_features, n_out_features=fc_size)\n",
    "print (layer_fc1)"
   ]
  },
  {
   "cell_type": "code",
   "execution_count": 12,
   "metadata": {
    "collapsed": false
   },
   "outputs": [
    {
     "name": "stdout",
     "output_type": "stream",
     "text": [
      "Tensor(\"add_3:0\", shape=(?, 10), dtype=float32)\n"
     ]
    }
   ],
   "source": [
    "layer_fc2, weight_fc_2 = new_layer(layer_fc1, n_in_features=fc_size, n_out_features=N_LABELS, relu=False)\n",
    "print (layer_fc2)"
   ]
  },
  {
   "cell_type": "code",
   "execution_count": 13,
   "metadata": {
    "collapsed": false
   },
   "outputs": [
    {
     "name": "stdout",
     "output_type": "stream",
     "text": [
      "Tensor(\"dropout/mul:0\", shape=(?, 10), dtype=float32)\n"
     ]
    }
   ],
   "source": [
    "keep_prob = tf.placeholder(tf.float32)\n",
    "layer_fc2_drop = tf.nn.dropout(layer_fc2, keep_prob=keep_prob)\n",
    "print (layer_fc2_drop)"
   ]
  },
  {
   "cell_type": "code",
   "execution_count": 14,
   "metadata": {
    "collapsed": false
   },
   "outputs": [
    {
     "name": "stdout",
     "output_type": "stream",
     "text": [
      "Tensor(\"Softmax:0\", shape=(?, 10), dtype=float32)\n"
     ]
    }
   ],
   "source": [
    "y_nn_softmax = tf.nn.softmax(layer_fc2_drop)\n",
    "print y_nn_softmax"
   ]
  },
  {
   "cell_type": "code",
   "execution_count": 15,
   "metadata": {
    "collapsed": true
   },
   "outputs": [],
   "source": [
    "LEARNING_RATE = 1e-3\n",
    "\n",
    "cross_entropy = tf.nn.softmax_cross_entropy_with_logits(logits=layer_fc2, labels=Y)\n",
    "cost = tf.reduce_mean(cross_entropy)\n",
    "optimizer = tf.train.AdamOptimizer(learning_rate=LEARNING_RATE).minimize(cost)"
   ]
  },
  {
   "cell_type": "code",
   "execution_count": 16,
   "metadata": {
    "collapsed": true
   },
   "outputs": [],
   "source": [
    "y_true = tf.argmax(Y, dimension=1)\n",
    "y_pred = tf.argmax(y_nn_softmax, dimension=1)"
   ]
  },
  {
   "cell_type": "code",
   "execution_count": 17,
   "metadata": {
    "collapsed": true
   },
   "outputs": [],
   "source": [
    "classID = {\n",
    "    0: \"AirCon\",\n",
    "    1: \"Car horn\",\n",
    "    2: \"Children playing\",\n",
    "    3: \"Dog bark\",\n",
    "    4: \"Drilling\",\n",
    "    5: \"Engine idling\",\n",
    "    6: \"Gun shot\",\n",
    "    7: \"Jackhammer\",\n",
    "    8: \"Siren\",\n",
    "    9: \"Street music\"\n",
    "}\n",
    "\n",
    "BATCH_SIZE = 50\n",
    "TRAINING_EPOCHS = 50\n",
    "\n",
    "## Helper function for optimization\n",
    "def optimize(train_x, train_y, n_epochs, batch_size, session):\n",
    "        n_samples = train_x.shape[0]\n",
    "        sample_IDs = np.arange(n_samples)\n",
    "        n_iterations = np.int(np.floor(n_samples/batch_size))+1\n",
    "        start_time = time.time()\n",
    "        cost_history = np.empty(shape=[1],dtype=float)\n",
    "        print \"Training.......\"\n",
    "        print \"------ Elapsed time ------- Epoch ---- Cost \"\n",
    "\n",
    "        for epoch in np.arange(n_epochs+1):\n",
    "            np.random.shuffle(sample_IDs)\n",
    "            train_x_p, train_y_p = train_x[sample_IDs], train_y[sample_IDs]\n",
    "            for itr in np.arange(n_iterations):\n",
    "                start = (itr * batch_size) % (n_samples - batch_size)\n",
    "                batch_x, batch_y = train_x_p[start:start + batch_size], train_y_p[start:start + batch_size]\n",
    "                feed_dict_train = {X_cnn: batch_x, Y: batch_y, keep_prob: 0.5}\n",
    "                _, c = session.run([optimizer, cost], feed_dict=feed_dict_train)\n",
    "            if(epoch % (n_epochs/10) == 0):\n",
    "                print \"------ {:11.7f} ------- {:5d} ---- {:12.10f} \".format((time.time() - start_time), epoch, c)\n",
    "            cost_history = np.append(cost_history,c)\n",
    "        print (\"---Running time: %s seconds ---\" % (time.time() - start_time))\n",
    "        print ('*'*50)\n",
    "        fig = plt.figure(figsize=(10,5))\n",
    "        plt.plot(cost_history)\n",
    "        plt.axis([0,epoch,0,np.max(cost_history)])\n",
    "        plt.show()\n",
    "\n",
    "def output_log_file(train, valid, test1, test2):\n",
    "    file_name = pickle_file.split('/')[-1].split('.')[0]\n",
    "    with open(\"log/logfile.txt\", \"ab\") as text_file:\n",
    "        text_file.write('='*60)\n",
    "        text_file.write('\\n')\n",
    "        text_file.write(\"Time: {0}\\n\".format(datetime.now()))\n",
    "        text_file.write(\"Data: \" + file_name +\"\\n\")    \n",
    "        \n",
    "        \n",
    "#         text_file.write(\"Number of input samples: {:6d}\\n\".format(N_SA)\n",
    "        text_file.write(\"Number of input features: {:5d}\\n\".format(IMG_FLAT_SIZE))\n",
    "#         text_file.write(\"Number of input labels: {:5d}\\n\".format(N_LABELS)\n",
    "        text_file.write(\"Number of convolutional layer: {0}\\n\".format(N_CONV_LAYER))\n",
    "        text_file.write(\"\\tFilter size:\\t\")\n",
    "        for idx in np.arange(1, N_CONV_LAYER + 1):\n",
    "            text_file.write('{0}\\t'.format(filter_size[idx]))\n",
    "        text_file.write(\"\\n\")\n",
    "        text_file.write(\"\\tNumber of filter:\\t\")\n",
    "        for idx in np.arange(1, N_CONV_LAYER + 1):\n",
    "            text_file.write('{0}\\t'.format(n_filter[idx]))\n",
    "        text_file.write(\"\\n\")\n",
    "        text_file.write(\"Number of fully-connected layer: {0}\\n\".format(N_FC_LAYER))\n",
    "        text_file.write(\"Hidden units: {:3d}  - {:3d}\\n\".format(fc_size, N_LABELS))\n",
    "        text_file.write(\"Training epochs: {:5d}\\n\".format(TRAINING_EPOCHS))\n",
    "        text_file.write(\"Batch size: {:3d}\\n\".format(BATCH_SIZE))\n",
    "                        \n",
    "        text_file.write('\\tTrain\\tValid\\tTest1\\tYoutube\\n')\n",
    "        text_file.write(\"Fscore\\t {:1.2f} \\t {:1.2f} \\t {:1.2f} \\t {:1.2f} \\n\".format(train[0], \n",
    "                                                                                      valid[0], \n",
    "                                                                                      test1[0], \n",
    "                                                                                      test2[0]))\n",
    "        text_file.write(\"Acc\\t {:1.2f} \\t {:1.2f} \\t {:1.2f} \\t {:1.2f} \\n\".format(train[1], \n",
    "                                                                                   valid[1], \n",
    "                                                                                   test1[1], \n",
    "                                                                                   test2[1]))\n",
    "        \n",
    "        \n",
    "\n",
    "## Helper function to print confusion matrix\n",
    "def make_prediction(test_x, test_y, session):\n",
    "    print \"Making prediction.......\"\n",
    "    start_time = time.time()\n",
    "    feed_dict_test = {X_cnn: test_x, Y: test_y, keep_prob: 1}\n",
    "    pred, true = session.run([y_pred, y_true], feed_dict=feed_dict_test)\n",
    "## Performance Evaluation metrics\n",
    "    ## Accuracy\n",
    "    accuracy = accuracy_score(true, pred)\n",
    "    print (\"Accuracy: {:3.2f}\".format(accuracy))\n",
    "    ## F-score\n",
    "    p,r,f,s = precision_recall_fscore_support(true, pred, average='binary')\n",
    "    print (\"F-Score: {:3.2f}\".format(f))\n",
    "    \n",
    "    ## Confusion matrix\n",
    "    print (\"Confusion Matrix\")\n",
    "    print confusion_matrix(true, pred)\n",
    "#     print (\"Analyzing result\")\n",
    "#     for ID, name in classID.items():\n",
    "#         x = pred[(true == ID)*(pred != ID)]  \n",
    "#         unique_class, unique_count = np.unique(x, return_counts=True)\n",
    "#         print ('-'*50)\n",
    "#         print \" Class {0} is mistaken with: \".format(name)\n",
    "#         for c, y in zip(unique_class, unique_count):        \n",
    "#             print \"# {0}: {1} samples\".format(classID[c], y)\n",
    "#     print ('-'*50)\n",
    "    print (\"---Running time: {0} seconds ---\".format((time.time() - start_time)))\n",
    "    print ('*'*50)\n",
    "    return accuracy, f\n",
    "                    "
   ]
  },
  {
   "cell_type": "code",
   "execution_count": null,
   "metadata": {
    "collapsed": false
   },
   "outputs": [
    {
     "name": "stdout",
     "output_type": "stream",
     "text": [
      "Training.......\n",
      "------ Elapsed time ------- Epoch ---- Cost \n",
      "------  228.5281589 -------     0 ---- 0.9863803387 \n",
      "------ 1389.2884700 -------     5 ---- 0.2079866976 \n",
      "------ 2560.5672970 -------    10 ---- 0.0014318270 \n",
      "------ 3738.0351620 -------    15 ---- 0.0047303624 \n",
      "------ 4929.3369489 -------    20 ---- 0.0004247271 \n",
      "------ 6131.0925939 -------    25 ---- 0.0632723868 \n",
      "------ 7343.7591839 -------    30 ---- 0.0979802310 \n",
      "------ 8570.4831541 -------    35 ---- 0.0051601487 \n",
      "------ 9808.1123049 -------    40 ---- 0.0192230139 \n",
      "------ 11056.9721100 -------    45 ---- 0.0006471195 \n",
      "------ 12321.6567850 -------    50 ---- 0.1915142387 \n",
      "---Running time: 12321.656956 seconds ---\n",
      "**************************************************\n"
     ]
    },
    {
     "data": {
      "image/png": "[encoded data removed]",
      "text/plain": [
       "<matplotlib.figure.Figure at 0x7f259ed53e90>"
      ]
     },
     "metadata": {},
     "output_type": "display_data"
    },
    {
     "name": "stdout",
     "output_type": "stream",
     "text": [
      "Making prediction on validation set\n",
      "Making prediction.......\n"
     ]
    }
   ],
   "source": [
    "\n",
    "\n",
    "with tf.Session() as sess:\n",
    "    sess = tf.Session()\n",
    "    sess.run(tf.global_variables_initializer())\n",
    "    optimize(X_train, Y_train, TRAINING_EPOCHS, BATCH_SIZE, sess)\n",
    "    \n",
    "#     print (\"Making prediction on training set\")\n",
    "#     train = make_prediction(X_train, Y_train, sess)\n",
    "    print (\"Making prediction on validation set\")\n",
    "    valid = make_prediction(X_valid, Y_valid, sess)\n",
    "    print (\"Making training prediction on test 1 set\")\n",
    "    test1 = make_prediction(X_test1, Y_test1, sess)\n",
    "    print (\"Making training prediction on test 2 set\")\n",
    "    test2 = make_prediction(X_test2, Y_test2, sess)\n",
    "    \n",
    "\n",
    "    \n",
    "    \n",
    "    "
   ]
  },
  {
   "cell_type": "code",
   "execution_count": 22,
   "metadata": {
    "collapsed": false
   },
   "outputs": [
    {
     "data": {
      "text/plain": [
       "(154, 16384)"
      ]
     },
     "execution_count": 22,
     "metadata": {},
     "output_type": "execute_result"
    }
   ],
   "source": [
    "X_test2.shape"
   ]
  },
  {
   "cell_type": "code",
   "execution_count": null,
   "metadata": {
    "collapsed": true
   },
   "outputs": [],
   "source": []
  }
 ],
 "metadata": {
  "anaconda-cloud": {},
  "kernelspec": {
   "display_name": "Python [conda root]",
   "language": "python",
   "name": "conda-root-py"
  },
  "language_info": {
   "codemirror_mode": {
    "name": "ipython",
    "version": 2
   },
   "file_extension": ".py",
   "mimetype": "text/x-python",
   "name": "python",
   "nbconvert_exporter": "python",
   "pygments_lexer": "ipython2",
   "version": "2.7.12"
  }
 },
 "nbformat": 4,
 "nbformat_minor": 1
}
