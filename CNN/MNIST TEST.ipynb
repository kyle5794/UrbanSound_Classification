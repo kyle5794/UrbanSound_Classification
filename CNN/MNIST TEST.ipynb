{
 "cells": [
  {
   "cell_type": "code",
   "execution_count": 1,
   "metadata": {
    "collapsed": true
   },
   "outputs": [],
   "source": [
    "import os\n",
    "import time\n",
    "import librosa\n",
    "import numpy as np\n",
    "import tensorflow as tf\n",
    "import cPickle as pickle\n",
    "from datetime import datetime\n",
    "from datetime import timedelta\n",
    "import matplotlib.pyplot as plt\n",
    "from sklearn.metrics import accuracy_score\n",
    "from sklearn.metrics import confusion_matrix\n",
    "from sklearn.metrics import precision_recall_fscore_support\n",
    "\n",
    "\n",
    "%matplotlib inline\n",
    "plt.style.use('ggplot')\n",
    "\n",
    "plt.rcParams['font.family'] = 'serif'\n",
    "plt.rcParams['font.serif'] = 'Ubuntu'\n",
    "plt.rcParams['font.monospace'] = 'Ubuntu Mono'\n",
    "plt.rcParams['font.size'] = 12\n",
    "plt.rcParams['axes.labelsize'] = 11\n",
    "plt.rcParams['axes.labelweight'] = 'bold'\n",
    "plt.rcParams['axes.titlesize'] = 14\n",
    "plt.rcParams['xtick.labelsize'] = 10\n",
    "plt.rcParams['ytick.labelsize'] = 10\n",
    "plt.rcParams['legend.fontsize'] = 11\n",
    "plt.rcParams['figure.titlesize'] = 13"
   ]
  },
  {
   "cell_type": "code",
   "execution_count": 2,
   "metadata": {
    "collapsed": false
   },
   "outputs": [],
   "source": [
    "pickle_file = \"../../my_features/US8K_logmel128_patchslice.pickle\"\n",
    "with open(pickle_file, \"rb\") as f:\n",
    "    dataset = pickle.load(f)\n",
    "    X_train_all = dataset[\"X_train\"]/10\n",
    "    Y_train_all = dataset[\"Y_train\"]\n",
    "    X_valid_all = dataset[\"X_valid\"]/10\n",
    "    Y_valid_all = dataset[\"Y_valid\"]\n",
    "    X_test1_all = dataset[\"X_test1\"]/10\n",
    "    Y_test1_all = dataset[\"Y_test1\"]\n",
    "    X_test2_all = dataset[\"X_test2\"]/10\n",
    "    Y_test2_all = dataset[\"Y_test2\"]\n",
    "    del dataset\n",
    "# X_train = X_train_all[(np.argmax(Y_train_all, axis=1) == 4)+(np.argmax(Y_train_all, axis=1) == 3)]\n",
    "# Y_train = Y_train_all[(np.argmax(Y_train_all, axis=1) == 4)+(np.argmax(Y_train_all, axis=1) == 3)][:,(4,3)]\n",
    "\n",
    "# X_valid = X_valid_all[(np.argmax(Y_valid_all, axis=1) == 4)+(np.argmax(Y_valid_all, axis=1) == 3)]\n",
    "# Y_valid = Y_valid_all[(np.argmax(Y_valid_all, axis=1) == 4)+(np.argmax(Y_valid_all, axis=1) == 3)][:,(4,3)]\n",
    "\n",
    "# X_test1 = X_test1_all[(np.argmax(Y_test1_all, axis=1) == 4)+(np.argmax(Y_test1_all, axis=1) == 3)]\n",
    "# Y_test1 = Y_test1_all[(np.argmax(Y_test1_all, axis=1) == 4)+(np.argmax(Y_test1_all, axis=1) == 3)][:,(4,3)]\n",
    "\n",
    "# X_test2 = X_test2_all[(np.argmax(Y_test2_all, axis=1) == 4)+(np.argmax(Y_test2_all, axis=1) == 3)]\n",
    "# Y_test2 = Y_test2_all[(np.argmax(Y_test2_all, axis=1) == 4)+(np.argmax(Y_test2_all, axis=1) == 3)][:,(4,3)]\n",
    "\n",
    "X_train = X_train_all\n",
    "Y_train = Y_train_all\n",
    "\n",
    "X_valid = X_valid_all\n",
    "Y_valid = Y_valid_all\n",
    "\n",
    "X_test1 = X_test1_all\n",
    "Y_test1 = Y_test1_all\n",
    "\n",
    "X_test2 = X_test2_all\n",
    "Y_test2 = Y_test2_all\n"
   ]
  },
  {
   "cell_type": "code",
   "execution_count": 3,
   "metadata": {
    "collapsed": false
   },
   "outputs": [
    {
     "name": "stdout",
     "output_type": "stream",
     "text": [
      "[ 2793.   765.  2763.  2027.  2321.  2704.   213.  2625.  2717.  2800.]\n",
      "21728.0\n",
      "(array([0, 1, 2, 3, 4, 5, 6, 7, 8, 9]), array([2793,  765, 2763, 2027, 2321, 2704,  213, 2625, 2717, 2800]))\n",
      "('training data: ', (21728, 16384), (21728, 10))\n",
      "[ 2793.   765.  2763.  2027.  2321.  2704.   213.  2625.  2717.  2800.]\n"
     ]
    }
   ],
   "source": [
    "print np.sum(Y_train_all, axis = 0)\n",
    "print np.sum(Y_train_all)\n",
    "print np.unique(np.argmax(Y_train_all, axis=1), return_counts=True)\n",
    "print ('training data: ' , X_train_all.shape, Y_train_all.shape)\n",
    "\n",
    "print (np.sum(Y_train_all, axis=0))"
   ]
  },
  {
   "cell_type": "code",
   "execution_count": 4,
   "metadata": {
    "collapsed": false
   },
   "outputs": [],
   "source": [
    "IMG_SIZE = 128\n",
    "IMG_FLAT_SIZE = IMG_SIZE*IMG_SIZE\n",
    "IMG_SHAPE = (IMG_SIZE, IMG_SIZE)\n",
    "N_LABELS = Y_train.shape[1]\n",
    "N_CONV_LAYER = 3\n",
    "N_FC_LAYER = 2"
   ]
  },
  {
   "cell_type": "code",
   "execution_count": 5,
   "metadata": {
    "collapsed": false
   },
   "outputs": [
    {
     "data": {
      "text/plain": [
       "10"
      ]
     },
     "execution_count": 5,
     "metadata": {},
     "output_type": "execute_result"
    }
   ],
   "source": [
    "N_LABELS"
   ]
  },
  {
   "cell_type": "markdown",
   "metadata": {},
   "source": [
    "## 2. CNN"
   ]
  },
  {
   "cell_type": "code",
   "execution_count": null,
   "metadata": {
    "collapsed": true
   },
   "outputs": [],
   "source": []
  },
  {
   "cell_type": "code",
   "execution_count": 6,
   "metadata": {
    "collapsed": true
   },
   "outputs": [],
   "source": [
    "## Helper function\n",
    "\n",
    "## Weight initialization\n",
    "def new_weights(shape, stddev):\n",
    "    initial = tf.truncated_normal(shape=shape, stddev=stddev,dtype=tf.float32)\n",
    "    return tf.Variable(initial)\n",
    "## Biases initialization\n",
    "def new_biases(length):\n",
    "    initial = tf.constant(value=1, shape=[length], dtype=tf.float32)\n",
    "    return tf.Variable(initial)\n",
    "\n",
    "def get_layer_shape(in_layer):\n",
    "    shape = in_layer.get_shape()\n",
    "#     n_features = shape[1:4].num_elements()\n",
    "    return np.array([shape[1:2].num_elements(), shape[2:3].num_elements(), shape[3:4].num_elements()])\n",
    "\n",
    "## Fully connected layer\n",
    "def new_layer(in_layer, n_in_features, n_out_features, relu=True):\n",
    "    stddev = np.sqrt(np.float(2)/(n_in_features + n_out_features))\n",
    "    weights = new_weights([n_in_features, n_out_features], 0.1)\n",
    "    biases = new_biases(n_out_features)\n",
    "    out_layer = tf.matmul(in_layer, weights) + biases\n",
    "    if relu:\n",
    "        out_layer = tf.nn.relu(out_layer)\n",
    "    return out_layer, weights    \n",
    "\n",
    "#Helper function creates conv layer\n",
    "def new_conv_layer(in_layer, filter_size, in_channels, n_filter, pooling=True):\n",
    "    \n",
    "    in_layer_shape = get_layer_shape(in_layer)\n",
    "    in_features = np.prod(in_layer_shape[0:2])\n",
    "    if(pooling):\n",
    "        out_features = (in_layer_shape[0] - filter_size + 1)*(in_layer_shape[1] - filter_size + 1)/4\n",
    "                                    \n",
    "    else:\n",
    "        out_features = (in_layer_shape[0] - filter_size + 1)*(in_layer_shape[1] - filter_size + 1)\n",
    "        \n",
    "#     print in_features, out_features\n",
    "    stddev = np.sqrt(np.float(2)/(in_features+out_features))\n",
    "    weights = new_weights([filter_size, filter_size, in_channels, n_filter], 0.1)\n",
    "    biases = new_biases(n_filter)\n",
    "    out_layer = tf.nn.conv2d(in_layer, weights, strides=[1,1,1,1], padding='VALID')\n",
    "    out_layer += biases\n",
    "    if pooling:\n",
    "        out_layer = tf.nn.max_pool(out_layer, ksize=[1,2,2,1], strides=[1,2,2,1], padding='VALID')\n",
    "    out_layer = tf.nn.relu(out_layer)\n",
    "    return out_layer, weights\n",
    "def flatten_layer(in_layer):\n",
    "    shape = in_layer.get_shape()\n",
    "    n_features = shape[1:4].num_elements()\n",
    "    layer_flat = tf.reshape(in_layer, [-1, n_features])\n",
    "    return layer_flat, n_features\n",
    "\n",
    "    "
   ]
  },
  {
   "cell_type": "code",
   "execution_count": 7,
   "metadata": {
    "collapsed": false
   },
   "outputs": [
    {
     "name": "stdout",
     "output_type": "stream",
     "text": [
      "Tensor(\"Placeholder:0\", shape=(?, 16384), dtype=float32)\n",
      "Tensor(\"Reshape:0\", shape=(?, 128, 128, 1), dtype=float32)\n"
     ]
    }
   ],
   "source": [
    "X_cnn = tf.placeholder(tf.float32, [None, IMG_FLAT_SIZE])\n",
    "X_cnn_train = tf.reshape(X_cnn, [-1, IMG_SIZE, IMG_SIZE, 1])\n",
    "Y = tf.placeholder(tf.float32, [None, N_LABELS])\n",
    "print X_cnn\n",
    "print X_cnn_train"
   ]
  },
  {
   "cell_type": "code",
   "execution_count": 8,
   "metadata": {
    "collapsed": false
   },
   "outputs": [
    {
     "name": "stdout",
     "output_type": "stream",
     "text": [
      "Tensor(\"Relu:0\", shape=(?, 62, 62, 16), dtype=float32)\n"
     ]
    }
   ],
   "source": [
    "## Conv layer 1\n",
    "filter_size_1 = 5\n",
    "n_filter_1 = 16\n",
    "conv_layer_1, weight_conv_1 = new_conv_layer(X_cnn_train, filter_size_1, 1, n_filter_1)\n",
    "print (conv_layer_1)"
   ]
  },
  {
   "cell_type": "code",
   "execution_count": 9,
   "metadata": {
    "collapsed": false
   },
   "outputs": [
    {
     "name": "stdout",
     "output_type": "stream",
     "text": [
      "Tensor(\"Relu_1:0\", shape=(?, 29, 29, 36), dtype=float32)\n"
     ]
    }
   ],
   "source": [
    "## Conv layer 2\n",
    "filter_size_2 = 5\n",
    "n_filter_2 = 36\n",
    "conv_layer_2, weight_conv_2 = new_conv_layer(conv_layer_1, filter_size_2, n_filter_1, n_filter_2)\n",
    "print (conv_layer_2)"
   ]
  },
  {
   "cell_type": "code",
   "execution_count": 10,
   "metadata": {
    "collapsed": false
   },
   "outputs": [
    {
     "name": "stdout",
     "output_type": "stream",
     "text": [
      "(<tf.Tensor 'Reshape_1:0' shape=(?, 30276) dtype=float32>, 30276)\n"
     ]
    }
   ],
   "source": [
    "## Flatten layer\n",
    "layer_flat, n_features = flatten_layer(conv_layer_2)\n",
    "print (layer_flat, n_features)"
   ]
  },
  {
   "cell_type": "code",
   "execution_count": 11,
   "metadata": {
    "collapsed": false
   },
   "outputs": [
    {
     "name": "stdout",
     "output_type": "stream",
     "text": [
      "Tensor(\"Relu_2:0\", shape=(?, 128), dtype=float32)\n"
     ]
    }
   ],
   "source": [
    "## Fully-connected layer\n",
    "fc_size = 128\n",
    "layer_fc1, weights_fc_1 = new_layer(layer_flat, n_in_features=n_features, n_out_features=fc_size)\n",
    "print (layer_fc1)"
   ]
  },
  {
   "cell_type": "code",
   "execution_count": 12,
   "metadata": {
    "collapsed": false
   },
   "outputs": [
    {
     "name": "stdout",
     "output_type": "stream",
     "text": [
      "Tensor(\"add_3:0\", shape=(?, 10), dtype=float32)\n"
     ]
    }
   ],
   "source": [
    "layer_fc2, weights_fc_2 = new_layer(layer_fc1, n_in_features=fc_size, n_out_features=N_LABELS, relu=False)\n",
    "print (layer_fc2)"
   ]
  },
  {
   "cell_type": "code",
   "execution_count": 13,
   "metadata": {
    "collapsed": false
   },
   "outputs": [
    {
     "name": "stdout",
     "output_type": "stream",
     "text": [
      "Tensor(\"dropout/mul:0\", shape=(?, 10), dtype=float32)\n"
     ]
    }
   ],
   "source": [
    "keep_prob = tf.placeholder(tf.float32)\n",
    "layer_fc2_drop = tf.nn.dropout(layer_fc2, keep_prob=keep_prob)\n",
    "print (layer_fc2_drop)"
   ]
  },
  {
   "cell_type": "code",
   "execution_count": 14,
   "metadata": {
    "collapsed": false
   },
   "outputs": [
    {
     "name": "stdout",
     "output_type": "stream",
     "text": [
      "Tensor(\"Softmax:0\", shape=(?, 10), dtype=float32)\n"
     ]
    }
   ],
   "source": [
    "y_nn_softmax = tf.nn.softmax(layer_fc2)\n",
    "print y_nn_softmax"
   ]
  },
  {
   "cell_type": "code",
   "execution_count": 15,
   "metadata": {
    "collapsed": false
   },
   "outputs": [
    {
     "name": "stdout",
     "output_type": "stream",
     "text": [
      "(2000, 16384)\n",
      "(2000, 10)\n",
      "(array([0, 1, 2, 3, 4, 5, 6, 7, 8, 9]), array([253,  61, 230, 205, 216, 257,  18, 251, 270, 239]))\n"
     ]
    }
   ],
   "source": [
    "#slice data for testing model\n",
    "X_train = X_train[:2000]\n",
    "Y_train = Y_train[:2000]\n",
    "\n",
    "print (X_train.shape)\n",
    "print (Y_train.shape)\n",
    "print (np.unique(np.argmax(Y_train, axis=1), return_counts=True))"
   ]
  },
  {
   "cell_type": "code",
   "execution_count": 16,
   "metadata": {
    "collapsed": false
   },
   "outputs": [],
   "source": [
    "LEARNING_RATE = 1e-3\n",
    "\n",
    "cross_entropy = tf.nn.softmax_cross_entropy_with_logits(logits=layer_fc2, labels=Y)\n",
    "# cost = tf.reduce_mean(cross_entropy)\n",
    "cost = tf.reduce_mean(cross_entropy )\n",
    "optimizer = tf.train.AdamOptimizer(learning_rate=LEARNING_RATE)\n",
    "minimize_cost = optimizer.minimize(cost)\n",
    "grads = optimizer.compute_gradients(cost,[weights_fc_1, weights_fc_2])\n",
    "\n",
    "y_true = tf.argmax(Y, dimension=1)\n",
    "y_pred = tf.argmax(y_nn_softmax, dimension=1)"
   ]
  },
  {
   "cell_type": "code",
   "execution_count": 17,
   "metadata": {
    "collapsed": false
   },
   "outputs": [
    {
     "name": "stdout",
     "output_type": "stream",
     "text": [
      "(1000, 10)\n",
      "(array([0, 1, 2, 3, 4, 5, 6, 7, 8, 9]), array([122,  25, 127, 116, 107, 123,  10, 119, 133, 118]))\n"
     ]
    }
   ],
   "source": [
    "#slice data for testing model\n",
    "X_train = X_train_all[:1000,:,]\n",
    "Y_train = Y_train_all[:1000,:]\n",
    "print (Y_train.shape)\n",
    "print (np.unique(np.argmax(Y_train, axis=1), return_counts=True))"
   ]
  },
  {
   "cell_type": "code",
   "execution_count": 18,
   "metadata": {
    "collapsed": true
   },
   "outputs": [],
   "source": [
    "classID = {\n",
    "    0: \"AirCon\",\n",
    "    1: \"Car horn\",\n",
    "    2: \"Children playing\",\n",
    "    3: \"Dog bark\",\n",
    "    4: \"Drilling\",\n",
    "    5: \"Engine idling\",\n",
    "    6: \"Gun shot\",\n",
    "    7: \"Jackhammer\",\n",
    "    8: \"Siren\",\n",
    "    9: \"Street music\"\n",
    "}\n",
    "\n",
    "BATCH_SIZE = 50\n",
    "TRAINING_EPOCHS = 10\n",
    "\n",
    "## Helper function for optimization\n",
    "def optimize(train_x, train_y, n_epochs, batch_size, session, saver):\n",
    "        n_samples = train_x.shape[0]\n",
    "        sample_IDs = np.arange(n_samples)\n",
    "        n_iterations = np.int(np.floor(n_samples/batch_size))+1\n",
    "        start_time = time.time()\n",
    "        cost_history = np.empty(shape=[1],dtype=float)\n",
    "        print \"Training.......\"\n",
    "        print \"-- Elapsed time -- Epoch -- Cost value -- fc_1 median abs -- fc_2 median abs --\"\n",
    "\n",
    "        for epoch in np.arange(n_epochs+1):\n",
    "            np.random.shuffle(sample_IDs)\n",
    "            train_x_p, train_y_p = train_x[sample_IDs], train_y[sample_IDs]\n",
    "            for itr in np.arange(n_iterations):\n",
    "                start = (itr * batch_size) % (n_samples - batch_size)\n",
    "                batch_x, batch_y = train_x_p[start:start + batch_size], train_y_p[start:start + batch_size]\n",
    "                feed_dict_train = {X_cnn: batch_x, Y: batch_y, keep_prob: 1}\n",
    "                _, c = session.run([minimize_cost, cost], feed_dict=feed_dict_train)\n",
    "                g = session.run([grad for grad, _ in grads], feed_dict=feed_dict_train)\n",
    "                \n",
    "                \n",
    "            if(epoch % (n_epochs/10) == 0):\n",
    "                print \"-- {:12.6f} -- {:5d} -- {:10.5f} -- {:15.11f} -- {:15.11f} --\".format((time.time() - start_time), \n",
    "                                                                                    epoch, \n",
    "                                                                                    c, \n",
    "                                                                                    np.median(np.absolute(g[0])), \n",
    "                                                                                    np.median(np.absolute(g[1])))\n",
    "            cost_history = np.append(cost_history,c)\n",
    "        saver.save(sess, 'cnn_model/cnn_test')\n",
    "        saver.export_meta_graph('cnn_model/cnn_test')\n",
    "        print (\"---Running time: %s seconds ---\" % (time.time() - start_time))\n",
    "        print ('*'*50)\n",
    "        fig = plt.figure(figsize=(10,5))\n",
    "        plt.plot(cost_history)\n",
    "        plt.axis([0,epoch,0,np.max(cost_history)])\n",
    "        plt.show()\n",
    "\n",
    "def output_log_file(train, valid, test1, test2):\n",
    "    file_name = pickle_file.split('/')[-1].split('.')[0]\n",
    "    with open(\"log/logfile.txt\", \"ab\") as text_file:\n",
    "        text_file.write('='*60)\n",
    "        text_file.write('\\n')\n",
    "        text_file.write(\"Time: {0}\\n\".format(datetime.now()))\n",
    "        text_file.write(\"Data: \" + file_name +\"\\n\")    \n",
    "        \n",
    "        \n",
    "#         text_file.write(\"Number of input samples: {:6d}\\n\".format(N_SA)\n",
    "        text_file.write(\"Number of input features: {:5d}\\n\".format(IMG_FLAT_SIZE))\n",
    "#         text_file.write(\"Number of input labels: {:5d}\\n\".format(N_LABELS)\n",
    "        text_file.write(\"Number of convolutional layer: {0}\\n\".format(N_CONV_LAYER))\n",
    "        text_file.write(\"\\tFilter size:\\t\")\n",
    "        for idx in np.arange(1, N_CONV_LAYER + 1):\n",
    "            text_file.write('{0}\\t'.format(filter_size[idx]))\n",
    "        text_file.write(\"\\n\")\n",
    "        text_file.write(\"\\tNumber of filter:\\t\")\n",
    "        for idx in np.arange(1, N_CONV_LAYER + 1):\n",
    "            text_file.write('{0}\\t'.format(n_filter[idx]))\n",
    "        text_file.write(\"\\n\")\n",
    "        text_file.write(\"Number of fully-connected layer: {0}\\n\".format(N_FC_LAYER))\n",
    "        text_file.write(\"Hidden units: {:3d}  - {:3d}\\n\".format(fc_size, N_LABELS))\n",
    "        text_file.write(\"Training epochs: {:5d}\\n\".format(TRAINING_EPOCHS))\n",
    "        text_file.write(\"Batch size: {:3d}\\n\".format(BATCH_SIZE))\n",
    "                        \n",
    "        text_file.write('\\tTrain\\tValid\\tTest1\\tYoutube\\n')\n",
    "        text_file.write(\"Fscore\\t {:1.2f} \\t {:1.2f} \\t {:1.2f} \\t {:1.2f} \\n\".format(train[0], \n",
    "                                                                                      valid[0], \n",
    "                                                                                      test1[0], \n",
    "                                                                                      test2[0]))\n",
    "        text_file.write(\"Acc\\t {:1.2f} \\t {:1.2f} \\t {:1.2f} \\t {:1.2f} \\n\".format(train[1], \n",
    "                                                                                   valid[1], \n",
    "                                                                                   test1[1], \n",
    "                                                                                   test2[1]))\n",
    "        \n",
    "        \n",
    "\n",
    "## Helper function to print confusion matrix\n",
    "def make_prediction(test_x, test_y, session, batch_size):\n",
    "    print \"Making prediction.......\"\n",
    "    start_time = time.time()\n",
    "    n_samples = test_x.shape[0]\n",
    "    sample_IDs = np.arange(n_samples)\n",
    "    n_iterations = np.int(np.floor(n_samples/batch_size))+1\n",
    "    pred = np.zeros(n_samples)\n",
    "    true = np.zeros(n_samples)\n",
    "    for itr in np.arange(n_iterations):\n",
    "        start = (itr * batch_size) % (n_samples - batch_size)\n",
    "        batch_x, batch_y = test_x[start:start + batch_size], test_y[start:start + batch_size]\n",
    "        feed_dict_test = {X_cnn: batch_x, Y: batch_y, keep_prob: 1}\n",
    "        pred[start:start + batch_size], true[start:start + batch_size] = session.run([y_pred, y_true], feed_dict=feed_dict_test)\n",
    "\n",
    "## Performance Evaluation metrics\n",
    "    ## Accuracy\n",
    "    accuracy = accuracy_score(true, pred)\n",
    "    print (\"Accuracy: {:3.2f}\".format(accuracy))\n",
    "    ## F-score\n",
    "    p,r,f,s = precision_recall_fscore_support(true, pred, average='macro')\n",
    "    print (\"F-Score: {:3.2f}\".format(f))\n",
    "    \n",
    "    ## Confusion matrix\n",
    "    print (\"Confusion Matrix\")\n",
    "    print confusion_matrix(true, pred)\n",
    "#     print (\"Analyzing result\")\n",
    "#     for ID, name in classID.items():\n",
    "#         x = pred[(true == ID)*(pred != ID)]  \n",
    "#         unique_class, unique_count = np.unique(x, return_counts=True)\n",
    "#         print ('-'*50)\n",
    "#         print \" Class {0} is mistaken with: \".format(name)\n",
    "#         for c, y in zip(unique_class, unique_count):        \n",
    "#             print \"# {0}: {1} samples\".format(classID[c], y)\n",
    "#     print ('-'*50)\n",
    "    print (\"---Running time: {0} seconds ---\".format((time.time() - start_time)))\n",
    "    print ('*'*50)\n",
    "    return accuracy, f\n",
    "                    "
   ]
  },
  {
   "cell_type": "code",
   "execution_count": 19,
   "metadata": {
    "collapsed": false
   },
   "outputs": [
    {
     "name": "stdout",
     "output_type": "stream",
     "text": [
      "Training.......\n",
      "-- Elapsed time -- Epoch -- Cost value -- fc_1 median abs -- fc_2 median abs --\n",
      "--    14.779266 --     0 --    2.54910 --   0.00000000000 --   0.02000802755 --\n",
      "--    29.882798 --     1 --    1.78526 --   0.00000000000 --   0.00444572512 --\n",
      "--    44.546897 --     2 --    1.68461 --   0.00000000000 --   0.00894323736 --\n",
      "--    59.464534 --     3 --    1.45818 --   0.00000000000 --   0.00988958590 --\n",
      "--    74.560656 --     4 --    1.00153 --   0.00000000000 --   0.01086236443 --\n",
      "--    89.982624 --     5 --    0.99730 --   0.00000000000 --   0.01104400866 --\n",
      "--   105.887008 --     6 --    0.81503 --   0.00000000000 --   0.00914625078 --\n",
      "--   121.325569 --     7 --    0.88206 --   0.00000000000 --   0.01232656650 --\n",
      "--   136.215060 --     8 --    0.44622 --   0.00000000000 --   0.00788471289 --\n",
      "--   151.140283 --     9 --    0.61393 --   0.00000000000 --   0.01342446636 --\n",
      "--   165.903759 --    10 --    0.29074 --   0.00000000000 --   0.00671682693 --\n",
      "---Running time: 166.606425047 seconds ---\n",
      "**************************************************\n"
     ]
    },
    {
     "data": {
      "image/png": "[encoded data removed]",
      "text/plain": [
       "<matplotlib.figure.Figure at 0x7f535ed27c10>"
      ]
     },
     "metadata": {},
     "output_type": "display_data"
    },
    {
     "name": "stdout",
     "output_type": "stream",
     "text": [
      "Making prediction on validation set\n",
      "Making prediction.......\n",
      "Accuracy: 0.41\n",
      "F-Score: 0.36\n",
      "Confusion Matrix\n",
      "[[541   1   9 146   0  51   0   0  79  20]\n",
      " [ 27  10   8   5   5   4   0   6   1  12]\n",
      " [184   0 236  71   4  68   0   1 100 120]\n",
      " [ 52   0  56 371  15  33   4   0  14  45]\n",
      " [177  17   6  86 242  63   0  72  21  46]\n",
      " [284  12 111  57   5 262   0   1  99   6]\n",
      " [ 34   0   1  15   1   2  16   0   0  23]\n",
      " [435   0   1   5   7  22   0  35   3  16]\n",
      " [ 96   0  42  23   3  92   0   0 302  19]\n",
      " [215   1  84  74  16  16   1   4  16 364]]\n",
      "---Running time: 18.9654769897 seconds ---\n",
      "**************************************************\n",
      "Making training prediction on test 1 set\n",
      "Making prediction.......\n",
      "Accuracy: 0.52\n",
      "F-Score: 0.48\n",
      "Confusion Matrix\n",
      "[[403   0   3   1   1  14   0  11   5   3]\n",
      " [ 17  21   4   8   2   1   0   1  11   7]\n",
      " [ 22   0 104  72   0  46   0   0  52  92]\n",
      " [ 24   0  25 184   9  11   0   4  15  13]\n",
      " [120   0  14  31  88  28   0   6  35  26]\n",
      " [ 63   0  23  53   0 210   0   0   2   7]\n",
      " [  0   0   0  24   1   0   6   0   0   0]\n",
      " [ 45   0   0   1  65  33   0 176   2   0]\n",
      " [ 76   0  32  17   2  10   0   0 158  13]\n",
      " [ 88   5  37  34  11   7   0   3  24 183]]\n",
      "---Running time: 9.22145819664 seconds ---\n",
      "**************************************************\n",
      "Making training prediction on test 2 set\n",
      "Making prediction.......\n",
      "Accuracy: 0.44\n",
      "F-Score: 0.35\n",
      "Confusion Matrix\n",
      "[[72  0  0  0  1 16  0  0  0  0]\n",
      " [ 8  1  1 34  2  1  1  0  1 18]\n",
      " [16  0 12  5  1 24  0  0  3 12]\n",
      " [ 3  0  3 50  0  3  0  0  3 10]\n",
      " [22  0  0  3 37  5  3  5  0  0]\n",
      " [24  0  0  0  0 50  0  0  0  2]\n",
      " [33  0  2 15  4 10  0  0  0  4]\n",
      " [43  0  1  2  1 16  0 12  0  0]\n",
      " [ 0  1  1  3  0  0  0  0 59 12]\n",
      " [ 0  0  0  0  0  0  0  0  0  0]]\n",
      "---Running time: 2.19047999382 seconds ---\n",
      "**************************************************\n"
     ]
    },
    {
     "name": "stderr",
     "output_type": "stream",
     "text": [
      "/home/kyle/anaconda2/lib/python2.7/site-packages/sklearn/metrics/classification.py:1076: UndefinedMetricWarning: Recall and F-score are ill-defined and being set to 0.0 in labels with no true samples.\n",
      "  'recall', 'true', average, warn_for)\n"
     ]
    }
   ],
   "source": [
    "\n",
    "\n",
    "with tf.Session() as sess:\n",
    "    saver = tf.train.Saver()\n",
    "    sess.run(tf.global_variables_initializer())\n",
    "    optimize(X_train, Y_train, TRAINING_EPOCHS, BATCH_SIZE, sess, saver)\n",
    "    \n",
    "#     print (\"Making prediction on training set\")\n",
    "#     train = make_prediction(X_train, Y_train, sess)\n",
    "    print (\"Making prediction on validation set\")\n",
    "    valid = make_prediction(X_valid, Y_valid, sess, BATCH_SIZE)\n",
    "    print (\"Making training prediction on test 1 set\")\n",
    "    test1 = make_prediction(X_test1, Y_test1, sess, BATCH_SIZE)\n",
    "    print (\"Making training prediction on test 2 set\")\n",
    "    test2 = make_prediction(X_test2, Y_test2, sess, BATCH_SIZE)\n",
    "    \n",
    "\n",
    "    \n",
    "    \n",
    "    "
   ]
  },
  {
   "cell_type": "code",
   "execution_count": 18,
   "metadata": {
    "collapsed": false
   },
   "outputs": [
    {
     "data": {
      "text/plain": [
       "(671, 16384)"
      ]
     },
     "execution_count": 18,
     "metadata": {},
     "output_type": "execute_result"
    }
   ],
   "source": [
    "X_test2.shape"
   ]
  },
  {
   "cell_type": "code",
   "execution_count": 22,
   "metadata": {
    "collapsed": false
   },
   "outputs": [
    {
     "name": "stdout",
     "output_type": "stream",
     "text": [
      "Making prediction.......\n",
      "Accuracy: 0.54\n",
      "F-Score: 0.56\n",
      "Confusion Matrix\n",
      "[[226   0 127   3   4  13   0   2   6  60]\n",
      " [  0  56  10   1   0   0   0   0   0   5]\n",
      " [  3   0 327  22   1   1   1   0   5  28]\n",
      " [  3   0  60 193   1   2   0   0   6  20]\n",
      " [  8   3  30  10 210   4   2   2  50  29]\n",
      " [ 75   0 197   1   0  60   0   4   2  19]\n",
      " [  1   0   2  11   1   0  16   0   0   0]\n",
      " [ 98   0   2   0  74   5   0 137   0   6]\n",
      " [ 27   3  75  55   9   1   1   0 114  23]\n",
      " [ 22   4  71  15   3   1   0   3  19 254]]\n",
      "---Running time: 9.09455180168 seconds ---\n",
      "**************************************************\n"
     ]
    }
   ],
   "source": [
    "with tf.Session() as sess:\n",
    "    saver = tf.train.Saver()\n",
    "    saver.restore(sess, 'cnn_model/cnn_test')\n",
    "    test2 = make_prediction(X_test1, Y_test1, sess, BATCH_SIZE)\n",
    "    "
   ]
  },
  {
   "cell_type": "code",
   "execution_count": 37,
   "metadata": {
    "collapsed": true
   },
   "outputs": [],
   "source": [
    "np.random.seed(2017)\n",
    "x = np.arange(10)\n",
    "a = np.arange(10)"
   ]
  },
  {
   "cell_type": "code",
   "execution_count": 38,
   "metadata": {
    "collapsed": false
   },
   "outputs": [
    {
     "name": "stdout",
     "output_type": "stream",
     "text": [
      "[1 3 7 4 8 0 2 5 6 9]\n"
     ]
    }
   ],
   "source": [
    "\n",
    "np.random.shuffle(x)\n",
    "print (x)"
   ]
  },
  {
   "cell_type": "code",
   "execution_count": 39,
   "metadata": {
    "collapsed": false
   },
   "outputs": [
    {
     "name": "stdout",
     "output_type": "stream",
     "text": [
      "[5 0 9 2 7 1 3 4 6 8]\n"
     ]
    }
   ],
   "source": [
    "\n",
    "\n",
    "np.random.shuffle(a)\n",
    "print (a)"
   ]
  },
  {
   "cell_type": "code",
   "execution_count": null,
   "metadata": {
    "collapsed": true
   },
   "outputs": [],
   "source": []
  }
 ],
 "metadata": {
  "anaconda-cloud": {},
  "kernelspec": {
   "display_name": "Python [conda root]",
   "language": "python",
   "name": "conda-root-py"
  },
  "language_info": {
   "codemirror_mode": {
    "name": "ipython",
    "version": 2
   },
   "file_extension": ".py",
   "mimetype": "text/x-python",
   "name": "python",
   "nbconvert_exporter": "python",
   "pygments_lexer": "ipython2",
   "version": "2.7.12"
  }
 },
 "nbformat": 4,
 "nbformat_minor": 1
}
