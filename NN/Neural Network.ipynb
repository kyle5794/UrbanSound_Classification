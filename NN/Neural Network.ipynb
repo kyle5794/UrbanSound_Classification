{
 "cells": [
  {
   "cell_type": "code",
   "execution_count": 1,
   "metadata": {
    "collapsed": true
   },
   "outputs": [],
   "source": [
    "import os\n",
    "import time\n",
    "import librosa\n",
    "import numpy as np\n",
    "import tensorflow as tf\n",
    "import cPickle as pickle\n",
    "from datetime import datetime\n",
    "from datetime import timedelta\n",
    "import matplotlib.pyplot as plt\n",
    "from sklearn.metrics import accuracy_score\n",
    "from sklearn.metrics import confusion_matrix\n",
    "from sklearn.metrics import precision_recall_fscore_support\n",
    "\n",
    "\n",
    "%matplotlib inline\n",
    "plt.style.use('ggplot')\n",
    "\n",
    "plt.rcParams['font.family'] = 'serif'\n",
    "plt.rcParams['font.serif'] = 'Ubuntu'\n",
    "plt.rcParams['font.monospace'] = 'Ubuntu Mono'\n",
    "plt.rcParams['font.size'] = 12\n",
    "plt.rcParams['axes.labelsize'] = 11\n",
    "plt.rcParams['axes.labelweight'] = 'bold'\n",
    "plt.rcParams['axes.titlesize'] = 14\n",
    "plt.rcParams['xtick.labelsize'] = 10\n",
    "plt.rcParams['ytick.labelsize'] = 10\n",
    "plt.rcParams['legend.fontsize'] = 11\n",
    "plt.rcParams['figure.titlesize'] = 13"
   ]
  },
  {
   "cell_type": "code",
   "execution_count": 2,
   "metadata": {
    "collapsed": false
   },
   "outputs": [],
   "source": [
    "pickle_file = \"../../my_features/US8K_mfcc40_meanstddelta.pickle\"\n",
    "with open(pickle_file, \"rb\") as f:\n",
    "    dataset = pickle.load(f)\n",
    "    X_train = dataset[\"X_train\"]\n",
    "    Y_train = dataset[\"Y_train\"]\n",
    "    X_valid = dataset[\"X_valid\"]\n",
    "    Y_valid = dataset[\"Y_valid\"]\n",
    "    X_test1 = dataset[\"X_test1\"]\n",
    "    Y_test1 = dataset[\"Y_test1\"]\n",
    "    X_test2 = dataset[\"X_test2\"]\n",
    "    Y_test2 = dataset[\"Y_test2\"]\n",
    "    del dataset"
   ]
  },
  {
   "cell_type": "code",
   "execution_count": 3,
   "metadata": {
    "collapsed": false
   },
   "outputs": [
    {
     "name": "stdout",
     "output_type": "stream",
     "text": [
      "('training data: ', (6234, 120), (6234, 10))\n",
      "[ 0.  0.  0.  0.  0.  0.  0.  1.  0.  0.]\n"
     ]
    }
   ],
   "source": [
    "print ('training data: ' , X_train.shape, Y_train.shape)\n",
    "\n",
    "print (Y_train[123])"
   ]
  },
  {
   "cell_type": "markdown",
   "metadata": {},
   "source": [
    "## 1. Tensorflow network"
   ]
  },
  {
   "cell_type": "code",
   "execution_count": 4,
   "metadata": {
    "collapsed": true
   },
   "outputs": [],
   "source": [
    "### \n",
    "N_FEATURES = X_train.shape[1]\n",
    "N_LABELS = Y_train.shape[1]"
   ]
  },
  {
   "cell_type": "code",
   "execution_count": 5,
   "metadata": {
    "collapsed": false
   },
   "outputs": [],
   "source": [
    "## Place holder variables\n",
    "X = tf.placeholder(tf.float32, [None, N_FEATURES])\n",
    "Y = tf.placeholder(tf.float32, [None, N_LABELS])\n",
    "\n",
    "## Helper function to create fully-connected layer\n",
    "def new_fc_layer(in_layer, n_input_features, n_output_layer, activation=''):\n",
    "    weights = tf.Variable(tf.truncated_normal([n_input_features, n_output_layer], stddev=0.1))\n",
    "    biases = tf.Variable(tf.constant(value=1, dtype=tf.float32, shape = [n_output_layer]))\n",
    "    out_layer = tf.matmul(in_layer, weights) + biases\n",
    "    activation = activation.lower()\n",
    "    if(activation == 'relu'):\n",
    "        out_layer = tf.nn.relu(out_layer)\n",
    "    elif(activation == 'tanh'):\n",
    "        out_layer = tf.nn.tanh(out_layer)\n",
    "    elif(activation == 'sigmoid'):\n",
    "        out_layer = tf.nn.sigmoid(out_layer)\n",
    "    return out_layer, weights, biases"
   ]
  },
  {
   "cell_type": "code",
   "execution_count": 6,
   "metadata": {
    "collapsed": false
   },
   "outputs": [
    {
     "name": "stdout",
     "output_type": "stream",
     "text": [
      "Tensor(\"Relu:0\", shape=(?, 128), dtype=float32)\n",
      "Tensor(\"Relu_1:0\", shape=(?, 64), dtype=float32)\n"
     ]
    }
   ],
   "source": [
    "## Hidden layer 1\n",
    "N_HIDDEN_L1 = 100\n",
    "hidden_layer_1, weight_1, biases_1 = new_fc_layer(X, N_FEATURES, N_HIDDEN_L1, 'relu')\n",
    "## Hidden layer 2\n",
    "N_HIDDEN_L2 = 64\n",
    "hidden_layer_2, weight_2, biases_2 = new_fc_layer(hidden_layer_1, N_HIDDEN_L1, N_HIDDEN_L2, 'relu')\n",
    "\n",
    "print (hidden_layer_1)\n",
    "print (hidden_layer_2)"
   ]
  },
  {
   "cell_type": "code",
   "execution_count": 7,
   "metadata": {
    "collapsed": false
   },
   "outputs": [
    {
     "name": "stdout",
     "output_type": "stream",
     "text": [
      "Tensor(\"dropout/mul:0\", shape=(?, 10), dtype=float32)\n",
      "Tensor(\"Softmax:0\", shape=(?, 10), dtype=float32)\n"
     ]
    }
   ],
   "source": [
    "## Output layer\n",
    "output_layer, weight_output, biases_output = new_fc_layer(hidden_layer_2, N_HIDDEN_L2, N_LABELS)\n",
    "## Dropout\n",
    "keep_prob = tf.placeholder(tf.float32)\n",
    "output_layer_drop = tf.nn.dropout(output_layer, keep_prob=keep_prob)\n",
    "print (output_layer_drop)\n",
    "y_softmax = tf.nn.softmax(output_layer_drop)\n",
    "print y_softmax"
   ]
  },
  {
   "cell_type": "code",
   "execution_count": 8,
   "metadata": {
    "collapsed": false
   },
   "outputs": [],
   "source": [
    "## Cost function and optimization\n",
    "# BETA = 0.001 #L2 regularization penalty factor\n",
    "LEARNING_RATE = 1e-3\n",
    "cross_entropy = tf.nn.softmax_cross_entropy_with_logits(logits=output_layer_drop, labels=Y)\n",
    "cost = tf.reduce_mean(cross_entropy) # To be added L2 regularization\n",
    "optimizer = tf.train.AdamOptimizer(learning_rate=LEARNING_RATE).minimize(cost)\n",
    "\n",
    "## Making Prediction\n",
    "y_pred = tf.argmax(y_softmax, axis=1)\n",
    "y_true = tf.argmax(Y, axis=1)"
   ]
  },
  {
   "cell_type": "markdown",
   "metadata": {},
   "source": [
    "## 2. Tensorflow training session"
   ]
  },
  {
   "cell_type": "code",
   "execution_count": 9,
   "metadata": {
    "collapsed": false
   },
   "outputs": [],
   "source": [
    "classID = {\n",
    "    0: \"AirCon\",\n",
    "    1: \"Car horn\",\n",
    "    2: \"Children playing\",\n",
    "    3: \"Dog bark\",\n",
    "    4: \"Drilling\",\n",
    "    5: \"Engine idling\",\n",
    "    6: \"Gun shot\",\n",
    "    7: \"Jackhammer\",\n",
    "    8: \"Siren\",\n",
    "    9: \"Street music\"\n",
    "}\n",
    "\n",
    "BATCH_SIZE = 50\n",
    "TRAINING_EPOCHS = 100\n",
    "\n",
    "## Helper function for optimization\n",
    "def optimize(train_x, train_y, n_epochs, batch_size, session):\n",
    "        n_samples = train_x.shape[0]\n",
    "        sample_IDs = np.arange(n_samples)\n",
    "        n_iterations = np.int(np.floor(n_samples/batch_size))+1\n",
    "        start_time = time.time()\n",
    "        cost_history = np.empty(shape=[1],dtype=float)\n",
    "        print \"Training.......\"\n",
    "        print \"------ Elapsed time ------- Epoch ---- Cost \"\n",
    "\n",
    "        for epoch in np.arange(n_epochs+1):\n",
    "            np.random.shuffle(sample_IDs)\n",
    "            train_x_p, train_y_p = train_x[sample_IDs], train_y[sample_IDs]\n",
    "            for itr in np.arange(n_iterations):\n",
    "                start = (itr * batch_size) % (n_samples - batch_size)\n",
    "                batch_x, batch_y = train_x_p[start:start + batch_size], train_y_p[start:start + batch_size]\n",
    "                feed_dict_train = {X: batch_x, Y: batch_y, keep_prob: 1}\n",
    "                _, c = session.run([optimizer, cost], feed_dict=feed_dict_train)\n",
    "            if(epoch % (n_epochs/10) == 0):\n",
    "                print \"------ {:12.7f} ------- {:5d} ---- {:12.10f} \".format((time.time() - start_time), epoch, c)\n",
    "            cost_history = np.append(cost_history,c)\n",
    "        print (\"---Running time: %s seconds ---\" % (time.time() - start_time))\n",
    "        print ('*'*50)\n",
    "        fig = plt.figure(figsize=(10,5))\n",
    "        plt.plot(cost_history)\n",
    "        plt.axis([0,epoch,0,np.max(cost_history)])\n",
    "        plt.show()\n",
    "\n",
    "def output_log_file(session):\n",
    "    file_name = pickle_file.split('/')[-1].split('.')[0]\n",
    "    with open(\"log/logfile.txt\", \"ab\") as text_file:\n",
    "        text_file.write('='*60)\n",
    "        text_file.write('\\n')\n",
    "        text_file.write(\"Time: {0}\\n\".format(datetime.now()))\n",
    "        text_file.write(\"Data: \" + file_name +\"\\n\")    \n",
    "        train_acc, train_f = make_prediction(X_train, Y_train, session)\n",
    "        valid_acc, valid_f = make_prediction(X_valid, Y_valid, session)\n",
    "        test1_acc, test1_f = make_prediction(X_test1, Y_test1, session)\n",
    "        test2_acc, test2_f = make_prediction(X_test2, Y_test2, session)\n",
    "        \n",
    "#         text_file.write(\"Number of input samples: {:6d}\\n\".format(N_SA)\n",
    "        text_file.write(\"Number of input features: {:4d}\\n\".format(N_FEATURES))\n",
    "        text_file.write(\"Number of layer: 2\\n\")\n",
    "        text_file.write(\"Hidden units: {:3d}  - {:3d}\\n\".format(N_HIDDEN_L1, N_HIDDEN_L2))\n",
    "        text_file.write(\"Training epochs: {:5d}\\n\".format(TRAINING_EPOCHS))\n",
    "        text_file.write(\"Batch size: {:3d}\\n\".format(BATCH_SIZE))\n",
    "                        \n",
    "        text_file.write('\\tTrain\\tValid\\tTest1\\tYoutube\\n')\n",
    "        text_file.write(\"Fscore\\t {:1.2f} \\t {:1.2f} \\t {:1.2f} \\t {:1.2f} \\n\".format(train_f, valid_f, test1_f, test2_f))\n",
    "        text_file.write(\"Acc\\t {:1.2f} \\t {:1.2f} \\t {:1.2f} \\t {:1.2f} \\n\".format(train_acc, valid_acc, test1_acc, test2_acc))\n",
    "        \n",
    "        \n",
    "\n",
    "## Helper function to print confusion matrix\n",
    "def make_prediction(test_x, test_y, session):\n",
    "    print \"Making prediction.......\"\n",
    "    start_time = time.time()\n",
    "    feed_dict_test = {X: test_x, Y: test_y, keep_prob: 1}\n",
    "    pred, true = session.run([y_pred, y_true], feed_dict=feed_dict_test)\n",
    "## Performance Evaluation metrics\n",
    "    ## Accuracy\n",
    "    accuracy = accuracy_score(true, pred)\n",
    "    print (\"Accuracy: {:3.2f}\".format(accuracy))\n",
    "    ## F-score\n",
    "    p,r,f,s = precision_recall_fscore_support(true, pred, average='macro')\n",
    "    print (\"F-Score: {:3.2f}\".format(f))\n",
    "    \n",
    "    ## Confusion matrix\n",
    "    print (\"Confusion Matrix\")\n",
    "    print confusion_matrix(true, pred)\n",
    "#     print (\"Analyzing result\")\n",
    "#     for ID, name in classID.items():\n",
    "#         x = pred[(true == ID)*(pred != ID)]  \n",
    "#         unique_class, unique_count = np.unique(x, return_counts=True)\n",
    "#         print ('-'*50)\n",
    "#         print \" Class {0} is mistaken with: \".format(name)\n",
    "#         for c, y in zip(unique_class, unique_count):        \n",
    "#             print \"# {0}: {1} samples\".format(classID[c], y)\n",
    "#     print ('-'*50)\n",
    "    print (\"---Running time: {0} seconds ---\".format((time.time() - start_time)))\n",
    "    print ('*'*50)\n",
    "    return accuracy, f\n",
    "                    "
   ]
  },
  {
   "cell_type": "code",
   "execution_count": 10,
   "metadata": {
    "collapsed": false
   },
   "outputs": [
    {
     "name": "stdout",
     "output_type": "stream",
     "text": [
      "Training.......\n",
      "------ Elapsed time ------- Epoch ---- Cost \n",
      "------    0.2778630 -------     0 ---- 1.0772012472 \n",
      "------    3.2498698 -------    10 ---- 0.1887571663 \n",
      "------    6.2736819 -------    20 ---- 0.0944924578 \n",
      "------    9.3232269 -------    30 ---- 0.1527838111 \n",
      "------   12.3007698 -------    40 ---- 0.0585395806 \n",
      "------   15.0136669 -------    50 ---- 0.1122375578 \n",
      "------   17.9136250 -------    60 ---- 0.0529272221 \n",
      "------   20.7021458 -------    70 ---- 0.0387437902 \n",
      "------   23.5539620 -------    80 ---- 0.0020577905 \n",
      "------   26.3474400 -------    90 ---- 0.0044541364 \n",
      "------   29.0909638 -------   100 ---- 0.0066797580 \n",
      "---Running time: 29.0911779404 seconds ---\n",
      "**************************************************\n"
     ]
    },
    {
     "data": {
      "image/png": "[encoded data removed]",
      "text/plain": [
       "<matplotlib.figure.Figure at 0x7fcf45696fd0>"
      ]
     },
     "metadata": {},
     "output_type": "display_data"
    },
    {
     "name": "stdout",
     "output_type": "stream",
     "text": [
      "Making prediction.......\n",
      "Accuracy: 1.00\n",
      "F-Score: 1.00\n",
      "Confusion Matrix\n",
      "[[700   0   0   0   0   0   0   0   0   0]\n",
      " [  0 338   0   0   0   2   0   0   0   0]\n",
      " [  0   0 697   0   1   0   0   0   0   2]\n",
      " [  0   0   0 700   0   0   0   0   0   0]\n",
      " [  0   0   0   0 696   0   0   4   0   0]\n",
      " [  0   0   0   0   0 694   0   0   0   0]\n",
      " [  0   0   0   0   0   0 245   0   0   0]\n",
      " [  0   0   0   0   0   0   0 760   0   0]\n",
      " [  0   0   0   0   0   0   0   0 695   0]\n",
      " [  0   0   0   0   0   0   0   2   0 698]]\n",
      "---Running time: 0.0250568389893 seconds ---\n",
      "**************************************************\n",
      "Making prediction.......\n",
      "Accuracy: 0.59\n",
      "F-Score: 0.60\n",
      "Confusion Matrix\n",
      "[[ 82   1  30   7  28  41   0   5   1   5]\n",
      " [  4  32   3   2   6   2   0   1   1   5]\n",
      " [ 11   0 133   3   3   5   0   0   2  43]\n",
      " [  0   1  13 157  11   0   1   0   1  16]\n",
      " [ 15   4   4   6 124   0   5  16  12  14]\n",
      " [ 23   2  12  20  14  93   0  21  17  11]\n",
      " [  0   0   0  12   2   1  82   0   0   0]\n",
      " [ 24   0   2   0  41   1   0  71   0   5]\n",
      " [  9   2  13   5   2  22   0   0  75  23]\n",
      " [  3   3  29   7  23   5   0   0   1 129]]\n",
      "---Running time: 0.00885701179504 seconds ---\n",
      "**************************************************\n",
      "Making prediction.......\n",
      "Accuracy: 0.64\n",
      "F-Score: 0.66\n",
      "Confusion Matrix\n",
      "[[44  0 15  5  1  1  0  0  5 29]\n",
      " [ 1 26  2  1  1  1  0  0  0  1]\n",
      " [ 2  1 69  5  2  0  0  0  8 13]\n",
      " [ 0  3 11 69  3  0  6  0  1  7]\n",
      " [ 5  1  0  2 58  5  0 16  7  6]\n",
      " [ 4  0  7  1  3 75  0  0  1  2]\n",
      " [ 0  0  0  3  0  0 29  0  0  0]\n",
      " [ 0  0  3  1 41  2  1 48  0  0]\n",
      " [ 8  0 25  3  0  4  0  0 30 13]\n",
      " [ 0  0  9  0  4  0  0  1  0 86]]\n",
      "---Running time: 0.00671410560608 seconds ---\n",
      "**************************************************\n",
      "Making prediction.......\n",
      "Accuracy: 0.57\n",
      "F-Score: 0.54\n",
      "Confusion Matrix\n",
      "[[12  0  0  0  2  6  0  0  0  0]\n",
      " [ 0  5  1  1 12  0  0  0  0  1]\n",
      " [ 0  0  9  0  0  0  0  0  0 11]\n",
      " [ 0  0  3 12  0  0  2  0  1  2]\n",
      " [ 0  0  1  0 15  2  0  2  0  0]\n",
      " [ 1  0  0  0  2 15  0  1  0  1]\n",
      " [ 0  0  0  0  3  0 16  1  0  0]\n",
      " [ 1  1  1  0  2  6  1  8  0  0]\n",
      " [ 0  0  1  0  5  0  0  0 11  3]\n",
      " [ 0  0  0  0  0  0  0  0  0  0]]\n",
      "---Running time: 0.00448799133301 seconds ---\n",
      "**************************************************\n"
     ]
    },
    {
     "name": "stderr",
     "output_type": "stream",
     "text": [
      "/home/kyle/anaconda2/lib/python2.7/site-packages/sklearn/metrics/classification.py:1076: UndefinedMetricWarning: Recall and F-score are ill-defined and being set to 0.0 in labels with no true samples.\n",
      "  'recall', 'true', average, warn_for)\n"
     ]
    }
   ],
   "source": [
    "\n",
    "\n",
    "with tf.Session() as sess:\n",
    "    sess = tf.Session()\n",
    "    sess.run(tf.global_variables_initializer())\n",
    "    optimize(X_train, Y_train, TRAINING_EPOCHS, BATCH_SIZE, sess)\n",
    "    output_log_file(sess)\n",
    "#     print (\"Making prediction on training set\")\n",
    "#     make_prediction(X_train, Y_train, sess)\n",
    "#     print (\"Making prediction on validation set\")\n",
    "#     make_prediction(X_valid, Y_valid, sess)\n",
    "#     print (\"Making training prediction on test 1 set\")\n",
    "#     make_prediction(X_test1, Y_test1, sess)\n",
    "#     print (\"Making training prediction on test 2 set\")\n",
    "#     make_prediction(X_test2, Y_test2, sess)\n",
    "\n",
    "    \n",
    "    \n",
    "    "
   ]
  },
  {
   "cell_type": "code",
   "execution_count": null,
   "metadata": {
    "collapsed": true
   },
   "outputs": [],
   "source": []
  }
 ],
 "metadata": {
  "anaconda-cloud": {},
  "kernelspec": {
   "display_name": "Python [conda root]",
   "language": "python",
   "name": "conda-root-py"
  },
  "language_info": {
   "codemirror_mode": {
    "name": "ipython",
    "version": 2
   },
   "file_extension": ".py",
   "mimetype": "text/x-python",
   "name": "python",
   "nbconvert_exporter": "python",
   "pygments_lexer": "ipython2",
   "version": "2.7.12"
  }
 },
 "nbformat": 4,
 "nbformat_minor": 1
}
