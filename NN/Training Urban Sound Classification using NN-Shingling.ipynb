{
 "cells": [
  {
   "cell_type": "code",
   "execution_count": 1,
   "metadata": {
    "collapsed": false
   },
   "outputs": [],
   "source": [
    "import glob\n",
    "import os\n",
    "import librosa\n",
    "import numpy as np\n",
    "import matplotlib.pyplot as plt\n",
    "from matplotlib.pyplot import specgram\n",
    "import time\n",
    "%matplotlib inline\n",
    "plt.style.use('ggplot')\n",
    "\n",
    "plt.rcParams['font.family'] = 'serif'\n",
    "plt.rcParams['font.serif'] = 'Ubuntu'\n",
    "plt.rcParams['font.monospace'] = 'Ubuntu Mono'\n",
    "plt.rcParams['font.size'] = 12\n",
    "plt.rcParams['axes.labelsize'] = 11\n",
    "plt.rcParams['axes.labelweight'] = 'bold'\n",
    "plt.rcParams['axes.titlesize'] = 14\n",
    "plt.rcParams['xtick.labelsize'] = 10\n",
    "plt.rcParams['ytick.labelsize'] = 10\n",
    "plt.rcParams['legend.fontsize'] = 11\n",
    "plt.rcParams['figure.titlesize'] = 13"
   ]
  },
  {
   "cell_type": "code",
   "execution_count": 2,
   "metadata": {
    "collapsed": false
   },
   "outputs": [],
   "source": [
    "EPSILON = 10e-10\n",
    "def extract_feature(file_name):\n",
    "    X, sample_rate = librosa.load(file_name)\n",
    "    stft = np.abs(librosa.stft(X))\n",
    "    mfccs = np.mean(librosa.feature.mfcc(y=X, sr=sample_rate, n_mfcc=40).T,axis=0)\n",
    "    #chroma = np.mean(librosa.feature.chroma_stft(S=stft, sr=sample_rate).T,axis=0)\n",
    "    raw_mel = librosa.feature.melspectrogram(X, sr=sample_rate).T\n",
    "    mel = np.mean(raw_mel, axis=0)\n",
    "    processed_mel = raw_mel + EPSILON\n",
    "    logMel = np.mean(np.log(processed_mel),axis=0)\n",
    "    #contrast = np.mean(librosa.feature.spectral_contrast(S=stft, sr=sample_rate).T,axis=0)\n",
    "    #tonnetz = np.mean(librosa.feature.tonnetz(y=librosa.effects.harmonic(X), sr=sample_rate).T,axis=0)\n",
    "    return mfccs,logMel, mel\n",
    "\n",
    "def parse_audio_files(parent_dir,sub_dirs,file_ext='*.wav'):\n",
    "    features, labels, namePath = np.empty((0,296)), np.empty(0), np.empty(0)\n",
    "    for label, sub_dir in enumerate(sub_dirs):\n",
    "        for fn in glob.glob(os.path.join(parent_dir, sub_dir, file_ext)):\n",
    "            mfccs, logmel, mel = extract_feature(fn)\n",
    "            ext_features = np.hstack([mfccs,logmel, mel])\n",
    "            features = np.vstack([features,ext_features])\n",
    "            labels = np.append(labels, fn.split('/')[-1].split('-')[1])\n",
    "            namePath = np.append(namePath, fn)\n",
    "    return np.array(features), np.array(labels, dtype = np.int), np.array(namePath, dtype=np.string_)\n",
    "\n",
    "def one_hot_encode(labels):\n",
    "    n_labels = len(labels)\n",
    "    n_unique_labels = len(np.unique(labels))\n",
    "    one_hot_encode = np.zeros((n_labels,n_unique_labels))\n",
    "    one_hot_encode[np.arange(n_labels), labels] = 1\n",
    "    return one_hot_encode\n",
    "\n",
    "def one_hot_decode(labels):\n",
    "    n_labels, n_unique_labels = np.shape(labels)\n",
    "    one_hot_decode = np.zeros((n_labels))\n",
    "    for idx in range(n_labels):\n",
    "        for l in range(n_unique_labels):\n",
    "            if(labels[idx, l] == 1):\n",
    "                one_hot_decode[idx] = l\n",
    "                break;\n",
    "    return one_hot_decode"
   ]
  },
  {
   "cell_type": "code",
   "execution_count": 3,
   "metadata": {
    "collapsed": false
   },
   "outputs": [],
   "source": [
    "x = extract_feature(\"../../data/UrbanSound8K/audio/fold1/7061-6-0-0.wav\")\n",
    "nfMfccs = np.shape(x[0])[0]\n",
    "nfLogMel = np.shape(x[1])[0]\n",
    "nfMel = np.shape(x[2])[0]"
   ]
  },
  {
   "cell_type": "code",
   "execution_count": 4,
   "metadata": {
    "collapsed": false
   },
   "outputs": [
    {
     "name": "stdout",
     "output_type": "stream",
     "text": [
      "Number of features\n",
      "* Mfcc: 40\n",
      "* logMel 128\n",
      "* Mel 128\n"
     ]
    }
   ],
   "source": [
    "print \"Number of features\"\n",
    "print \"* Mfcc: {0}\".format(nfMfccs)\n",
    "print \"* logMel {0}\".format(nfLogMel)\n",
    "print \"* Mel {0}\".format(nfMel)"
   ]
  },
  {
   "cell_type": "code",
   "execution_count": 5,
   "metadata": {
    "collapsed": false
   },
   "outputs": [],
   "source": [
    "features = np.load(\"nn_shingled_features_fold_1.npy\", allow_pickle=True)\n",
    "labels = np.load(\"nn_labels_fold_1.npy\", allow_pickle=True)\n",
    "file_names = np.load(\"nn_file_names_fold_1.npy\", allow_pickle=True)"
   ]
  },
  {
   "cell_type": "code",
   "execution_count": 6,
   "metadata": {
    "collapsed": false
   },
   "outputs": [],
   "source": [
    "one_hot_labels = one_hot_encode(labels)"
   ]
  },
  {
   "cell_type": "code",
   "execution_count": 18,
   "metadata": {
    "collapsed": false
   },
   "outputs": [
    {
     "data": {
      "text/plain": [
       "(26036, 10)"
      ]
     },
     "execution_count": 18,
     "metadata": {},
     "output_type": "execute_result"
    }
   ],
   "source": [
    "np.shape(one_hot_labels)"
   ]
  },
  {
   "cell_type": "markdown",
   "metadata": {},
   "source": [
    "-------------------------------------------------------------------------------------------------------------------------"
   ]
  },
  {
   "cell_type": "markdown",
   "metadata": {},
   "source": [
    "### Training Neural Network with TensorFlow"
   ]
  },
  {
   "cell_type": "code",
   "execution_count": 7,
   "metadata": {
    "collapsed": true
   },
   "outputs": [],
   "source": [
    "import tensorflow as tf\n",
    "from sklearn.metrics import precision_recall_fscore_support\n",
    "from sklearn.metrics import confusion_matrix"
   ]
  },
  {
   "cell_type": "markdown",
   "metadata": {},
   "source": [
    "--------------------------------------------------------------------------------------------------------------------------"
   ]
  },
  {
   "cell_type": "code",
   "execution_count": 10,
   "metadata": {
    "collapsed": false
   },
   "outputs": [],
   "source": [
    "# Initialize parameters\n",
    "training_epochs = 20000 # number of iteration\n",
    "n_samples, n_dim = np.shape(features) # number of features\n",
    "n_classes = 10 # number of classes\n",
    "n_hidden_units_one = 280  # number of units in hidden layer 1\n",
    "n_hidden_units_two = 300 # number of units in hidden layer 2\n",
    "sd = 1 / np.sqrt(n_dim) # std of initial weight and bias\n",
    "learning_rate = 0.01 "
   ]
  },
  {
   "cell_type": "code",
   "execution_count": 11,
   "metadata": {
    "collapsed": false
   },
   "outputs": [],
   "source": [
    "# Randomly initialize params for each layers\n",
    "X = tf.placeholder(tf.float32,[None,n_dim])\n",
    "Y = tf.placeholder(tf.float32,[None,n_classes])\n",
    "\n",
    "# Hidden layer 1 params\n",
    "W_1 = tf.Variable(tf.random_normal([n_dim,n_hidden_units_one], mean = 0, stddev=sd))\n",
    "b_1 = tf.Variable(tf.random_normal([n_hidden_units_one], mean = 0, stddev=sd))\n",
    "h_1 = tf.nn.tanh(tf.matmul(X,W_1) + b_1)\n",
    "\n",
    "# Hidden layer 2 params\n",
    "W_2 = tf.Variable(tf.random_normal([n_hidden_units_one,n_hidden_units_two], mean = 0, stddev=sd))\n",
    "b_2 = tf.Variable(tf.random_normal([n_hidden_units_two], mean = 0, stddev=sd))\n",
    "h_2 = tf.nn.sigmoid(tf.matmul(h_1,W_2) + b_2)\n",
    "\n",
    "# Softmax classification initialization\n",
    "W = tf.Variable(tf.random_normal([n_hidden_units_two,n_classes], mean = 0, stddev=sd))\n",
    "b = tf.Variable(tf.random_normal([n_classes], mean = 0, stddev=sd))\n",
    "y_ = tf.nn.softmax(tf.matmul(h_2,W) + b)\n",
    "\n",
    "\n",
    "init = tf.global_variables_initializer()"
   ]
  },
  {
   "cell_type": "code",
   "execution_count": 12,
   "metadata": {
    "collapsed": true
   },
   "outputs": [],
   "source": [
    "# cost_function = \n",
    "cost_function = tf.reduce_mean(-tf.reduce_sum(Y * tf.log(y_), reduction_indices=[1])) \n",
    "optimizer = tf.train.GradientDescentOptimizer(learning_rate).minimize(cost_function)\n",
    "\n",
    "correct_prediction = tf.equal(tf.argmax(y_,1), tf.argmax(Y,1))\n",
    "accuracy = tf.reduce_mean(tf.cast(correct_prediction, tf.float32))"
   ]
  },
  {
   "cell_type": "markdown",
   "metadata": {},
   "source": [
    "### Train/Test split 70/30"
   ]
  },
  {
   "cell_type": "code",
   "execution_count": 13,
   "metadata": {
    "collapsed": true
   },
   "outputs": [],
   "source": [
    "from sklearn.cross_validation import train_test_split"
   ]
  },
  {
   "cell_type": "code",
   "execution_count": 14,
   "metadata": {
    "collapsed": false
   },
   "outputs": [
    {
     "ename": "ValueError",
     "evalue": "all the input array dimensions except for the concatenation axis must match exactly",
     "output_type": "error",
     "traceback": [
      "\u001b[0;31m---------------------------------------------------------------------------\u001b[0m",
      "\u001b[0;31mValueError\u001b[0m                                Traceback (most recent call last)",
      "\u001b[0;32m<ipython-input-14-2f6bdaaf5d39>\u001b[0m in \u001b[0;36m<module>\u001b[0;34m()\u001b[0m\n\u001b[0;32m----> 1\u001b[0;31m \u001b[0mfeatures_and_filenames\u001b[0m \u001b[0;34m=\u001b[0m \u001b[0mnp\u001b[0m\u001b[0;34m.\u001b[0m\u001b[0mconcatenate\u001b[0m\u001b[0;34m(\u001b[0m\u001b[0;34m(\u001b[0m\u001b[0mfeatures\u001b[0m\u001b[0;34m[\u001b[0m\u001b[0;34m:\u001b[0m\u001b[0;34m,\u001b[0m\u001b[0;34m:\u001b[0m\u001b[0mn_dim\u001b[0m\u001b[0;34m]\u001b[0m\u001b[0;34m,\u001b[0m \u001b[0mfile_names\u001b[0m\u001b[0;34m[\u001b[0m\u001b[0;34m:\u001b[0m\u001b[0;34m,\u001b[0m\u001b[0mnp\u001b[0m\u001b[0;34m.\u001b[0m\u001b[0mnewaxis\u001b[0m\u001b[0;34m]\u001b[0m\u001b[0;34m)\u001b[0m\u001b[0;34m,\u001b[0m \u001b[0maxis\u001b[0m\u001b[0;34m=\u001b[0m\u001b[0;36m1\u001b[0m\u001b[0;34m)\u001b[0m\u001b[0;34m\u001b[0m\u001b[0m\n\u001b[0m",
      "\u001b[0;31mValueError\u001b[0m: all the input array dimensions except for the concatenation axis must match exactly"
     ]
    }
   ],
   "source": [
    "features_and_filenames = np.concatenate((features[:,:n_dim], file_names[:,np.newaxis]), axis=1)"
   ]
  },
  {
   "cell_type": "code",
   "execution_count": 24,
   "metadata": {
    "collapsed": true
   },
   "outputs": [],
   "source": [
    "train_x1, test_x1, train_y, test_y = train_test_split(features, one_hot_labels, test_size=0.3, random_state=5, stratify=labels)"
   ]
  },
  {
   "cell_type": "code",
   "execution_count": 25,
   "metadata": {
    "collapsed": false
   },
   "outputs": [],
   "source": [
    "train_x = train_x1\n",
    "test_x = test_x1"
   ]
  },
  {
   "cell_type": "code",
   "execution_count": 26,
   "metadata": {
    "collapsed": false
   },
   "outputs": [
    {
     "data": {
      "text/plain": [
       "array([7, 7, 7, ..., 3, 3, 3])"
      ]
     },
     "execution_count": 26,
     "metadata": {},
     "output_type": "execute_result"
    }
   ],
   "source": [
    "labels"
   ]
  },
  {
   "cell_type": "code",
   "execution_count": 27,
   "metadata": {
    "collapsed": false
   },
   "outputs": [
    {
     "data": {
      "text/plain": [
       "(18225, 1680)"
      ]
     },
     "execution_count": 27,
     "metadata": {},
     "output_type": "execute_result"
    }
   ],
   "source": [
    "np.shape(train_x)"
   ]
  },
  {
   "cell_type": "code",
   "execution_count": 33,
   "metadata": {
    "collapsed": false
   },
   "outputs": [
    {
     "name": "stdout",
     "output_type": "stream",
     "text": [
      "--- Start Training ---\n",
      "Training.......\n",
      "------ Elapsed time -------  Iter ---- Cost \n",
      "------    0.3827960 -------     0 ---- 2.3195612431 \n",
      "------  243.8504970 -------  1000 ---- 1.2210352421 \n",
      "------  487.2281709 -------  2000 ---- 0.7632224560 \n",
      "------  742.1715550 -------  3000 ---- 0.4652549326 \n",
      "------  991.3303599 -------  4000 ---- 0.3801034093 \n",
      "------ 1236.4227009 -------  5000 ---- 0.2654215097 \n",
      "------ 1490.9992599 -------  6000 ---- 0.2026490271 \n",
      "------ 1745.6162410 -------  7000 ---- 0.1725730896 \n",
      "------ 1995.8692510 -------  8000 ---- 0.1696489304 \n",
      "------ 2247.4906979 -------  9000 ---- 0.1264232993 \n",
      "------ 2493.1510339 ------- 10000 ---- 0.1174470931 \n",
      "------ 2731.3025329 ------- 11000 ---- 0.2010377347 \n",
      "------ 2974.7490740 ------- 12000 ---- 0.1245030239 \n",
      "------ 3229.9193890 ------- 13000 ---- 0.0956732333 \n",
      "------ 3477.9909499 ------- 14000 ---- 0.1010806486 \n",
      "------ 3735.6282589 ------- 15000 ---- 0.0764675662 \n",
      "------ 3988.9357131 ------- 16000 ---- 0.0945975929 \n",
      "------ 4243.6174469 ------- 17000 ---- 0.0703931153 \n",
      "------ 4493.2448180 ------- 18000 ---- 0.1275326014 \n",
      "------ 4738.2108951 ------- 19000 ---- 0.0643458813 \n"
     ]
    },
    {
     "data": {
      "image/png": "[encoded data removed]",
      "text/plain": [
       "<matplotlib.figure.Figure at 0x7fb9ac022310>"
      ]
     },
     "metadata": {},
     "output_type": "display_data"
    },
    {
     "name": "stdout",
     "output_type": "stream",
     "text": [
      "F-Score: 0.966073486109\n",
      "Confusion Matrix\n",
      "[[ 975    0    6    0    0    0    0    1    0    3]\n",
      " [   2  151    0    0    1    1    0    3    0    0]\n",
      " [  10    0  903   25    3    1    2    1    5   29]\n",
      " [   3    0   19  716    2    3    8    0    8    9]\n",
      " [   1    0    3    4  852    0    1    0    0    5]\n",
      " [   0    0    1    0    0  943    0    0    0    0]\n",
      " [   0    0    5   29    2    0  117    0    0    3]\n",
      " [   0    0    1    0    0    0    0 1112    0    1]\n",
      " [   0    0   11    5    0    4    0    0  825    6]\n",
      " [   2    0   14    7    2    1    2    4    6  952]]\n",
      "---Training time: 4979.24680305 seconds ---\n",
      "------------------------------------------\n"
     ]
    }
   ],
   "source": [
    "training_epochs = 20000 # number of iteration\n",
    "cost_history = np.empty(shape=[1],dtype=float)\n",
    "y_true, y_pred = None, None\n",
    "print \"--- Start Training ---\"\n",
    "print \"Training.......\"\n",
    "print \"------ Elapsed time -------  Iter ---- Cost \"\n",
    "start_time = time.time()\n",
    "saver = tf.train.Saver()\n",
    "with tf.Session() as sess:\n",
    "    sess.run(init)\n",
    "    for epoch in range(training_epochs):            \n",
    "        _,cost = sess.run([optimizer,cost_function],feed_dict={X:train_x,Y:train_y})\n",
    "        cost_history = np.append(cost_history,cost)\n",
    "        if(epoch % 1000 == 0):\n",
    "            print \"------ {:12.7f} ------- {:5d} ---- {:12.10f} \".format((time.time() - start_time), epoch, cost)\n",
    "           \n",
    "    fig = plt.figure(figsize=(10,8))\n",
    "    plt.plot(cost_history)\n",
    "    plt.ylabel(\"Cost\")\n",
    "    plt.xlabel(\"Iterations\")\n",
    "    plt.axis([0,training_epochs,0,np.max(cost_history)])\n",
    "    plt.show()\n",
    "    save_path = saver.save(sess,\"model/nn_shingled_model_1.ckpt\")\n",
    "    y_pred = sess.run(tf.argmax(y_,1),feed_dict={X: test_x})\n",
    "    y_true = sess.run(tf.argmax(test_y,1))\n",
    "    p,r,f,s = precision_recall_fscore_support(y_true, y_pred, average='micro')\n",
    "    print \"F-Score: {0}\".format(f)\n",
    "    print \"Confusion Matrix\"\n",
    "    print confusion_matrix(y_true, y_pred)\n",
    "print \"---Training time: {0} seconds ---\".format((time.time() - start_time))\n",
    "print \"------------------------------------------\""
   ]
  },
  {
   "cell_type": "markdown",
   "metadata": {},
   "source": [
    "### Error Analysis"
   ]
  },
  {
   "cell_type": "code",
   "execution_count": 34,
   "metadata": {
    "collapsed": false
   },
   "outputs": [],
   "source": [
    "classID = {\n",
    "    0: \"AirCon\",\n",
    "    1: \"Car horn\",\n",
    "    2: \"Children playing\",\n",
    "    3: \"Dog bark\",\n",
    "    4: \"Drilling\",\n",
    "    5: \"Engine idling\",\n",
    "    6: \"Gun shot\",\n",
    "    7: \"Jackhammer\",\n",
    "    8: \"Siren\",\n",
    "    9: \"Street music\"\n",
    "}"
   ]
  },
  {
   "cell_type": "code",
   "execution_count": 35,
   "metadata": {
    "collapsed": false
   },
   "outputs": [
    {
     "name": "stdout",
     "output_type": "stream",
     "text": [
      "************************************************\n",
      " Class AirCon is mistaken with: \n",
      "# Children playing: 6 samples\n",
      "# Jackhammer: 1 samples\n",
      "# Street music: 3 samples\n",
      "************************************************\n",
      " Class Car horn is mistaken with: \n",
      "# AirCon: 2 samples\n",
      "# Drilling: 1 samples\n",
      "# Engine idling: 1 samples\n",
      "# Jackhammer: 3 samples\n",
      "************************************************\n",
      " Class Children playing is mistaken with: \n",
      "# AirCon: 10 samples\n",
      "# Dog bark: 25 samples\n",
      "# Drilling: 3 samples\n",
      "# Engine idling: 1 samples\n",
      "# Gun shot: 2 samples\n",
      "# Jackhammer: 1 samples\n",
      "# Siren: 5 samples\n",
      "# Street music: 29 samples\n",
      "************************************************\n",
      " Class Dog bark is mistaken with: \n",
      "# AirCon: 3 samples\n",
      "# Children playing: 19 samples\n",
      "# Drilling: 2 samples\n",
      "# Engine idling: 3 samples\n",
      "# Gun shot: 8 samples\n",
      "# Siren: 8 samples\n",
      "# Street music: 9 samples\n",
      "************************************************\n",
      " Class Drilling is mistaken with: \n",
      "# AirCon: 1 samples\n",
      "# Children playing: 3 samples\n",
      "# Dog bark: 4 samples\n",
      "# Gun shot: 1 samples\n",
      "# Street music: 5 samples\n",
      "************************************************\n",
      " Class Engine idling is mistaken with: \n",
      "# Children playing: 1 samples\n",
      "************************************************\n",
      " Class Gun shot is mistaken with: \n",
      "# Children playing: 5 samples\n",
      "# Dog bark: 29 samples\n",
      "# Drilling: 2 samples\n",
      "# Street music: 3 samples\n",
      "************************************************\n",
      " Class Jackhammer is mistaken with: \n",
      "# Children playing: 1 samples\n",
      "# Street music: 1 samples\n",
      "************************************************\n",
      " Class Siren is mistaken with: \n",
      "# Children playing: 11 samples\n",
      "# Dog bark: 5 samples\n",
      "# Engine idling: 4 samples\n",
      "# Street music: 6 samples\n",
      "************************************************\n",
      " Class Street music is mistaken with: \n",
      "# AirCon: 2 samples\n",
      "# Children playing: 14 samples\n",
      "# Dog bark: 7 samples\n",
      "# Drilling: 2 samples\n",
      "# Engine idling: 1 samples\n",
      "# Gun shot: 2 samples\n",
      "# Jackhammer: 4 samples\n",
      "# Siren: 6 samples\n",
      "************************************************\n"
     ]
    }
   ],
   "source": [
    "for ID, name in classID.items():\n",
    "    x = y_pred[(y_true == ID)*(y_pred != ID)]  \n",
    "    unique_class, unique_count = np.unique(x, return_counts=True)\n",
    "    print \"************************************************\"\n",
    "    print \" Class {0} is mistaken with: \".format(name)\n",
    "    for c, y in zip(unique_class, unique_count):        \n",
    "        print \"# {0}: {1} samples\".format(classID[c], y)\n",
    "print \"************************************************\""
   ]
  },
  {
   "cell_type": "markdown",
   "metadata": {},
   "source": [
    "### Test"
   ]
  },
  {
   "cell_type": "code",
   "execution_count": 36,
   "metadata": {
    "collapsed": true
   },
   "outputs": [],
   "source": [
    "import pandas as pd"
   ]
  },
  {
   "cell_type": "code",
   "execution_count": 43,
   "metadata": {
    "collapsed": false
   },
   "outputs": [],
   "source": [
    "test_x = np.load(\"nn_shingled_features_test.npy\", allow_pickle=True)\n",
    "test_label = np.load(\"nn_labels_test.npy\", allow_pickle=True)\n",
    "test_file_names = np.load(\"nn_file_names_test.npy\", allow_pickle=True)\n",
    "test_y = one_hot_encode(test_label)\n",
    "col10 = np.zeros(np.shape(test_label)[0])\n",
    "test_y = np.concatenate((test_y, col10[:,np.newaxis]), axis=1)"
   ]
  },
  {
   "cell_type": "code",
   "execution_count": 44,
   "metadata": {
    "collapsed": false
   },
   "outputs": [
    {
     "data": {
      "text/plain": [
       "(5419, 10)"
      ]
     },
     "execution_count": 44,
     "metadata": {},
     "output_type": "execute_result"
    }
   ],
   "source": [
    "np.shape(test_y)"
   ]
  },
  {
   "cell_type": "code",
   "execution_count": 49,
   "metadata": {
    "collapsed": false
   },
   "outputs": [
    {
     "name": "stdout",
     "output_type": "stream",
     "text": [
      "Test\n",
      "F-Score: 0.248016239159\n",
      "Confusion Matrix\n",
      "[[ 17   0   8  10   0   2   0  23  13 516]\n",
      " [ 98  57  71 197  44  18   0   8  36  46]\n",
      " [ 95   0 194  15   6  37   0  36 103 119]\n",
      " [ 56   3  49 263   0  64   7   3  99  80]\n",
      " [ 54   0  37   8  22  23   0 294  46 125]\n",
      " [ 37   0   5   0   0 174   0 139   2 250]\n",
      " [ 29   0  43  68  14  30   3 157  35 190]\n",
      " [ 72   0  45   3  30  23   0 239  22 176]\n",
      " [ 19  12  43   4   4  16   0  53 375 105]\n",
      " [  0   0   0   0   0   0   0   0   0   0]]\n"
     ]
    }
   ],
   "source": [
    "with tf.Session() as sess:\n",
    "    saver.restore(sess,\"model/nn_shingled_model_1.ckpt\")\n",
    "    print \"Test\"\n",
    "    y_pred = sess.run(tf.argmax(y_,1),feed_dict={X: test_x})\n",
    "    y_true = sess.run(tf.argmax(test_y,1))\n",
    "    p,r,f,s = precision_recall_fscore_support(y_true, y_pred, average='micro')\n",
    "    print \"F-Score: {0}\".format(f)\n",
    "    print \"Confusion Matrix\"\n",
    "    print confusion_matrix(y_true, y_pred)"
   ]
  },
  {
   "cell_type": "code",
   "execution_count": 57,
   "metadata": {
    "collapsed": false
   },
   "outputs": [
    {
     "data": {
      "text/plain": [
       "72"
      ]
     },
     "execution_count": 57,
     "metadata": {},
     "output_type": "execute_result"
    }
   ],
   "source": [
    "np.sum((y_pred == 1))"
   ]
  },
  {
   "cell_type": "code",
   "execution_count": 60,
   "metadata": {
    "collapsed": false
   },
   "outputs": [
    {
     "name": "stdout",
     "output_type": "stream",
     "text": [
      "************************************************\n",
      "Class AirCon:\n",
      " True/Total: 17/589\n",
      " Class AirCon is mistaken with: \n",
      "# Children playing: 8 samples\n",
      "# Dog bark: 10 samples\n",
      "# Engine idling: 2 samples\n",
      "# Jackhammer: 23 samples\n",
      "# Siren: 13 samples\n",
      "# Street music: 516 samples\n",
      "************************************************\n",
      "Class Car horn:\n",
      " True/Total: 57/575\n",
      " Class Car horn is mistaken with: \n",
      "# AirCon: 98 samples\n",
      "# Children playing: 71 samples\n",
      "# Dog bark: 197 samples\n",
      "# Drilling: 44 samples\n",
      "# Engine idling: 18 samples\n",
      "# Jackhammer: 8 samples\n",
      "# Siren: 36 samples\n",
      "# Street music: 46 samples\n",
      "************************************************\n",
      "Class Children playing:\n",
      " True/Total: 194/605\n",
      " Class Children playing is mistaken with: \n",
      "# AirCon: 95 samples\n",
      "# Dog bark: 15 samples\n",
      "# Drilling: 6 samples\n",
      "# Engine idling: 37 samples\n",
      "# Jackhammer: 36 samples\n",
      "# Siren: 103 samples\n",
      "# Street music: 119 samples\n",
      "************************************************\n",
      "Class Dog bark:\n",
      " True/Total: 263/624\n",
      " Class Dog bark is mistaken with: \n",
      "# AirCon: 56 samples\n",
      "# Car horn: 3 samples\n",
      "# Children playing: 49 samples\n",
      "# Engine idling: 64 samples\n",
      "# Gun shot: 7 samples\n",
      "# Jackhammer: 3 samples\n",
      "# Siren: 99 samples\n",
      "# Street music: 80 samples\n",
      "************************************************\n",
      "Class Drilling:\n",
      " True/Total: 22/609\n",
      " Class Drilling is mistaken with: \n",
      "# AirCon: 54 samples\n",
      "# Children playing: 37 samples\n",
      "# Dog bark: 8 samples\n",
      "# Engine idling: 23 samples\n",
      "# Jackhammer: 294 samples\n",
      "# Siren: 46 samples\n",
      "# Street music: 125 samples\n",
      "************************************************\n",
      "Class Engine idling:\n",
      " True/Total: 174/607\n",
      " Class Engine idling is mistaken with: \n",
      "# AirCon: 37 samples\n",
      "# Children playing: 5 samples\n",
      "# Jackhammer: 139 samples\n",
      "# Siren: 2 samples\n",
      "# Street music: 250 samples\n",
      "************************************************\n",
      "Class Gun shot:\n",
      " True/Total: 3/569\n",
      " Class Gun shot is mistaken with: \n",
      "# AirCon: 29 samples\n",
      "# Children playing: 43 samples\n",
      "# Dog bark: 68 samples\n",
      "# Drilling: 14 samples\n",
      "# Engine idling: 30 samples\n",
      "# Jackhammer: 157 samples\n",
      "# Siren: 35 samples\n",
      "# Street music: 190 samples\n",
      "************************************************\n",
      "Class Jackhammer:\n",
      " True/Total: 239/610\n",
      " Class Jackhammer is mistaken with: \n",
      "# AirCon: 72 samples\n",
      "# Children playing: 45 samples\n",
      "# Dog bark: 3 samples\n",
      "# Drilling: 30 samples\n",
      "# Engine idling: 23 samples\n",
      "# Siren: 22 samples\n",
      "# Street music: 176 samples\n",
      "************************************************\n",
      "Class Siren:\n",
      " True/Total: 375/631\n",
      " Class Siren is mistaken with: \n",
      "# AirCon: 19 samples\n",
      "# Car horn: 12 samples\n",
      "# Children playing: 43 samples\n",
      "# Dog bark: 4 samples\n",
      "# Drilling: 4 samples\n",
      "# Engine idling: 16 samples\n",
      "# Jackhammer: 53 samples\n",
      "# Street music: 105 samples\n",
      "************************************************\n",
      "Class Street music:\n",
      " True/Total: 0/0\n",
      " Class Street music is mistaken with: \n",
      "************************************************\n"
     ]
    }
   ],
   "source": [
    "for ID, name in classID.items():\n",
    "    x = y_pred[(y_true == ID)*(y_pred != ID)]\n",
    "    correct = np.sum((y_pred == ID)*(y_true == ID))\n",
    "    total = np.sum(y_true == ID)\n",
    "    unique_class, unique_count = np.unique(x, return_counts=True)\n",
    "    print \"************************************************\"\n",
    "    print \"Class {0}:\".format(name)\n",
    "    print \" True/Total: {0}/{1}\".format(correct,total)\n",
    "    print \" Class {0} is mistaken with: \".format(name)\n",
    "    for c, y in zip(unique_class, unique_count):        \n",
    "        print \"# {0}: {1} samples\".format(classID[c], y)\n",
    "        \n",
    "print \"************************************************\""
   ]
  },
  {
   "cell_type": "markdown",
   "metadata": {
    "collapsed": true
   },
   "source": [
    "### Fold 2"
   ]
  },
  {
   "cell_type": "code",
   "execution_count": 64,
   "metadata": {
    "collapsed": true
   },
   "outputs": [],
   "source": [
    "features_f2 = np.load(\"nn_shingled_features_fold_2.npy\", allow_pickle=True)\n",
    "labels_f2 = np.load(\"nn_labels_fold_2.npy\", allow_pickle=True)\n",
    "file_names_f2 = np.load(\"nn_file_names_fold_2.npy\", allow_pickle=True)"
   ]
  },
  {
   "cell_type": "code",
   "execution_count": 65,
   "metadata": {
    "collapsed": true
   },
   "outputs": [],
   "source": [
    "test_x = features_f2\n",
    "test_y = one_hot_encode(labels_f2)"
   ]
  },
  {
   "cell_type": "code",
   "execution_count": 66,
   "metadata": {
    "collapsed": false
   },
   "outputs": [
    {
     "name": "stdout",
     "output_type": "stream",
     "text": [
      "Test\n",
      "F-Score: 0.317801533814\n",
      "Confusion Matrix\n",
      "[[   1    0  581  103   70  609    0  136   17 1770]\n",
      " [   4   16  657   23   11    0    0    1    0   30]\n",
      " [  67    0 1703  158   54   26    1   26   31 1215]\n",
      " [   4    2  315 1749   34   44   60    1   95   74]\n",
      " [  90    0  573  270  878    7   72   92    2  564]\n",
      " [   7    1 1260  105    2   27    4    4  132 1739]\n",
      " [   0    0    6  245   20    1  140    6    0   30]\n",
      " [  19    0  103   31  333    5    1   52   13 2993]\n",
      " [  12    6  640  447    0   18    0    1 1706  173]\n",
      " [  84    8  741  208   67  112    7   90   50 1933]]\n"
     ]
    }
   ],
   "source": [
    "with tf.Session() as sess:\n",
    "    saver.restore(sess,\"model/nn_shingled_model_1.ckpt\")\n",
    "    print \"Test\"\n",
    "    y_pred = sess.run(tf.argmax(y_,1),feed_dict={X: test_x})\n",
    "    y_true = sess.run(tf.argmax(test_y,1))\n",
    "    p,r,f,s = precision_recall_fscore_support(y_true, y_pred, average='micro')\n",
    "    print \"F-Score: {0}\".format(f)\n",
    "    print \"Confusion Matrix\"\n",
    "    print confusion_matrix(y_true, y_pred)"
   ]
  },
  {
   "cell_type": "code",
   "execution_count": 67,
   "metadata": {
    "collapsed": false
   },
   "outputs": [
    {
     "name": "stdout",
     "output_type": "stream",
     "text": [
      "************************************************\n",
      "Class AirCon:\n",
      " True/Total: 1/3287\n",
      " Class AirCon is mistaken with: \n",
      "# Children playing: 581 samples\n",
      "# Dog bark: 103 samples\n",
      "# Drilling: 70 samples\n",
      "# Engine idling: 609 samples\n",
      "# Jackhammer: 136 samples\n",
      "# Siren: 17 samples\n",
      "# Street music: 1770 samples\n",
      "************************************************\n",
      "Class Car horn:\n",
      " True/Total: 16/742\n",
      " Class Car horn is mistaken with: \n",
      "# AirCon: 4 samples\n",
      "# Children playing: 657 samples\n",
      "# Dog bark: 23 samples\n",
      "# Drilling: 11 samples\n",
      "# Jackhammer: 1 samples\n",
      "# Street music: 30 samples\n",
      "************************************************\n",
      "Class Children playing:\n",
      " True/Total: 1703/3281\n",
      " Class Children playing is mistaken with: \n",
      "# AirCon: 67 samples\n",
      "# Dog bark: 158 samples\n",
      "# Drilling: 54 samples\n",
      "# Engine idling: 26 samples\n",
      "# Gun shot: 1 samples\n",
      "# Jackhammer: 26 samples\n",
      "# Siren: 31 samples\n",
      "# Street music: 1215 samples\n",
      "************************************************\n",
      "Class Dog bark:\n",
      " True/Total: 1749/2378\n",
      " Class Dog bark is mistaken with: \n",
      "# AirCon: 4 samples\n",
      "# Car horn: 2 samples\n",
      "# Children playing: 315 samples\n",
      "# Drilling: 34 samples\n",
      "# Engine idling: 44 samples\n",
      "# Gun shot: 60 samples\n",
      "# Jackhammer: 1 samples\n",
      "# Siren: 95 samples\n",
      "# Street music: 74 samples\n",
      "************************************************\n",
      "Class Drilling:\n",
      " True/Total: 878/2548\n",
      " Class Drilling is mistaken with: \n",
      "# AirCon: 90 samples\n",
      "# Children playing: 573 samples\n",
      "# Dog bark: 270 samples\n",
      "# Engine idling: 7 samples\n",
      "# Gun shot: 72 samples\n",
      "# Jackhammer: 92 samples\n",
      "# Siren: 2 samples\n",
      "# Street music: 564 samples\n",
      "************************************************\n",
      "Class Engine idling:\n",
      " True/Total: 27/3281\n",
      " Class Engine idling is mistaken with: \n",
      "# AirCon: 7 samples\n",
      "# Car horn: 1 samples\n",
      "# Children playing: 1260 samples\n",
      "# Dog bark: 105 samples\n",
      "# Drilling: 2 samples\n",
      "# Gun shot: 4 samples\n",
      "# Jackhammer: 4 samples\n",
      "# Siren: 132 samples\n",
      "# Street music: 1739 samples\n",
      "************************************************\n",
      "Class Gun shot:\n",
      " True/Total: 140/448\n",
      " Class Gun shot is mistaken with: \n",
      "# Children playing: 6 samples\n",
      "# Dog bark: 245 samples\n",
      "# Drilling: 20 samples\n",
      "# Engine idling: 1 samples\n",
      "# Jackhammer: 6 samples\n",
      "# Street music: 30 samples\n",
      "************************************************\n",
      "Class Jackhammer:\n",
      " True/Total: 52/3550\n",
      " Class Jackhammer is mistaken with: \n",
      "# AirCon: 19 samples\n",
      "# Children playing: 103 samples\n",
      "# Dog bark: 31 samples\n",
      "# Drilling: 333 samples\n",
      "# Engine idling: 5 samples\n",
      "# Gun shot: 1 samples\n",
      "# Siren: 13 samples\n",
      "# Street music: 2993 samples\n",
      "************************************************\n",
      "Class Siren:\n",
      " True/Total: 1706/3003\n",
      " Class Siren is mistaken with: \n",
      "# AirCon: 12 samples\n",
      "# Car horn: 6 samples\n",
      "# Children playing: 640 samples\n",
      "# Dog bark: 447 samples\n",
      "# Engine idling: 18 samples\n",
      "# Jackhammer: 1 samples\n",
      "# Street music: 173 samples\n",
      "************************************************\n",
      "Class Street music:\n",
      " True/Total: 1933/3300\n",
      " Class Street music is mistaken with: \n",
      "# AirCon: 84 samples\n",
      "# Car horn: 8 samples\n",
      "# Children playing: 741 samples\n",
      "# Dog bark: 208 samples\n",
      "# Drilling: 67 samples\n",
      "# Engine idling: 112 samples\n",
      "# Gun shot: 7 samples\n",
      "# Jackhammer: 90 samples\n",
      "# Siren: 50 samples\n",
      "************************************************\n"
     ]
    }
   ],
   "source": [
    "for ID, name in classID.items():\n",
    "    x = y_pred[(y_true == ID)*(y_pred != ID)]\n",
    "    correct = np.sum((y_pred == ID)*(y_true == ID))\n",
    "    total = np.sum(y_true == ID)\n",
    "    unique_class, unique_count = np.unique(x, return_counts=True)\n",
    "    print \"************************************************\"\n",
    "    print \"Class {0}:\".format(name)\n",
    "    print \" True/Total: {0}/{1}\".format(correct,total)\n",
    "    print \" Class {0} is mistaken with: \".format(name)\n",
    "    for c, y in zip(unique_class, unique_count):        \n",
    "        print \"# {0}: {1} samples\".format(classID[c], y)\n",
    "        \n",
    "print \"************************************************\""
   ]
  },
  {
   "cell_type": "code",
   "execution_count": null,
   "metadata": {
    "collapsed": true
   },
   "outputs": [],
   "source": []
  }
 ],
 "metadata": {
  "anaconda-cloud": {},
  "kernelspec": {
   "display_name": "Python [conda root]",
   "language": "python",
   "name": "conda-root-py"
  },
  "language_info": {
   "codemirror_mode": {
    "name": "ipython",
    "version": 2
   },
   "file_extension": ".py",
   "mimetype": "text/x-python",
   "name": "python",
   "nbconvert_exporter": "python",
   "pygments_lexer": "ipython2",
   "version": "2.7.12"
  }
 },
 "nbformat": 4,
 "nbformat_minor": 0
}
