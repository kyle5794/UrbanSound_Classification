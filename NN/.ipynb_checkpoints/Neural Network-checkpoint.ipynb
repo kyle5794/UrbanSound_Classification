{
 "cells": [
  {
   "cell_type": "code",
   "execution_count": 1,
   "metadata": {
    "collapsed": true
   },
   "outputs": [],
   "source": [
    "import os\n",
    "import time\n",
    "import librosa\n",
    "import numpy as np\n",
    "import tensorflow as tf\n",
    "import cPickle as pickle\n",
    "import matplotlib.pyplot as plt\n",
    "from sklearn.metrics import confusion_matrix\n",
    "from sklearn.metrics import precision_recall_fscore_support\n",
    "\n",
    "%matplotlib inline\n",
    "plt.style.use('ggplot')\n",
    "\n",
    "plt.rcParams['font.family'] = 'serif'\n",
    "plt.rcParams['font.serif'] = 'Ubuntu'\n",
    "plt.rcParams['font.monospace'] = 'Ubuntu Mono'\n",
    "plt.rcParams['font.size'] = 12\n",
    "plt.rcParams['axes.labelsize'] = 11\n",
    "plt.rcParams['axes.labelweight'] = 'bold'\n",
    "plt.rcParams['axes.titlesize'] = 14\n",
    "plt.rcParams['xtick.labelsize'] = 10\n",
    "plt.rcParams['ytick.labelsize'] = 10\n",
    "plt.rcParams['legend.fontsize'] = 11\n",
    "plt.rcParams['figure.titlesize'] = 13"
   ]
  },
  {
   "cell_type": "code",
   "execution_count": 2,
   "metadata": {
    "collapsed": true
   },
   "outputs": [],
   "source": [
    "pickle_file = \"features/US8K_mfcc40meanstd.pickle\"\n",
    "with open(pickle_file, \"rb\") as f:\n",
    "    dataset = pickle.load(f)\n",
    "    X_train = dataset[\"X_train\"]\n",
    "    Y_train = dataset[\"Y_train\"]\n",
    "    X_valid = dataset[\"X_valid\"]\n",
    "    Y_valid = dataset[\"Y_valid\"]\n",
    "    X_test1 = dataset[\"X_test1\"]\n",
    "    Y_test1 = dataset[\"Y_test1\"]\n",
    "    X_test2 = dataset[\"X_test2\"]\n",
    "    Y_test2 = dataset[\"Y_test2\"]\n",
    "    del dataset"
   ]
  },
  {
   "cell_type": "code",
   "execution_count": 3,
   "metadata": {
    "collapsed": false
   },
   "outputs": [
    {
     "name": "stdout",
     "output_type": "stream",
     "text": [
      "('training data: ', (6234, 80), (6234, 10))\n",
      "[ 0.  0.  0.  0.  1.  0.  0.  0.  0.  0.]\n"
     ]
    }
   ],
   "source": [
    "print ('training data: ' , X_train.shape, Y_train.shape)\n",
    "\n",
    "print (Y_train[123])"
   ]
  },
  {
   "cell_type": "markdown",
   "metadata": {},
   "source": [
    "## 1. Tensorflow network"
   ]
  },
  {
   "cell_type": "code",
   "execution_count": 4,
   "metadata": {
    "collapsed": true
   },
   "outputs": [],
   "source": [
    "### \n",
    "N_FEATURES = X_train.shape[1]\n",
    "N_LABELS = Y_train.shape[1]"
   ]
  },
  {
   "cell_type": "code",
   "execution_count": 5,
   "metadata": {
    "collapsed": false
   },
   "outputs": [],
   "source": [
    "## Place holder variables\n",
    "X = tf.placeholder(tf.float32, [None, N_FEATURES])\n",
    "Y = tf.placeholder(tf.float32, [None, N_LABELS])\n",
    "\n",
    "## Helper function to create fully-connected layer\n",
    "def new_fc_layer(in_layer, n_input_features, n_output_layer, activation=''):\n",
    "    weights = tf.Variable(tf.truncated_normal([n_input_features, n_output_layer], stddev=0.1))\n",
    "    biases = tf.Variable(tf.constant(value=1, dtype=tf.float32, shape = [n_output_layer]))\n",
    "    out_layer = tf.matmul(in_layer, weights) + biases\n",
    "    activation = activation.lower()\n",
    "    if(activation == 'relu'):\n",
    "        out_layer = tf.nn.relu(out_layer)\n",
    "    elif(activation == 'tanh'):\n",
    "        out_layer = tf.nn.tanh(out_layer)\n",
    "    elif(activation == 'sigmoid'):\n",
    "        out_layer = tf.nn.sigmoid(out_layer)\n",
    "    return out_layer, weights, biases"
   ]
  },
  {
   "cell_type": "code",
   "execution_count": 6,
   "metadata": {
    "collapsed": false
   },
   "outputs": [
    {
     "name": "stdout",
     "output_type": "stream",
     "text": [
      "Tensor(\"Relu:0\", shape=(?, 64), dtype=float32)\n",
      "Tensor(\"Relu_1:0\", shape=(?, 32), dtype=float32)\n"
     ]
    }
   ],
   "source": [
    "## Hidden layer 1\n",
    "N_HIDDEN_L1 = 64\n",
    "hidden_layer_1, weight_1, biases_1 = new_fc_layer(X, N_FEATURES, N_HIDDEN_L1, 'relu')\n",
    "## Hidden layer 2\n",
    "N_HIDDEN_L2 = 32\n",
    "hidden_layer_2, weight_2, biases_2 = new_fc_layer(hidden_layer_1, N_HIDDEN_L1, N_HIDDEN_L2, 'relu')\n",
    "\n",
    "print (hidden_layer_1)\n",
    "print (hidden_layer_2)"
   ]
  },
  {
   "cell_type": "code",
   "execution_count": 9,
   "metadata": {
    "collapsed": false
   },
   "outputs": [
    {
     "name": "stdout",
     "output_type": "stream",
     "text": [
      "Tensor(\"dropout/mul:0\", shape=(?, 10), dtype=float32)\n",
      "Tensor(\"Softmax_1:0\", shape=(?, 10), dtype=float32)\n"
     ]
    }
   ],
   "source": [
    "## Output layer\n",
    "output_layer, weight_output, biases_output = new_fc_layer(hidden_layer_2, N_HIDDEN_L2, N_LABELS)\n",
    "## Dropout\n",
    "keep_prob = tf.placeholder(tf.float32)\n",
    "output_layer_drop = tf.nn.dropout(output_layer, keep_prob=keep_prob)\n",
    "print (output_layer_drop)\n",
    "y_softmax = tf.nn.softmax(output_layer_drop)\n",
    "print y_softmax"
   ]
  },
  {
   "cell_type": "code",
   "execution_count": 10,
   "metadata": {
    "collapsed": false
   },
   "outputs": [],
   "source": [
    "## Cost function and optimization\n",
    "# BETA = 0.001 #L2 regularization penalty factor\n",
    "LEARNING_RATE = 1e-3\n",
    "cross_entropy = tf.nn.softmax_cross_entropy_with_logits(logits=output_layer_drop, labels=Y)\n",
    "cost = tf.reduce_mean(cross_entropy) # To be added L2 regularization\n",
    "optimizer = tf.train.AdamOptimizer(learning_rate=LEARNING_RATE).minimize(cost)\n",
    "\n",
    "## Making Prediction\n",
    "y_pred = tf.argmax(y_softmax, axis=1)\n",
    "y_true = tf.argmax(Y, axis=1)"
   ]
  },
  {
   "cell_type": "markdown",
   "metadata": {},
   "source": [
    "## 2. Tensorflow training session"
   ]
  },
  {
   "cell_type": "code",
   "execution_count": 11,
   "metadata": {
    "collapsed": true
   },
   "outputs": [],
   "source": [
    "classID = {\n",
    "    0: \"AirCon\",\n",
    "    1: \"Car horn\",\n",
    "    2: \"Children playing\",\n",
    "    3: \"Dog bark\",\n",
    "    4: \"Drilling\",\n",
    "    5: \"Engine idling\",\n",
    "    6: \"Gun shot\",\n",
    "    7: \"Jackhammer\",\n",
    "    8: \"Siren\",\n",
    "    9: \"Street music\"\n",
    "}\n",
    "\n",
    "## Helper function for optimization\n",
    "def optimize(train_x, train_y, n_epochs, batch_size, session):\n",
    "        n_samples = train_x.shape[0]\n",
    "        sample_IDs = np.arange(n_samples)\n",
    "        n_iterations = np.int(np.floor(n_samples/batch_size))+1\n",
    "        start_time = time.time()\n",
    "        cost_history = np.empty(shape=[1],dtype=float)\n",
    "        print \"Training.......\"\n",
    "        print \"------ Elapsed time ------- Epoch ---- Cost \"\n",
    "\n",
    "        for epoch in np.arange(n_epochs+1):\n",
    "            np.random.shuffle(sample_IDs)\n",
    "            train_x_p, train_y_p = train_x[sample_IDs], train_y[sample_IDs]\n",
    "            for itr in np.arange(n_iterations):\n",
    "                start = (itr * batch_size) % (n_samples - batch_size)\n",
    "                batch_x, batch_y = train_x_p[start:start + batch_size], train_y_p[start:start + batch_size]\n",
    "                feed_dict_train = {X: batch_x, Y: batch_y, keep_prob: 0.5}\n",
    "                _, c = session.run([optimizer, cost], feed_dict=feed_dict_train)\n",
    "            if(epoch % (n_epochs/10) == 0):\n",
    "                print \"------ {:12.7f} ------- {:5d} ---- {:12.10f} \".format((time.time() - start_time), epoch, c)\n",
    "            cost_history = np.append(cost_history,c)\n",
    "        print (\"---Running time: %s seconds ---\" % (time.time() - start_time))\n",
    "        print ('*'*50)\n",
    "        fig = plt.figure(figsize=(10,5))\n",
    "        plt.plot(cost_history)\n",
    "        plt.axis([0,epoch,0,np.max(cost_history)])\n",
    "        plt.show()\n",
    "        \n",
    "## Helper function to print confusion matrix\n",
    "def make_prediction(test_x, test_y, session):\n",
    "    print \"Making prediction.......\"\n",
    "    start_time = time.time()\n",
    "    feed_dict_test = {X: test_x, Y: test_y, keep_prob: 1}\n",
    "    pred, true = session.run([y_pred, y_true], feed_dict=feed_dict_test)\n",
    "    p,r,f,s = precision_recall_fscore_support(true, pred, average='micro')\n",
    "    \n",
    "    print (\"F-Score: {0}\".format(f))\n",
    "    print (\"Confusion Matrix\")\n",
    "    print confusion_matrix(true, pred)\n",
    "#     print (\"Analyzing result\")\n",
    "#     for ID, name in classID.items():\n",
    "#         x = pred[(true == ID)*(pred != ID)]  \n",
    "#         unique_class, unique_count = np.unique(x, return_counts=True)\n",
    "#         print ('-'*50)\n",
    "#         print \" Class {0} is mistaken with: \".format(name)\n",
    "#         for c, y in zip(unique_class, unique_count):        \n",
    "#             print \"# {0}: {1} samples\".format(classID[c], y)\n",
    "#     print ('-'*50)\n",
    "    print (\"---Running time: {0} seconds ---\".format((time.time() - start_time)))\n",
    "    print ('*'*50)\n",
    "    print\n",
    "                    "
   ]
  },
  {
   "cell_type": "code",
   "execution_count": 12,
   "metadata": {
    "collapsed": false
   },
   "outputs": [
    {
     "name": "stdout",
     "output_type": "stream",
     "text": [
      "Training.......\n",
      "------ Elapsed time ------- Epoch ---- Cost \n",
      "------    0.1699131 -------     0 ---- 1.1364666224 \n",
      "------    2.0622540 -------    10 ---- 0.3103249669 \n",
      "------    3.9570241 -------    20 ---- 0.2015102059 \n",
      "------    5.9093599 -------    30 ---- 0.1553073525 \n",
      "------    7.8667941 -------    40 ---- 0.0859135911 \n",
      "------    9.7821651 -------    50 ---- 0.1199428737 \n",
      "------   11.6909471 -------    60 ---- 0.0783631578 \n",
      "------   13.6555080 -------    70 ---- 0.0693885684 \n",
      "------   15.6423190 -------    80 ---- 0.2365869284 \n",
      "------   17.5785060 -------    90 ---- 0.0509647578 \n",
      "------   19.4093151 -------   100 ---- 0.0103222514 \n",
      "---Running time: 19.409496069 seconds ---\n",
      "**************************************************\n"
     ]
    },
    {
     "data": {
      "image/png": "[encoded data removed]",
      "text/plain": [
       "<matplotlib.figure.Figure at 0x7f375cd4ad90>"
      ]
     },
     "metadata": {},
     "output_type": "display_data"
    },
    {
     "name": "stdout",
     "output_type": "stream",
     "text": [
      "Making prediction on training set\n",
      "Making prediction.......\n",
      "F-Score: 0.989733718319\n",
      "Confusion Matrix\n",
      "[[684   2   1   5   0   1   0   0   7   0]\n",
      " [  0 340   0   0   0   0   0   0   0   0]\n",
      " [  0   0 684  10   2   0   0   0   2   2]\n",
      " [  0   0   0 698   0   0   0   0   2   0]\n",
      " [  0   0   0   0 693   0   0   7   0   0]\n",
      " [  0   0   0   0   0 694   0   0   0   0]\n",
      " [  0   0   0   0   0   0 245   0   0   0]\n",
      " [  0   0   0   0   0   0   0 760   0   0]\n",
      " [  0   0   0   4   0   1   0   0 690   0]\n",
      " [  0   1   4  10   0   0   0   2   1 682]]\n",
      "---Running time: 0.0206661224365 seconds ---\n",
      "**************************************************\n",
      "\n",
      "Making prediction on validation set\n",
      "Making prediction.......\n",
      "F-Score: 0.565322095123\n",
      "Confusion Matrix\n",
      "[[ 81   6  10  16  36  16   2   4   3  26]\n",
      " [  1  40   2   2   0   0   2   4   2   3]\n",
      " [  8   5 125  17   1   3   0   4   5  32]\n",
      " [  0   0   8 167   7   0   3   1   2  12]\n",
      " [  9   9   5  19 107   0   0  27  12  12]\n",
      " [ 14   7  13  38  12  77   0  11  29  12]\n",
      " [  0   1   0  15   5   0  76   0   0   0]\n",
      " [ 44   2   2   0  22   6   0  63   0   5]\n",
      " [  2   9   6   5   0  36   0   2  83   8]\n",
      " [  7   7  29  19  13   3   0   0   2 120]]\n",
      "---Running time: 0.00612807273865 seconds ---\n",
      "**************************************************\n",
      "\n",
      "Making training prediction on test 1 set\n",
      "Making prediction.......\n",
      "F-Score: 0.617682198327\n",
      "Confusion Matrix\n",
      "[[35  9 18  7  0  0  0  6  5 20]\n",
      " [ 4 26  0  2  0  1  0  0  0  0]\n",
      " [ 0  0 73 12  0  0  1  0  7  7]\n",
      " [ 0  1  8 75  4  0  7  0  3  2]\n",
      " [ 2  0  4  1 39  9  1 36  7  1]\n",
      " [ 4  0 13  0  0 71  0  2  0  3]\n",
      " [ 0  0  0  2  0  0 30  0  0  0]\n",
      " [ 1  1  0  1 25  0  0 68  0  0]\n",
      " [ 8  3 27 10  0  2  0  0 30  3]\n",
      " [ 0  5 15  2  6  0  0  1  1 70]]\n",
      "---Running time: 0.00404906272888 seconds ---\n",
      "**************************************************\n",
      "\n",
      "Making training prediction on test 2 set\n",
      "Making prediction.......\n",
      "F-Score: 0.5\n",
      "Confusion Matrix\n",
      "[[ 3  0  0  0  0 16  0  1  0  0]\n",
      " [ 0  8  0 10  2  0  0  0  0  0]\n",
      " [ 1  0  6  2  0  3  0  0  0  8]\n",
      " [ 0  0  0 17  0  1  1  0  0  1]\n",
      " [ 0  1  0  0 15  1  0  3  0  0]\n",
      " [ 0  1  0  5  2  8  0  4  0  0]\n",
      " [ 0  0  0  3  5  1 10  0  0  1]\n",
      " [ 1  2  0  1  0  4  0 12  0  0]\n",
      " [ 0  0  2  0  4  0  0  0 11  3]\n",
      " [ 0  0  0  0  0  0  0  0  0  0]]\n",
      "---Running time: 0.00513291358948 seconds ---\n",
      "**************************************************\n",
      "\n"
     ]
    }
   ],
   "source": [
    "\n",
    "BATCH_SIZE = 50\n",
    "TRAINING_EPOCHS = 100\n",
    "with tf.Session() as sess:\n",
    "    sess = tf.Session()\n",
    "    sess.run(tf.global_variables_initializer())\n",
    "    optimize(X_train, Y_train, TRAINING_EPOCHS, BATCH_SIZE, sess)\n",
    "    \n",
    "    print (\"Making prediction on training set\")\n",
    "    make_prediction(X_train, Y_train, sess)\n",
    "    print (\"Making prediction on validation set\")\n",
    "    make_prediction(X_valid, Y_valid, sess)\n",
    "    print (\"Making training prediction on test 1 set\")\n",
    "    make_prediction(X_test1, Y_test1, sess)\n",
    "    print (\"Making training prediction on test 2 set\")\n",
    "    make_prediction(X_test2, Y_test2, sess)\n",
    "\n",
    "    \n",
    "    \n",
    "    "
   ]
  },
  {
   "cell_type": "code",
   "execution_count": null,
   "metadata": {
    "collapsed": true
   },
   "outputs": [],
   "source": []
  }
 ],
 "metadata": {
  "anaconda-cloud": {},
  "kernelspec": {
   "display_name": "Python [conda root]",
   "language": "python",
   "name": "conda-root-py"
  },
  "language_info": {
   "codemirror_mode": {
    "name": "ipython",
    "version": 2
   },
   "file_extension": ".py",
   "mimetype": "text/x-python",
   "name": "python",
   "nbconvert_exporter": "python",
   "pygments_lexer": "ipython2",
   "version": "2.7.12"
  }
 },
 "nbformat": 4,
 "nbformat_minor": 1
}
