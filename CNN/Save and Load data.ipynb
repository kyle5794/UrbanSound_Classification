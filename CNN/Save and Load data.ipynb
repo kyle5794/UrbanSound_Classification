{
 "cells": [
  {
   "cell_type": "code",
   "execution_count": 1,
   "metadata": {
    "collapsed": true
   },
   "outputs": [],
   "source": [
    "import glob\n",
    "import os\n",
    "import librosa\n",
    "import matplotlib.pyplot as plt\n",
    "import tensorflow as tf\n",
    "import numpy as np\n",
    "from matplotlib.pyplot import specgram\n",
    "import time\n",
    "from sklearn.cross_validation import train_test_split\n",
    "%matplotlib inline\n",
    "plt.style.use('ggplot')\n",
    "\n",
    "plt.rcParams['font.family'] = 'serif'\n",
    "plt.rcParams['font.serif'] = 'Ubuntu'\n",
    "plt.rcParams['font.monospace'] = 'Ubuntu Mono'\n",
    "plt.rcParams['font.size'] = 12\n",
    "plt.rcParams['axes.labelsize'] = 11\n",
    "plt.rcParams['axes.labelweight'] = 'bold'\n",
    "plt.rcParams['axes.titlesize'] = 12\n",
    "plt.rcParams['xtick.labelsize'] = 9\n",
    "plt.rcParams['ytick.labelsize'] = 9\n",
    "plt.rcParams['legend.fontsize'] = 11\n",
    "plt.rcParams['figure.titlesize'] = 13"
   ]
  },
  {
   "cell_type": "markdown",
   "metadata": {},
   "source": [
    "## Load augmentated audio then save them as numpy array"
   ]
  },
  {
   "cell_type": "code",
   "execution_count": null,
   "metadata": {
    "collapsed": true
   },
   "outputs": [],
   "source": [
    "# # ----------------\n",
    "# # DONE\n",
    "# # ----------------\n",
    "\n",
    "# N_PARTS = 20\n",
    "# def save_augmented_sounds(parent_dir,sub_dirs, destination, file_ext=\"*.wav\"):\n",
    "#     \"\"\"\"\" The function loads .wav augmented audio from parerent_dir/sub_dir/ using librosa library and save it\n",
    "#     to destination folder as numpy array\n",
    "#     Audio data is loaded at default sample rate at 22050 kHz\n",
    "#     Args:\n",
    "#         parent_dir (string): name of the parents directory\n",
    "#         sub_dirs (list_like): list of sub directories\n",
    "#         destinatio (string): name of destination folder where data is saved\n",
    "#         file_extension (string): default value .wav\n",
    "#     \"\"\"\"\"\n",
    "#     start_time = time.time() # Calculate running time\n",
    "#     for sub_dir in sub_dirs:          \n",
    "#         path = os.path.join(parent_dir, sub_dir)\n",
    "#         folder = os.listdir(path) \n",
    "#         n_files = len(folder) # Get number of files inside sub_dir\n",
    "#         n_patches = np.int32(np.floor(n_files/(N_FOLDS-1)))\n",
    "#         # Divide the original folder into N_FOLDS smaller part\n",
    "#         for part in np.arange(N_PARTS):\n",
    "#             fold_start = fold*n_patches       \n",
    "#             namePath = []\n",
    "#             sounds = []\n",
    "#             labels = []\n",
    "#             for idx in np.arange(fold_start, fold_start+n_patches):\n",
    "#                 # Stop when the folder is exhausted\n",
    "#                 if(idx >= n_files):\n",
    "#                     break\n",
    "#                 file_path = os.path.join(path, folder[idx])\n",
    "#                 sound_clip,sr = librosa.load(file_path) # Load the audio file as numpy array\n",
    "#                 sounds.append(sound_clip)\n",
    "\n",
    "#                 namePath.append(file_path) # Save the name of the audio file\n",
    "\n",
    "#                 label = file_path.split('/')[-1].split('-')[1] # Get the label of the audio file\n",
    "#                 labels.append(label)\n",
    "\n",
    "          \n",
    "#             np.save('../../data/UrbanSound8K/audio/'+destination+'/'+sub_dir+\"/audio_data_\"+str(part+1), np.array(sounds), allow_pickle=True)\n",
    "#             np.save('../../data/UrbanSound8K/audio/'+destination+'/'+sub_dir+\"/audio_labels_\"+str(part+1), np.array(labels,dtype = np.int), allow_pickle=True)\n",
    "#             np.save('../../data/UrbanSound8K/audio/'+destination+'/'+sub_dir+\"/audio_file_names_\"+str(part+1), np.array(namePath,dtype = np.str_), allow_pickle=True)\n",
    "\n",
    "#         print \"Save folder {0} successfully\".format(sub_dir)\n",
    "#     print \"---Running time: {0} seconds ---\".format(time.time() - start_time)\n",
    "    "
   ]
  },
  {
   "cell_type": "markdown",
   "metadata": {},
   "source": [
    "### Time stretched audio"
   ]
  },
  {
   "cell_type": "code",
   "execution_count": null,
   "metadata": {
    "collapsed": true
   },
   "outputs": [],
   "source": [
    "# # ----------------\n",
    "# # DONE\n",
    "# # ----------------\n",
    "\n",
    "# # Save time stretched audio data as numpy array\n",
    "# print \"Save time stretched audio data as numpy array\"\n",
    "# parent_dir = '../../data/UrbanSound8K/audio/time_stretching_audio'\n",
    "# sub_dirs= ['fold1','fold2', 'fold3', 'fold4', 'fold5', 'fold6', 'fold7', 'fold8','fold9', 'fold10']\n",
    "# # sub_dirs= ['fold1']\n",
    "# destination_dir = \"time_stretching\"\n",
    "# print \"--- Saving.... ---\"\n",
    "# \n",
    "# save_augmented_sounds(parent_dir,sub_dirs, destination_dir)\n",
    "# "
   ]
  },
  {
   "cell_type": "markdown",
   "metadata": {},
   "source": [
    "### Pitch shifting audio"
   ]
  },
  {
   "cell_type": "code",
   "execution_count": null,
   "metadata": {
    "collapsed": true
   },
   "outputs": [],
   "source": [
    "# # ----------------\n",
    "# # DONE\n",
    "# # ----------------\n",
    "\n",
    "# # Save pitch shifted audio data as numpy array\n",
    "# print \"Save pitch shifted audio data as numpy array\"\n",
    "# parent_dir = '../../data/UrbanSound8K/audio/pitch_shifting_audio'\n",
    "# sub_dirs= ['fold1','fold2', 'fold3', 'fold4', 'fold5', 'fold6', 'fold7', 'fold8','fold9', 'fold10']\n",
    "# # sub_dirs= ['fold1']\n",
    "# destination_dir = \"pitch_shifting\"\n",
    "# print \"--- Saving.... ---\"\n",
    "# \n",
    "# save_augmented_sounds(parent_dir,sub_dirs, destination_dir)\n",
    "# "
   ]
  },
  {
   "cell_type": "markdown",
   "metadata": {},
   "source": [
    "## Extract log scaled mel spectrogram wtih 128 bands"
   ]
  },
  {
   "cell_type": "code",
   "execution_count": null,
   "metadata": {
    "collapsed": true
   },
   "outputs": [],
   "source": [
    "# # ----------------\n",
    "# # DONE\n",
    "# # ----------------\n",
    "\n",
    "\n",
    "# SR = 22050\n",
    "# N_PARTS = 20\n",
    "# def extract_train_features(parent_dirs,sub_dirs,  file_ext=\".npy\",  bands = 128, frames = 128):\n",
    "#     \"\"\"\"\" The function extracts log mel feature from audio data (numpy array) from parerent_dir/sub_dir/ using librosa library\n",
    "#     Audio data is processed with sample rate at 22050 kHz\n",
    "#     Args:\n",
    "#         parent_dir (list_like): list of parents directory\n",
    "#         sub_dirs (list_like): list of sub directories\n",
    "#         bands (int): number of mel band\n",
    "#         frames (int): number of desired frames\n",
    "#     \"\"\"\"\"\n",
    "#     print \"Extract log mel features from audio data\"\n",
    "#     print \"Extracting.........\"\n",
    "#     start_time = time.time()\n",
    "#     d = \"/audio_data_\"\n",
    "#     l = \"/audio_labels_\"\n",
    "#     n = \"/audio_file_names_\"\n",
    "\n",
    "#     for sub_dir, i in zip(sub_dirs, np.arange(10)):\n",
    "#         log_specgrams = []\n",
    "#         sound_name = []\n",
    "#         sound_labels = []\n",
    "#         for parent_dir in parent_dirs:\n",
    "#             path = os.path.join(parent_dir, sub_dir)\n",
    "            \n",
    "#             for part in np.arange(N_PARTS):\n",
    "#                 data_file = np.load(path + d + str(part+1) + file_ext, allow_pickle=True)\n",
    "#                 label_file = np.load(path + l + str(part+1) + file_ext, allow_pickle=True)\n",
    "#                 name_file = np.load(path + l + str(part+1) + file_ext, allow_pickle=True)\n",
    "#                 length = np.shape(data_file)[0]\n",
    "#                 for idx in np.arange(length):\n",
    "\n",
    "#                     melspec = librosa.feature.melspectrogram(data_file[idx], sr=SR, n_fft=512, hop_length=512)\n",
    "#                     n_frames = np.shape(melspec)[1]\n",
    "#                     if(n_frames >= frames):\n",
    "                        \n",
    "#                         logspec = librosa.logamplitude(melspec)\n",
    "#                         logspec = logspec.flatten()\n",
    "#                         log_specgrams.append(logspec)\n",
    "#                         sound_name.append(name_file[idx])\n",
    "#                         sound_labels.append(label_file[idx])    \n",
    "        \n",
    "#         # Saving features\n",
    "#         print len(log_specgrams)\n",
    "#         if(len(log_specgrams) != 0):\n",
    "#             np.save(\"train_data/cnn_train_features_full_part_\"+str(i+1), np.array(log_specgrams), allow_pickle=True)\n",
    "#             np.save(\"train_data/cnn_train_labels_full_part_\"+str(i+1), np.array(sound_labels,dtype = np.int), allow_pickle=True)\n",
    "#             np.save(\"train_data/cnn_train_file_names_full_part_\"+str(i+1), np.array(sound_name,dtype = np.str_), allow_pickle=True)\n",
    "#     print \"---Running time: {0} seconds ---\".format(time.time() - start_time)"
   ]
  },
  {
   "cell_type": "code",
   "execution_count": 2,
   "metadata": {
    "collapsed": true
   },
   "outputs": [],
   "source": [
    "### Augmentated and original data"
   ]
  },
  {
   "cell_type": "code",
   "execution_count": null,
   "metadata": {
    "collapsed": true
   },
   "outputs": [],
   "source": [
    "# # ----------------\n",
    "# # DONE\n",
    "# # ----------------\n",
    "\n",
    "# parent_dirs=[\"../../data/UrbanSound8K/audio/pitch_shifting\",\n",
    "#             \"../../data/UrbanSound8K/audio/time_stretching\",\n",
    "#             \"../../data/UrbanSound8K/audio/original\"]\n",
    "# sub_dirs= ['fold1','fold2', 'fold3', 'fold4', 'fold5', 'fold6', 'fold7', 'fold8','fold9', 'fold10']\n",
    "\n",
    "# extract_train_features(parent_dirs=parent_dirs, sub_dirs=sub_dirs)"
   ]
  }
 ],
 "metadata": {
  "kernelspec": {
   "display_name": "Python [conda root]",
   "language": "python",
   "name": "conda-root-py"
  },
  "language_info": {
   "codemirror_mode": {
    "name": "ipython",
    "version": 2
   },
   "file_extension": ".py",
   "mimetype": "text/x-python",
   "name": "python",
   "nbconvert_exporter": "python",
   "pygments_lexer": "ipython2",
   "version": "2.7.12"
  }
 },
 "nbformat": 4,
 "nbformat_minor": 1
}
