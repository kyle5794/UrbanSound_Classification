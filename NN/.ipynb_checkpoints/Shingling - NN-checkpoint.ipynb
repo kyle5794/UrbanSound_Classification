{
 "cells": [
  {
   "cell_type": "code",
   "execution_count": 1,
   "metadata": {
    "collapsed": true
   },
   "outputs": [],
   "source": [
    "import glob\n",
    "import os\n",
    "import librosa\n",
    "import numpy as np\n",
    "import matplotlib.pyplot as plt\n",
    "from matplotlib.pyplot import specgram\n",
    "import time\n",
    "%matplotlib inline\n",
    "plt.style.use('ggplot')\n",
    "\n",
    "plt.rcParams['font.family'] = 'serif'\n",
    "plt.rcParams['font.serif'] = 'Ubuntu'\n",
    "plt.rcParams['font.monospace'] = 'Ubuntu Mono'\n",
    "plt.rcParams['font.size'] = 12\n",
    "plt.rcParams['axes.labelsize'] = 11\n",
    "plt.rcParams['axes.labelweight'] = 'bold'\n",
    "plt.rcParams['axes.titlesize'] = 14\n",
    "plt.rcParams['xtick.labelsize'] = 10\n",
    "plt.rcParams['ytick.labelsize'] = 10\n",
    "plt.rcParams['legend.fontsize'] = 11\n",
    "plt.rcParams['figure.titlesize'] = 13"
   ]
  },
  {
   "cell_type": "code",
   "execution_count": 3,
   "metadata": {
    "collapsed": true
   },
   "outputs": [],
   "source": [
    "EPSILON = 10e-10\n",
    "def extract_feature(file_name):\n",
    "    X, sample_rate = librosa.load(file_name)\n",
    "    stft = np.abs(librosa.stft(X))\n",
    "    mfccs = np.mean(librosa.feature.mfcc(y=X, sr=sample_rate, n_mfcc=40).T,axis=0)\n",
    "    #chroma = np.mean(librosa.feature.chroma_stft(S=stft, sr=sample_rate).T,axis=0)\n",
    "    raw_mel = librosa.feature.melspectrogram(X, sr=sample_rate).T\n",
    "    mel = np.mean(raw_mel, axis=0)\n",
    "    processed_mel = raw_mel + EPSILON\n",
    "    logMel = np.mean(np.log(processed_mel),axis=0)\n",
    "    #contrast = np.mean(librosa.feature.spectral_contrast(S=stft, sr=sample_rate).T,axis=0)\n",
    "    #tonnetz = np.mean(librosa.feature.tonnetz(y=librosa.effects.harmonic(X), sr=sample_rate).T,axis=0)\n",
    "    return mfccs,logMel, mel\n",
    "\n",
    "def parse_audio_files(parent_dir,sub_dirs,file_ext='*.wav'):\n",
    "    features, labels, namePath = np.empty((0,296)), np.empty(0), np.empty(0)\n",
    "    for label, sub_dir in enumerate(sub_dirs):\n",
    "        for fn in glob.glob(os.path.join(parent_dir, sub_dir, file_ext)):\n",
    "            mfccs, logmel, mel = extract_feature(fn)\n",
    "            ext_features = np.hstack([mfccs,logmel, mel])\n",
    "            features = np.vstack([features,ext_features])\n",
    "            labels = np.append(labels, fn.split('/')[-1].split('-')[1])\n",
    "            namePath = np.append(namePath, fn)\n",
    "    return np.array(features), np.array(labels, dtype = np.int), np.array(namePath, dtype=np.string_)\n",
    "\n",
    "def one_hot_encode(labels):\n",
    "    n_labels = len(labels)\n",
    "    n_unique_labels = len(np.unique(labels))\n",
    "    one_hot_encode = np.zeros((n_labels,n_unique_labels))\n",
    "    one_hot_encode[np.arange(n_labels), labels] = 1\n",
    "    return one_hot_encode\n",
    "\n",
    "def one_hot_decode(labels):\n",
    "    n_labels, n_unique_labels = np.shape(labels)\n",
    "    one_hot_decode = np.zeros((n_labels))\n",
    "    for idx in range(n_labels):\n",
    "        for l in range(n_unique_labels):\n",
    "            if(labels[idx, l] == 1):\n",
    "                one_hot_decode[idx] = l\n",
    "                break;\n",
    "    return one_hot_decode"
   ]
  },
  {
   "cell_type": "code",
   "execution_count": 4,
   "metadata": {
    "collapsed": true
   },
   "outputs": [],
   "source": [
    "x = extract_feature(\"../../data/UrbanSound8K/audio/fold1/7061-6-0-0.wav\")\n",
    "nfMfccs = np.shape(x[0])[0]\n",
    "nfLogMel = np.shape(x[1])[0]\n",
    "nfMel = np.shape(x[2])[0]"
   ]
  },
  {
   "cell_type": "code",
   "execution_count": 5,
   "metadata": {
    "collapsed": false
   },
   "outputs": [
    {
     "name": "stdout",
     "output_type": "stream",
     "text": [
      "Number of features\n",
      "* Mfcc: 40\n",
      "* logMel 128\n",
      "* Mel 128\n"
     ]
    }
   ],
   "source": [
    "print \"Number of features\"\n",
    "print \"* Mfcc: {0}\".format(nfMfccs)\n",
    "print \"* logMel {0}\".format(nfLogMel)\n",
    "print \"* Mel {0}\".format(nfMel)"
   ]
  },
  {
   "cell_type": "code",
   "execution_count": 7,
   "metadata": {
    "collapsed": false
   },
   "outputs": [
    {
     "name": "stdout",
     "output_type": "stream",
     "text": [
      "---Extracting features.... ---\n",
      "---Loading time: 192.633636951 seconds ---\n"
     ]
    }
   ],
   "source": [
    "parent_dir = '../../data/UrbanSound8K/audio/'\n",
    "sub_dirs = ['fold1']\n",
    "print \"---Extracting features.... ---\"\n",
    "start_time = time.time()\n",
    "features, labels, file_names = parse_audio_files(parent_dir,sub_dirs)\n",
    "print \"---Loading time: {0} seconds ---\".format(time.time() - start_time)"
   ]
  },
  {
   "cell_type": "code",
   "execution_count": 8,
   "metadata": {
    "collapsed": true
   },
   "outputs": [],
   "source": [
    "one_hot_labels = one_hot_encode(labels)"
   ]
  },
  {
   "cell_type": "markdown",
   "metadata": {},
   "source": [
    "### Shingling"
   ]
  },
  {
   "cell_type": "code",
   "execution_count": 54,
   "metadata": {
    "collapsed": true
   },
   "outputs": [],
   "source": [
    "window_length = 10\n",
    "hop_length = 5"
   ]
  },
  {
   "cell_type": "code",
   "execution_count": 72,
   "metadata": {
    "collapsed": false
   },
   "outputs": [],
   "source": [
    "def shingle_features(feature, window_length, hop_length):\n",
    "    nFrames, nFeatures = np.shape(feature)\n",
    "    nMovingWindow = np.floor((nFrames-hop_length)/(window_length - hop_length))\n",
    "    new_samples = np.zeros((nMovingWindow, nFeatures*window_length))\n",
    "    for window in np.arange(nMovingWindow):\n",
    "        start = window*hop_length\n",
    "        end = start + window_length\n",
    "        new_samples[window,:] = np.concatenate([feature[i] for i in np.arange(start, end)], axis=0)\n",
    "    return new_samples    "
   ]
  },
  {
   "cell_type": "code",
   "execution_count": 73,
   "metadata": {
    "collapsed": true
   },
   "outputs": [],
   "source": [
    "def extract_shingled_features(file_name):\n",
    "    X, sample_rate = librosa.load(file_name)\n",
    "#     raw_mfccs = librosa.feature.mfcc(y=X, sr=sample_rate, n_mfcc=40).T\n",
    "    raw_mel = librosa.feature.melspectrogram(X, sr=sample_rate).T\n",
    "    processed_mel = raw_mel + EPSILON\n",
    "    logmel = np.log(processed_mel)\n",
    "    shingling = shingle_features(logmel, window_length=window_length, hop_length=hop_length)\n",
    "    return shingling"
   ]
  },
  {
   "cell_type": "code",
   "execution_count": 74,
   "metadata": {
    "collapsed": false
   },
   "outputs": [
    {
     "name": "stdout",
     "output_type": "stream",
     "text": [
      "10\n",
      "Start: 0.0. End: 10.0\n",
      "Start: 5.0. End: 15.0\n",
      "Start: 10.0. End: 20.0\n",
      "Start: 15.0. End: 25.0\n",
      "Start: 20.0. End: 30.0\n",
      "Start: 25.0. End: 35.0\n",
      "Start: 30.0. End: 40.0\n",
      "Start: 35.0. End: 45.0\n",
      "Start: 40.0. End: 50.0\n",
      "Start: 45.0. End: 55.0\n",
      "Start: 50.0. End: 60.0\n",
      "Start: 55.0. End: 65.0\n",
      "Start: 60.0. End: 70.0\n",
      "Start: 65.0. End: 75.0\n",
      "Start: 70.0. End: 80.0\n",
      "Start: 75.0. End: 85.0\n",
      "Start: 80.0. End: 90.0\n",
      "Start: 85.0. End: 95.0\n"
     ]
    },
    {
     "name": "stderr",
     "output_type": "stream",
     "text": [
      "/home/kyle/anaconda2/lib/python2.7/site-packages/ipykernel/__main__.py:4: VisibleDeprecationWarning: using a non-integer number instead of an integer will result in an error in the future\n",
      "/home/kyle/anaconda2/lib/python2.7/site-packages/ipykernel/__main__.py:10: VisibleDeprecationWarning: using a non-integer number instead of an integer will result in an error in the future\n"
     ]
    }
   ],
   "source": [
    "k = extract_shingling_features(\"../../data/UrbanSound8K/audio/fold1/7061-6-0-0.wav\")"
   ]
  },
  {
   "cell_type": "code",
   "execution_count": 75,
   "metadata": {
    "collapsed": false
   },
   "outputs": [
    {
     "data": {
      "text/plain": [
       "(18, 1280)"
      ]
     },
     "execution_count": 75,
     "metadata": {},
     "output_type": "execute_result"
    }
   ],
   "source": [
    "def parse_audio_files(parent_dir,sub_dirs,file_ext='*.wav', shingling=False):\n",
    "    features, labels, namePath = np.empty((0,296)), np.empty(0), np.empty(0)\n",
    "    for label, sub_dir in enumerate(sub_dirs):\n",
    "        for fn in glob.glob(os.path.join(parent_dir, sub_dir, file_ext)):\n",
    "            mfccs, logmel, mel = extract_feature(fn)\n",
    "            if(shingling):\n",
    "                \n",
    "            else:\n",
    "                mfccs, logmel, mel = extract_feature(fn)\n",
    "            ext_features = np.hstack([mfccs,logmel, mel])\n",
    "            features = np.vstack([features,ext_features])\n",
    "            labels = np.append(labels, fn.split('/')[-1].split('-')[1])\n",
    "            namePath = np.append(namePath, fn)\n",
    "    return np.array(features), np.array(labels, dtype = np.int), np.array(namePath, dtype=np.string_)"
   ]
  },
  {
   "cell_type": "code",
   "execution_count": null,
   "metadata": {
    "collapsed": true
   },
   "outputs": [],
   "source": []
  }
 ],
 "metadata": {
  "anaconda-cloud": {},
  "kernelspec": {
   "display_name": "Python [conda root]",
   "language": "python",
   "name": "conda-root-py"
  },
  "language_info": {
   "codemirror_mode": {
    "name": "ipython",
    "version": 2
   },
   "file_extension": ".py",
   "mimetype": "text/x-python",
   "name": "python",
   "nbconvert_exporter": "python",
   "pygments_lexer": "ipython2",
   "version": "2.7.12"
  }
 },
 "nbformat": 4,
 "nbformat_minor": 1
}
